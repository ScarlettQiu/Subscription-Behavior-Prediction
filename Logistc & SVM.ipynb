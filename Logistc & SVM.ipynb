{
 "cells": [
  {
   "cell_type": "markdown",
   "id": "f253306d-d71c-49b5-9994-aa60e4b13146",
   "metadata": {},
   "source": [
    "Creator: Yu Qiu  \n",
    "Date: 05/03/2022"
   ]
  },
  {
   "cell_type": "code",
   "execution_count": 1,
   "id": "1e1afb06-139b-4c93-84d9-a9998847b54a",
   "metadata": {},
   "outputs": [],
   "source": [
    "#Import libraries and dataset\n",
    "\n",
    "import seaborn as sns\n",
    "import pandas as pd\n",
    "import numpy as np\n",
    "import matplotlib.pyplot as plt\n"
   ]
  },
  {
   "cell_type": "code",
   "execution_count": 1,
   "id": "7dd63a98-da6a-4c92-bec7-caaa6260c07e",
   "metadata": {},
   "outputs": [
    {
     "ename": "NameError",
     "evalue": "name 'pd' is not defined",
     "output_type": "error",
     "traceback": [
      "\u001b[0;31m---------------------------------------------------------------------------\u001b[0m",
      "\u001b[0;31mNameError\u001b[0m                                 Traceback (most recent call last)",
      "Input \u001b[0;32mIn [1]\u001b[0m, in \u001b[0;36m<cell line: 1>\u001b[0;34m()\u001b[0m\n\u001b[0;32m----> 1\u001b[0m mkt \u001b[38;5;241m=\u001b[39m \u001b[43mpd\u001b[49m\u001b[38;5;241m.\u001b[39mread_excel(\u001b[38;5;124mr\u001b[39m\u001b[38;5;124m'\u001b[39m\u001b[38;5;124m/Users/qiuyu/Desktop/ALY 6020/6020 dataset/6020 Project/marketing_campaign.xlsx\u001b[39m\u001b[38;5;124m'\u001b[39m)\n\u001b[1;32m      2\u001b[0m \u001b[38;5;28mprint\u001b[39m(mkt)\n",
      "\u001b[0;31mNameError\u001b[0m: name 'pd' is not defined"
     ]
    }
   ],
   "source": [
    "mkt = pd.read_excel(r'/Users/qiuyu/Desktop/ALY 6020/6020 dataset/6020 Project/marketing_campaign.xlsx')\n",
    "print(mkt)"
   ]
  },
  {
   "cell_type": "code",
   "execution_count": 3,
   "id": "3a060d2e-18a2-42cc-86b3-270fbe36512c",
   "metadata": {},
   "outputs": [
    {
     "data": {
      "text/html": [
       "<div>\n",
       "<style scoped>\n",
       "    .dataframe tbody tr th:only-of-type {\n",
       "        vertical-align: middle;\n",
       "    }\n",
       "\n",
       "    .dataframe tbody tr th {\n",
       "        vertical-align: top;\n",
       "    }\n",
       "\n",
       "    .dataframe thead th {\n",
       "        text-align: right;\n",
       "    }\n",
       "</style>\n",
       "<table border=\"1\" class=\"dataframe\">\n",
       "  <thead>\n",
       "    <tr style=\"text-align: right;\">\n",
       "      <th></th>\n",
       "      <th>ID</th>\n",
       "      <th>Year_Birth</th>\n",
       "      <th>Education</th>\n",
       "      <th>Marital_Status</th>\n",
       "      <th>Income</th>\n",
       "      <th>Kidhome</th>\n",
       "      <th>Teenhome</th>\n",
       "      <th>Dt_Customer</th>\n",
       "      <th>Recency</th>\n",
       "      <th>MntWines</th>\n",
       "      <th>...</th>\n",
       "      <th>NumWebVisitsMonth</th>\n",
       "      <th>AcceptedCmp3</th>\n",
       "      <th>AcceptedCmp4</th>\n",
       "      <th>AcceptedCmp5</th>\n",
       "      <th>AcceptedCmp1</th>\n",
       "      <th>AcceptedCmp2</th>\n",
       "      <th>Complain</th>\n",
       "      <th>Z_CostContact</th>\n",
       "      <th>Z_Revenue</th>\n",
       "      <th>Response</th>\n",
       "    </tr>\n",
       "  </thead>\n",
       "  <tbody>\n",
       "    <tr>\n",
       "      <th>0</th>\n",
       "      <td>5524</td>\n",
       "      <td>1957</td>\n",
       "      <td>Graduation</td>\n",
       "      <td>Single</td>\n",
       "      <td>58138.0</td>\n",
       "      <td>0</td>\n",
       "      <td>0</td>\n",
       "      <td>2012-09-04</td>\n",
       "      <td>58</td>\n",
       "      <td>635</td>\n",
       "      <td>...</td>\n",
       "      <td>7</td>\n",
       "      <td>0</td>\n",
       "      <td>0</td>\n",
       "      <td>0</td>\n",
       "      <td>0</td>\n",
       "      <td>0</td>\n",
       "      <td>0</td>\n",
       "      <td>3</td>\n",
       "      <td>11</td>\n",
       "      <td>1</td>\n",
       "    </tr>\n",
       "    <tr>\n",
       "      <th>1</th>\n",
       "      <td>2174</td>\n",
       "      <td>1954</td>\n",
       "      <td>Graduation</td>\n",
       "      <td>Single</td>\n",
       "      <td>46344.0</td>\n",
       "      <td>1</td>\n",
       "      <td>1</td>\n",
       "      <td>2014-03-08</td>\n",
       "      <td>38</td>\n",
       "      <td>11</td>\n",
       "      <td>...</td>\n",
       "      <td>5</td>\n",
       "      <td>0</td>\n",
       "      <td>0</td>\n",
       "      <td>0</td>\n",
       "      <td>0</td>\n",
       "      <td>0</td>\n",
       "      <td>0</td>\n",
       "      <td>3</td>\n",
       "      <td>11</td>\n",
       "      <td>0</td>\n",
       "    </tr>\n",
       "    <tr>\n",
       "      <th>2</th>\n",
       "      <td>4141</td>\n",
       "      <td>1965</td>\n",
       "      <td>Graduation</td>\n",
       "      <td>Together</td>\n",
       "      <td>71613.0</td>\n",
       "      <td>0</td>\n",
       "      <td>0</td>\n",
       "      <td>2013-08-21</td>\n",
       "      <td>26</td>\n",
       "      <td>426</td>\n",
       "      <td>...</td>\n",
       "      <td>4</td>\n",
       "      <td>0</td>\n",
       "      <td>0</td>\n",
       "      <td>0</td>\n",
       "      <td>0</td>\n",
       "      <td>0</td>\n",
       "      <td>0</td>\n",
       "      <td>3</td>\n",
       "      <td>11</td>\n",
       "      <td>0</td>\n",
       "    </tr>\n",
       "    <tr>\n",
       "      <th>3</th>\n",
       "      <td>6182</td>\n",
       "      <td>1984</td>\n",
       "      <td>Graduation</td>\n",
       "      <td>Together</td>\n",
       "      <td>26646.0</td>\n",
       "      <td>1</td>\n",
       "      <td>0</td>\n",
       "      <td>2014-02-10</td>\n",
       "      <td>26</td>\n",
       "      <td>11</td>\n",
       "      <td>...</td>\n",
       "      <td>6</td>\n",
       "      <td>0</td>\n",
       "      <td>0</td>\n",
       "      <td>0</td>\n",
       "      <td>0</td>\n",
       "      <td>0</td>\n",
       "      <td>0</td>\n",
       "      <td>3</td>\n",
       "      <td>11</td>\n",
       "      <td>0</td>\n",
       "    </tr>\n",
       "    <tr>\n",
       "      <th>4</th>\n",
       "      <td>5324</td>\n",
       "      <td>1981</td>\n",
       "      <td>PhD</td>\n",
       "      <td>Married</td>\n",
       "      <td>58293.0</td>\n",
       "      <td>1</td>\n",
       "      <td>0</td>\n",
       "      <td>2014-01-19</td>\n",
       "      <td>94</td>\n",
       "      <td>173</td>\n",
       "      <td>...</td>\n",
       "      <td>5</td>\n",
       "      <td>0</td>\n",
       "      <td>0</td>\n",
       "      <td>0</td>\n",
       "      <td>0</td>\n",
       "      <td>0</td>\n",
       "      <td>0</td>\n",
       "      <td>3</td>\n",
       "      <td>11</td>\n",
       "      <td>0</td>\n",
       "    </tr>\n",
       "  </tbody>\n",
       "</table>\n",
       "<p>5 rows × 29 columns</p>\n",
       "</div>"
      ],
      "text/plain": [
       "     ID  Year_Birth   Education Marital_Status   Income  Kidhome  Teenhome  \\\n",
       "0  5524        1957  Graduation         Single  58138.0        0         0   \n",
       "1  2174        1954  Graduation         Single  46344.0        1         1   \n",
       "2  4141        1965  Graduation       Together  71613.0        0         0   \n",
       "3  6182        1984  Graduation       Together  26646.0        1         0   \n",
       "4  5324        1981         PhD        Married  58293.0        1         0   \n",
       "\n",
       "  Dt_Customer  Recency  MntWines  ...  NumWebVisitsMonth  AcceptedCmp3  \\\n",
       "0  2012-09-04       58       635  ...                  7             0   \n",
       "1  2014-03-08       38        11  ...                  5             0   \n",
       "2  2013-08-21       26       426  ...                  4             0   \n",
       "3  2014-02-10       26        11  ...                  6             0   \n",
       "4  2014-01-19       94       173  ...                  5             0   \n",
       "\n",
       "   AcceptedCmp4  AcceptedCmp5  AcceptedCmp1  AcceptedCmp2  Complain  \\\n",
       "0             0             0             0             0         0   \n",
       "1             0             0             0             0         0   \n",
       "2             0             0             0             0         0   \n",
       "3             0             0             0             0         0   \n",
       "4             0             0             0             0         0   \n",
       "\n",
       "   Z_CostContact  Z_Revenue  Response  \n",
       "0              3         11         1  \n",
       "1              3         11         0  \n",
       "2              3         11         0  \n",
       "3              3         11         0  \n",
       "4              3         11         0  \n",
       "\n",
       "[5 rows x 29 columns]"
      ]
     },
     "execution_count": 3,
     "metadata": {},
     "output_type": "execute_result"
    }
   ],
   "source": [
    "mkt.head()"
   ]
  },
  {
   "cell_type": "code",
   "execution_count": 4,
   "id": "c64aa6ed-02ed-409b-93eb-202a2f42ec0c",
   "metadata": {},
   "outputs": [
    {
     "name": "stdout",
     "output_type": "stream",
     "text": [
      "<class 'pandas.core.frame.DataFrame'>\n",
      "RangeIndex: 2240 entries, 0 to 2239\n",
      "Data columns (total 29 columns):\n",
      " #   Column               Non-Null Count  Dtype  \n",
      "---  ------               --------------  -----  \n",
      " 0   ID                   2240 non-null   int64  \n",
      " 1   Year_Birth           2240 non-null   int64  \n",
      " 2   Education            2240 non-null   object \n",
      " 3   Marital_Status       2240 non-null   object \n",
      " 4   Income               2216 non-null   float64\n",
      " 5   Kidhome              2240 non-null   int64  \n",
      " 6   Teenhome             2240 non-null   int64  \n",
      " 7   Dt_Customer          2240 non-null   object \n",
      " 8   Recency              2240 non-null   int64  \n",
      " 9   MntWines             2240 non-null   int64  \n",
      " 10  MntFruits            2240 non-null   int64  \n",
      " 11  MntMeatProducts      2240 non-null   int64  \n",
      " 12  MntFishProducts      2240 non-null   int64  \n",
      " 13  MntSweetProducts     2240 non-null   int64  \n",
      " 14  MntGoldProds         2240 non-null   int64  \n",
      " 15  NumDealsPurchases    2240 non-null   int64  \n",
      " 16  NumWebPurchases      2240 non-null   int64  \n",
      " 17  NumCatalogPurchases  2240 non-null   int64  \n",
      " 18  NumStorePurchases    2240 non-null   int64  \n",
      " 19  NumWebVisitsMonth    2240 non-null   int64  \n",
      " 20  AcceptedCmp3         2240 non-null   int64  \n",
      " 21  AcceptedCmp4         2240 non-null   int64  \n",
      " 22  AcceptedCmp5         2240 non-null   int64  \n",
      " 23  AcceptedCmp1         2240 non-null   int64  \n",
      " 24  AcceptedCmp2         2240 non-null   int64  \n",
      " 25  Complain             2240 non-null   int64  \n",
      " 26  Z_CostContact        2240 non-null   int64  \n",
      " 27  Z_Revenue            2240 non-null   int64  \n",
      " 28  Response             2240 non-null   int64  \n",
      "dtypes: float64(1), int64(25), object(3)\n",
      "memory usage: 507.6+ KB\n"
     ]
    }
   ],
   "source": [
    "mkt.info()"
   ]
  },
  {
   "cell_type": "markdown",
   "id": "45f8c941-8c85-48ec-9946-f365cb6c3ea6",
   "metadata": {},
   "source": [
    "# Data Cleaning"
   ]
  },
  {
   "cell_type": "code",
   "execution_count": 5,
   "id": "f91ae539-6c67-4ab8-b7c2-fb00cde08cd1",
   "metadata": {},
   "outputs": [
    {
     "data": {
      "text/plain": [
       "Income                 0.010714\n",
       "ID                     0.000000\n",
       "NumDealsPurchases      0.000000\n",
       "Z_Revenue              0.000000\n",
       "Z_CostContact          0.000000\n",
       "Complain               0.000000\n",
       "AcceptedCmp2           0.000000\n",
       "AcceptedCmp1           0.000000\n",
       "AcceptedCmp5           0.000000\n",
       "AcceptedCmp4           0.000000\n",
       "AcceptedCmp3           0.000000\n",
       "NumWebVisitsMonth      0.000000\n",
       "NumStorePurchases      0.000000\n",
       "NumCatalogPurchases    0.000000\n",
       "NumWebPurchases        0.000000\n",
       "MntGoldProds           0.000000\n",
       "Year_Birth             0.000000\n",
       "MntSweetProducts       0.000000\n",
       "MntFishProducts        0.000000\n",
       "MntMeatProducts        0.000000\n",
       "MntFruits              0.000000\n",
       "MntWines               0.000000\n",
       "Recency                0.000000\n",
       "Dt_Customer            0.000000\n",
       "Teenhome               0.000000\n",
       "Kidhome                0.000000\n",
       "Marital_Status         0.000000\n",
       "Education              0.000000\n",
       "Response               0.000000\n",
       "dtype: float64"
      ]
     },
     "execution_count": 5,
     "metadata": {},
     "output_type": "execute_result"
    }
   ],
   "source": [
    "#Percetage of missing values \n",
    "mkt.isnull().sum().sort_values(ascending = False)/len(mkt)"
   ]
  },
  {
   "cell_type": "code",
   "execution_count": 6,
   "id": "4965ef97-b296-413e-9dc0-d05ae8f2bfd9",
   "metadata": {},
   "outputs": [
    {
     "data": {
      "text/plain": [
       "array([11])"
      ]
     },
     "execution_count": 6,
     "metadata": {},
     "output_type": "execute_result"
    }
   ],
   "source": [
    "mkt['Z_Revenue'].unique()"
   ]
  },
  {
   "cell_type": "code",
   "execution_count": 7,
   "id": "f9ae28be-5df7-483a-86bb-f0281d077678",
   "metadata": {},
   "outputs": [
    {
     "data": {
      "text/plain": [
       "array([3])"
      ]
     },
     "execution_count": 7,
     "metadata": {},
     "output_type": "execute_result"
    }
   ],
   "source": [
    "mkt['Z_CostContact'].unique()"
   ]
  },
  {
   "cell_type": "code",
   "execution_count": 8,
   "id": "4d80bd2f-7a31-4547-be31-c47d6ef6df55",
   "metadata": {},
   "outputs": [],
   "source": [
    "# Drop Variables\n",
    "mkt.drop('ID', inplace = True, axis =1)\n",
    "mkt.drop('Z_Revenue', inplace = True, axis =1)\n",
    "mkt.drop('Z_CostContact', inplace = True, axis =1)"
   ]
  },
  {
   "cell_type": "code",
   "execution_count": 9,
   "id": "0664842a-0bb5-4605-a195-f1af9fd346e0",
   "metadata": {},
   "outputs": [
    {
     "data": {
      "text/html": [
       "<div>\n",
       "<style scoped>\n",
       "    .dataframe tbody tr th:only-of-type {\n",
       "        vertical-align: middle;\n",
       "    }\n",
       "\n",
       "    .dataframe tbody tr th {\n",
       "        vertical-align: top;\n",
       "    }\n",
       "\n",
       "    .dataframe thead th {\n",
       "        text-align: right;\n",
       "    }\n",
       "</style>\n",
       "<table border=\"1\" class=\"dataframe\">\n",
       "  <thead>\n",
       "    <tr style=\"text-align: right;\">\n",
       "      <th></th>\n",
       "      <th>Year_Birth</th>\n",
       "      <th>Education</th>\n",
       "      <th>Marital_Status</th>\n",
       "      <th>Income</th>\n",
       "      <th>Kidhome</th>\n",
       "      <th>Teenhome</th>\n",
       "      <th>Dt_Customer</th>\n",
       "      <th>Recency</th>\n",
       "      <th>MntWines</th>\n",
       "      <th>MntFruits</th>\n",
       "      <th>...</th>\n",
       "      <th>NumCatalogPurchases</th>\n",
       "      <th>NumStorePurchases</th>\n",
       "      <th>NumWebVisitsMonth</th>\n",
       "      <th>AcceptedCmp3</th>\n",
       "      <th>AcceptedCmp4</th>\n",
       "      <th>AcceptedCmp5</th>\n",
       "      <th>AcceptedCmp1</th>\n",
       "      <th>AcceptedCmp2</th>\n",
       "      <th>Complain</th>\n",
       "      <th>Response</th>\n",
       "    </tr>\n",
       "  </thead>\n",
       "  <tbody>\n",
       "    <tr>\n",
       "      <th>0</th>\n",
       "      <td>1957</td>\n",
       "      <td>Graduation</td>\n",
       "      <td>Single</td>\n",
       "      <td>58138.0</td>\n",
       "      <td>0</td>\n",
       "      <td>0</td>\n",
       "      <td>2012-09-04</td>\n",
       "      <td>58</td>\n",
       "      <td>635</td>\n",
       "      <td>88</td>\n",
       "      <td>...</td>\n",
       "      <td>10</td>\n",
       "      <td>4</td>\n",
       "      <td>7</td>\n",
       "      <td>0</td>\n",
       "      <td>0</td>\n",
       "      <td>0</td>\n",
       "      <td>0</td>\n",
       "      <td>0</td>\n",
       "      <td>0</td>\n",
       "      <td>1</td>\n",
       "    </tr>\n",
       "    <tr>\n",
       "      <th>1</th>\n",
       "      <td>1954</td>\n",
       "      <td>Graduation</td>\n",
       "      <td>Single</td>\n",
       "      <td>46344.0</td>\n",
       "      <td>1</td>\n",
       "      <td>1</td>\n",
       "      <td>2014-03-08</td>\n",
       "      <td>38</td>\n",
       "      <td>11</td>\n",
       "      <td>1</td>\n",
       "      <td>...</td>\n",
       "      <td>1</td>\n",
       "      <td>2</td>\n",
       "      <td>5</td>\n",
       "      <td>0</td>\n",
       "      <td>0</td>\n",
       "      <td>0</td>\n",
       "      <td>0</td>\n",
       "      <td>0</td>\n",
       "      <td>0</td>\n",
       "      <td>0</td>\n",
       "    </tr>\n",
       "    <tr>\n",
       "      <th>2</th>\n",
       "      <td>1965</td>\n",
       "      <td>Graduation</td>\n",
       "      <td>Together</td>\n",
       "      <td>71613.0</td>\n",
       "      <td>0</td>\n",
       "      <td>0</td>\n",
       "      <td>2013-08-21</td>\n",
       "      <td>26</td>\n",
       "      <td>426</td>\n",
       "      <td>49</td>\n",
       "      <td>...</td>\n",
       "      <td>2</td>\n",
       "      <td>10</td>\n",
       "      <td>4</td>\n",
       "      <td>0</td>\n",
       "      <td>0</td>\n",
       "      <td>0</td>\n",
       "      <td>0</td>\n",
       "      <td>0</td>\n",
       "      <td>0</td>\n",
       "      <td>0</td>\n",
       "    </tr>\n",
       "    <tr>\n",
       "      <th>3</th>\n",
       "      <td>1984</td>\n",
       "      <td>Graduation</td>\n",
       "      <td>Together</td>\n",
       "      <td>26646.0</td>\n",
       "      <td>1</td>\n",
       "      <td>0</td>\n",
       "      <td>2014-02-10</td>\n",
       "      <td>26</td>\n",
       "      <td>11</td>\n",
       "      <td>4</td>\n",
       "      <td>...</td>\n",
       "      <td>0</td>\n",
       "      <td>4</td>\n",
       "      <td>6</td>\n",
       "      <td>0</td>\n",
       "      <td>0</td>\n",
       "      <td>0</td>\n",
       "      <td>0</td>\n",
       "      <td>0</td>\n",
       "      <td>0</td>\n",
       "      <td>0</td>\n",
       "    </tr>\n",
       "    <tr>\n",
       "      <th>4</th>\n",
       "      <td>1981</td>\n",
       "      <td>PhD</td>\n",
       "      <td>Married</td>\n",
       "      <td>58293.0</td>\n",
       "      <td>1</td>\n",
       "      <td>0</td>\n",
       "      <td>2014-01-19</td>\n",
       "      <td>94</td>\n",
       "      <td>173</td>\n",
       "      <td>43</td>\n",
       "      <td>...</td>\n",
       "      <td>3</td>\n",
       "      <td>6</td>\n",
       "      <td>5</td>\n",
       "      <td>0</td>\n",
       "      <td>0</td>\n",
       "      <td>0</td>\n",
       "      <td>0</td>\n",
       "      <td>0</td>\n",
       "      <td>0</td>\n",
       "      <td>0</td>\n",
       "    </tr>\n",
       "  </tbody>\n",
       "</table>\n",
       "<p>5 rows × 26 columns</p>\n",
       "</div>"
      ],
      "text/plain": [
       "   Year_Birth   Education Marital_Status   Income  Kidhome  Teenhome  \\\n",
       "0        1957  Graduation         Single  58138.0        0         0   \n",
       "1        1954  Graduation         Single  46344.0        1         1   \n",
       "2        1965  Graduation       Together  71613.0        0         0   \n",
       "3        1984  Graduation       Together  26646.0        1         0   \n",
       "4        1981         PhD        Married  58293.0        1         0   \n",
       "\n",
       "  Dt_Customer  Recency  MntWines  MntFruits  ...  NumCatalogPurchases  \\\n",
       "0  2012-09-04       58       635         88  ...                   10   \n",
       "1  2014-03-08       38        11          1  ...                    1   \n",
       "2  2013-08-21       26       426         49  ...                    2   \n",
       "3  2014-02-10       26        11          4  ...                    0   \n",
       "4  2014-01-19       94       173         43  ...                    3   \n",
       "\n",
       "   NumStorePurchases  NumWebVisitsMonth  AcceptedCmp3  AcceptedCmp4  \\\n",
       "0                  4                  7             0             0   \n",
       "1                  2                  5             0             0   \n",
       "2                 10                  4             0             0   \n",
       "3                  4                  6             0             0   \n",
       "4                  6                  5             0             0   \n",
       "\n",
       "   AcceptedCmp5  AcceptedCmp1  AcceptedCmp2  Complain  Response  \n",
       "0             0             0             0         0         1  \n",
       "1             0             0             0         0         0  \n",
       "2             0             0             0         0         0  \n",
       "3             0             0             0         0         0  \n",
       "4             0             0             0         0         0  \n",
       "\n",
       "[5 rows x 26 columns]"
      ]
     },
     "execution_count": 9,
     "metadata": {},
     "output_type": "execute_result"
    }
   ],
   "source": [
    "mkt.head()"
   ]
  },
  {
   "cell_type": "code",
   "execution_count": 10,
   "id": "deb57118-3cd0-4714-b319-b856e0964d4d",
   "metadata": {},
   "outputs": [],
   "source": [
    "#Impute missing values with Median\n",
    "mkt['Income'] = mkt['Income'].fillna((mkt['Income'].median()))"
   ]
  },
  {
   "cell_type": "code",
   "execution_count": 11,
   "id": "b7fad584-feb5-4097-9ca1-4d56d012b90f",
   "metadata": {},
   "outputs": [
    {
     "name": "stdout",
     "output_type": "stream",
     "text": [
      "<class 'pandas.core.frame.DataFrame'>\n",
      "RangeIndex: 2240 entries, 0 to 2239\n",
      "Data columns (total 26 columns):\n",
      " #   Column               Non-Null Count  Dtype  \n",
      "---  ------               --------------  -----  \n",
      " 0   Year_Birth           2240 non-null   int64  \n",
      " 1   Education            2240 non-null   object \n",
      " 2   Marital_Status       2240 non-null   object \n",
      " 3   Income               2240 non-null   float64\n",
      " 4   Kidhome              2240 non-null   int64  \n",
      " 5   Teenhome             2240 non-null   int64  \n",
      " 6   Dt_Customer          2240 non-null   object \n",
      " 7   Recency              2240 non-null   int64  \n",
      " 8   MntWines             2240 non-null   int64  \n",
      " 9   MntFruits            2240 non-null   int64  \n",
      " 10  MntMeatProducts      2240 non-null   int64  \n",
      " 11  MntFishProducts      2240 non-null   int64  \n",
      " 12  MntSweetProducts     2240 non-null   int64  \n",
      " 13  MntGoldProds         2240 non-null   int64  \n",
      " 14  NumDealsPurchases    2240 non-null   int64  \n",
      " 15  NumWebPurchases      2240 non-null   int64  \n",
      " 16  NumCatalogPurchases  2240 non-null   int64  \n",
      " 17  NumStorePurchases    2240 non-null   int64  \n",
      " 18  NumWebVisitsMonth    2240 non-null   int64  \n",
      " 19  AcceptedCmp3         2240 non-null   int64  \n",
      " 20  AcceptedCmp4         2240 non-null   int64  \n",
      " 21  AcceptedCmp5         2240 non-null   int64  \n",
      " 22  AcceptedCmp1         2240 non-null   int64  \n",
      " 23  AcceptedCmp2         2240 non-null   int64  \n",
      " 24  Complain             2240 non-null   int64  \n",
      " 25  Response             2240 non-null   int64  \n",
      "dtypes: float64(1), int64(22), object(3)\n",
      "memory usage: 455.1+ KB\n"
     ]
    }
   ],
   "source": [
    "mkt.info()"
   ]
  },
  {
   "cell_type": "code",
   "execution_count": 12,
   "id": "529ae24c-fc39-4c7e-85f0-67cfdf45c5e2",
   "metadata": {},
   "outputs": [],
   "source": [
    "# Transfrom Date variable into days\n",
    "import datetime\n",
    "date_object = datetime.date.today()\n",
    "mkt['Dt_Customer'] = pd.to_datetime(mkt['Dt_Customer'])\n",
    "mkt['Dt_Customer']\n",
    "date_object = pd.to_datetime(date_object)\n",
    "mkt['Dt_Customer']=(date_object-mkt['Dt_Customer']).dt.days\n",
    "mkt = mkt.rename(columns = {\"Dt_Customer\":\"Days\"})"
   ]
  },
  {
   "cell_type": "code",
   "execution_count": 13,
   "id": "92295b14-9f63-484f-bdc8-ae883dba2d84",
   "metadata": {},
   "outputs": [
    {
     "data": {
      "text/html": [
       "<div>\n",
       "<style scoped>\n",
       "    .dataframe tbody tr th:only-of-type {\n",
       "        vertical-align: middle;\n",
       "    }\n",
       "\n",
       "    .dataframe tbody tr th {\n",
       "        vertical-align: top;\n",
       "    }\n",
       "\n",
       "    .dataframe thead th {\n",
       "        text-align: right;\n",
       "    }\n",
       "</style>\n",
       "<table border=\"1\" class=\"dataframe\">\n",
       "  <thead>\n",
       "    <tr style=\"text-align: right;\">\n",
       "      <th></th>\n",
       "      <th>Year_Birth</th>\n",
       "      <th>Education</th>\n",
       "      <th>Marital_Status</th>\n",
       "      <th>Income</th>\n",
       "      <th>Kidhome</th>\n",
       "      <th>Teenhome</th>\n",
       "      <th>Days</th>\n",
       "      <th>Recency</th>\n",
       "      <th>MntWines</th>\n",
       "      <th>MntFruits</th>\n",
       "      <th>...</th>\n",
       "      <th>NumCatalogPurchases</th>\n",
       "      <th>NumStorePurchases</th>\n",
       "      <th>NumWebVisitsMonth</th>\n",
       "      <th>AcceptedCmp3</th>\n",
       "      <th>AcceptedCmp4</th>\n",
       "      <th>AcceptedCmp5</th>\n",
       "      <th>AcceptedCmp1</th>\n",
       "      <th>AcceptedCmp2</th>\n",
       "      <th>Complain</th>\n",
       "      <th>Response</th>\n",
       "    </tr>\n",
       "  </thead>\n",
       "  <tbody>\n",
       "    <tr>\n",
       "      <th>0</th>\n",
       "      <td>1957</td>\n",
       "      <td>Graduation</td>\n",
       "      <td>Single</td>\n",
       "      <td>58138.0</td>\n",
       "      <td>0</td>\n",
       "      <td>0</td>\n",
       "      <td>3530</td>\n",
       "      <td>58</td>\n",
       "      <td>635</td>\n",
       "      <td>88</td>\n",
       "      <td>...</td>\n",
       "      <td>10</td>\n",
       "      <td>4</td>\n",
       "      <td>7</td>\n",
       "      <td>0</td>\n",
       "      <td>0</td>\n",
       "      <td>0</td>\n",
       "      <td>0</td>\n",
       "      <td>0</td>\n",
       "      <td>0</td>\n",
       "      <td>1</td>\n",
       "    </tr>\n",
       "    <tr>\n",
       "      <th>1</th>\n",
       "      <td>1954</td>\n",
       "      <td>Graduation</td>\n",
       "      <td>Single</td>\n",
       "      <td>46344.0</td>\n",
       "      <td>1</td>\n",
       "      <td>1</td>\n",
       "      <td>2980</td>\n",
       "      <td>38</td>\n",
       "      <td>11</td>\n",
       "      <td>1</td>\n",
       "      <td>...</td>\n",
       "      <td>1</td>\n",
       "      <td>2</td>\n",
       "      <td>5</td>\n",
       "      <td>0</td>\n",
       "      <td>0</td>\n",
       "      <td>0</td>\n",
       "      <td>0</td>\n",
       "      <td>0</td>\n",
       "      <td>0</td>\n",
       "      <td>0</td>\n",
       "    </tr>\n",
       "    <tr>\n",
       "      <th>2</th>\n",
       "      <td>1965</td>\n",
       "      <td>Graduation</td>\n",
       "      <td>Together</td>\n",
       "      <td>71613.0</td>\n",
       "      <td>0</td>\n",
       "      <td>0</td>\n",
       "      <td>3179</td>\n",
       "      <td>26</td>\n",
       "      <td>426</td>\n",
       "      <td>49</td>\n",
       "      <td>...</td>\n",
       "      <td>2</td>\n",
       "      <td>10</td>\n",
       "      <td>4</td>\n",
       "      <td>0</td>\n",
       "      <td>0</td>\n",
       "      <td>0</td>\n",
       "      <td>0</td>\n",
       "      <td>0</td>\n",
       "      <td>0</td>\n",
       "      <td>0</td>\n",
       "    </tr>\n",
       "    <tr>\n",
       "      <th>3</th>\n",
       "      <td>1984</td>\n",
       "      <td>Graduation</td>\n",
       "      <td>Together</td>\n",
       "      <td>26646.0</td>\n",
       "      <td>1</td>\n",
       "      <td>0</td>\n",
       "      <td>3006</td>\n",
       "      <td>26</td>\n",
       "      <td>11</td>\n",
       "      <td>4</td>\n",
       "      <td>...</td>\n",
       "      <td>0</td>\n",
       "      <td>4</td>\n",
       "      <td>6</td>\n",
       "      <td>0</td>\n",
       "      <td>0</td>\n",
       "      <td>0</td>\n",
       "      <td>0</td>\n",
       "      <td>0</td>\n",
       "      <td>0</td>\n",
       "      <td>0</td>\n",
       "    </tr>\n",
       "    <tr>\n",
       "      <th>4</th>\n",
       "      <td>1981</td>\n",
       "      <td>PhD</td>\n",
       "      <td>Married</td>\n",
       "      <td>58293.0</td>\n",
       "      <td>1</td>\n",
       "      <td>0</td>\n",
       "      <td>3028</td>\n",
       "      <td>94</td>\n",
       "      <td>173</td>\n",
       "      <td>43</td>\n",
       "      <td>...</td>\n",
       "      <td>3</td>\n",
       "      <td>6</td>\n",
       "      <td>5</td>\n",
       "      <td>0</td>\n",
       "      <td>0</td>\n",
       "      <td>0</td>\n",
       "      <td>0</td>\n",
       "      <td>0</td>\n",
       "      <td>0</td>\n",
       "      <td>0</td>\n",
       "    </tr>\n",
       "  </tbody>\n",
       "</table>\n",
       "<p>5 rows × 26 columns</p>\n",
       "</div>"
      ],
      "text/plain": [
       "   Year_Birth   Education Marital_Status   Income  Kidhome  Teenhome  Days  \\\n",
       "0        1957  Graduation         Single  58138.0        0         0  3530   \n",
       "1        1954  Graduation         Single  46344.0        1         1  2980   \n",
       "2        1965  Graduation       Together  71613.0        0         0  3179   \n",
       "3        1984  Graduation       Together  26646.0        1         0  3006   \n",
       "4        1981         PhD        Married  58293.0        1         0  3028   \n",
       "\n",
       "   Recency  MntWines  MntFruits  ...  NumCatalogPurchases  NumStorePurchases  \\\n",
       "0       58       635         88  ...                   10                  4   \n",
       "1       38        11          1  ...                    1                  2   \n",
       "2       26       426         49  ...                    2                 10   \n",
       "3       26        11          4  ...                    0                  4   \n",
       "4       94       173         43  ...                    3                  6   \n",
       "\n",
       "   NumWebVisitsMonth  AcceptedCmp3  AcceptedCmp4  AcceptedCmp5  AcceptedCmp1  \\\n",
       "0                  7             0             0             0             0   \n",
       "1                  5             0             0             0             0   \n",
       "2                  4             0             0             0             0   \n",
       "3                  6             0             0             0             0   \n",
       "4                  5             0             0             0             0   \n",
       "\n",
       "   AcceptedCmp2  Complain  Response  \n",
       "0             0         0         1  \n",
       "1             0         0         0  \n",
       "2             0         0         0  \n",
       "3             0         0         0  \n",
       "4             0         0         0  \n",
       "\n",
       "[5 rows x 26 columns]"
      ]
     },
     "execution_count": 13,
     "metadata": {},
     "output_type": "execute_result"
    }
   ],
   "source": [
    "mkt.head()"
   ]
  },
  {
   "cell_type": "code",
   "execution_count": 14,
   "id": "950eb11d-6cef-48dc-ab41-6e3eaad26eee",
   "metadata": {},
   "outputs": [
    {
     "name": "stdout",
     "output_type": "stream",
     "text": [
      "<class 'pandas.core.frame.DataFrame'>\n",
      "RangeIndex: 2240 entries, 0 to 2239\n",
      "Data columns (total 26 columns):\n",
      " #   Column               Non-Null Count  Dtype  \n",
      "---  ------               --------------  -----  \n",
      " 0   Year_Birth           2240 non-null   int64  \n",
      " 1   Education            2240 non-null   object \n",
      " 2   Marital_Status       2240 non-null   object \n",
      " 3   Income               2240 non-null   float64\n",
      " 4   Kidhome              2240 non-null   int64  \n",
      " 5   Teenhome             2240 non-null   int64  \n",
      " 6   Days                 2240 non-null   int64  \n",
      " 7   Recency              2240 non-null   int64  \n",
      " 8   MntWines             2240 non-null   int64  \n",
      " 9   MntFruits            2240 non-null   int64  \n",
      " 10  MntMeatProducts      2240 non-null   int64  \n",
      " 11  MntFishProducts      2240 non-null   int64  \n",
      " 12  MntSweetProducts     2240 non-null   int64  \n",
      " 13  MntGoldProds         2240 non-null   int64  \n",
      " 14  NumDealsPurchases    2240 non-null   int64  \n",
      " 15  NumWebPurchases      2240 non-null   int64  \n",
      " 16  NumCatalogPurchases  2240 non-null   int64  \n",
      " 17  NumStorePurchases    2240 non-null   int64  \n",
      " 18  NumWebVisitsMonth    2240 non-null   int64  \n",
      " 19  AcceptedCmp3         2240 non-null   int64  \n",
      " 20  AcceptedCmp4         2240 non-null   int64  \n",
      " 21  AcceptedCmp5         2240 non-null   int64  \n",
      " 22  AcceptedCmp1         2240 non-null   int64  \n",
      " 23  AcceptedCmp2         2240 non-null   int64  \n",
      " 24  Complain             2240 non-null   int64  \n",
      " 25  Response             2240 non-null   int64  \n",
      "dtypes: float64(1), int64(23), object(2)\n",
      "memory usage: 455.1+ KB\n"
     ]
    }
   ],
   "source": [
    "mkt.info()"
   ]
  },
  {
   "cell_type": "markdown",
   "id": "c1fab6e2-0d15-45de-96ad-8db2daedd796",
   "metadata": {},
   "source": [
    "# Exploratory Data Analysis"
   ]
  },
  {
   "cell_type": "code",
   "execution_count": 15,
   "id": "351470ea-a4a8-4980-a5ce-8ad329fa9597",
   "metadata": {},
   "outputs": [
    {
     "data": {
      "text/plain": [
       "0    1906\n",
       "1     334\n",
       "Name: Response, dtype: int64"
      ]
     },
     "execution_count": 15,
     "metadata": {},
     "output_type": "execute_result"
    }
   ],
   "source": [
    "mkt['Response'].value_counts()"
   ]
  },
  {
   "cell_type": "code",
   "execution_count": 19,
   "id": "813c51f3-b6a8-4c9d-a215-5104655d6f47",
   "metadata": {},
   "outputs": [
    {
     "data": {
      "image/png": "[encoded data removed]",
      "text/plain": [
       "<Figure size 432x288 with 1 Axes>"
      ]
     },
     "metadata": {
      "needs_background": "light"
     },
     "output_type": "display_data"
    }
   ],
   "source": [
    "sns.countplot(x='Response', data = mkt, color = \"lightblue\")\n",
    "plt.title('Number of Responses', fontsize = 14)\n",
    "plt.ylabel('Number of Customers', fontsize = 14)\n",
    "plt.xlabel('Response', fontsize = 14)\n",
    "plt.show()"
   ]
  },
  {
   "cell_type": "code",
   "execution_count": 432,
   "id": "716c05a7-c532-4121-9071-1400d8b31d40",
   "metadata": {},
   "outputs": [
    {
     "data": {
      "text/html": [
       "<div>\n",
       "<style scoped>\n",
       "    .dataframe tbody tr th:only-of-type {\n",
       "        vertical-align: middle;\n",
       "    }\n",
       "\n",
       "    .dataframe tbody tr th {\n",
       "        vertical-align: top;\n",
       "    }\n",
       "\n",
       "    .dataframe thead th {\n",
       "        text-align: right;\n",
       "    }\n",
       "</style>\n",
       "<table border=\"1\" class=\"dataframe\">\n",
       "  <thead>\n",
       "    <tr style=\"text-align: right;\">\n",
       "      <th>Response</th>\n",
       "      <th>0</th>\n",
       "      <th>1</th>\n",
       "    </tr>\n",
       "    <tr>\n",
       "      <th>AcceptedCmp1</th>\n",
       "      <th></th>\n",
       "      <th></th>\n",
       "    </tr>\n",
       "  </thead>\n",
       "  <tbody>\n",
       "    <tr>\n",
       "      <th>0</th>\n",
       "      <td>0.965897</td>\n",
       "      <td>0.763473</td>\n",
       "    </tr>\n",
       "    <tr>\n",
       "      <th>1</th>\n",
       "      <td>0.034103</td>\n",
       "      <td>0.236527</td>\n",
       "    </tr>\n",
       "  </tbody>\n",
       "</table>\n",
       "</div>"
      ],
      "text/plain": [
       "Response             0         1\n",
       "AcceptedCmp1                    \n",
       "0             0.965897  0.763473\n",
       "1             0.034103  0.236527"
      ]
     },
     "execution_count": 432,
     "metadata": {},
     "output_type": "execute_result"
    }
   ],
   "source": [
    "pd.crosstab(mkt.AcceptedCmp1, mkt.Response, normalize='columns')"
   ]
  },
  {
   "cell_type": "code",
   "execution_count": 433,
   "id": "7387f3fa-a18d-4b7a-8b8b-d1f7f31af039",
   "metadata": {},
   "outputs": [
    {
     "data": {
      "text/plain": [
       "0    2096\n",
       "1     144\n",
       "Name: AcceptedCmp1, dtype: int64"
      ]
     },
     "execution_count": 433,
     "metadata": {},
     "output_type": "execute_result"
    }
   ],
   "source": [
    "mkt['AcceptedCmp1'].value_counts()"
   ]
  },
  {
   "cell_type": "code",
   "execution_count": 586,
   "id": "5319bf8b-bf70-4d7e-9ebd-435b020dd0d6",
   "metadata": {},
   "outputs": [
    {
     "data": {
      "image/png": "[encoded data removed]",
      "text/plain": [
       "<Figure size 432x288 with 1 Axes>"
      ]
     },
     "metadata": {
      "needs_background": "light"
     },
     "output_type": "display_data"
    }
   ],
   "source": [
    "sns.countplot(x='AcceptedCmp1', data = mkt, palette='pastel', hue = 'Response')\n",
    "plt.title('Number of Responses by Accepted Campaign 1', fontsize = 14)\n",
    "plt.ylabel('Number of Customers', fontsize = 14)\n",
    "plt.xlabel('Accepted Campaign 1', fontsize = 14)\n",
    "plt.legend(title='Response', labels=['No', 'Yes'])\n",
    "plt.show()"
   ]
  },
  {
   "cell_type": "code",
   "execution_count": 435,
   "id": "5f3d594e-9a1a-4136-b8fa-51d8db090e84",
   "metadata": {},
   "outputs": [
    {
     "data": {
      "text/html": [
       "<div>\n",
       "<style scoped>\n",
       "    .dataframe tbody tr th:only-of-type {\n",
       "        vertical-align: middle;\n",
       "    }\n",
       "\n",
       "    .dataframe tbody tr th {\n",
       "        vertical-align: top;\n",
       "    }\n",
       "\n",
       "    .dataframe thead th {\n",
       "        text-align: right;\n",
       "    }\n",
       "</style>\n",
       "<table border=\"1\" class=\"dataframe\">\n",
       "  <thead>\n",
       "    <tr style=\"text-align: right;\">\n",
       "      <th>Response</th>\n",
       "      <th>0</th>\n",
       "      <th>1</th>\n",
       "    </tr>\n",
       "    <tr>\n",
       "      <th>AcceptedCmp2</th>\n",
       "      <th></th>\n",
       "      <th></th>\n",
       "    </tr>\n",
       "  </thead>\n",
       "  <tbody>\n",
       "    <tr>\n",
       "      <th>0</th>\n",
       "      <td>0.994753</td>\n",
       "      <td>0.94012</td>\n",
       "    </tr>\n",
       "    <tr>\n",
       "      <th>1</th>\n",
       "      <td>0.005247</td>\n",
       "      <td>0.05988</td>\n",
       "    </tr>\n",
       "  </tbody>\n",
       "</table>\n",
       "</div>"
      ],
      "text/plain": [
       "Response             0        1\n",
       "AcceptedCmp2                   \n",
       "0             0.994753  0.94012\n",
       "1             0.005247  0.05988"
      ]
     },
     "execution_count": 435,
     "metadata": {},
     "output_type": "execute_result"
    }
   ],
   "source": [
    "pd.crosstab(mkt.AcceptedCmp2, mkt.Response, normalize='columns')"
   ]
  },
  {
   "cell_type": "code",
   "execution_count": 436,
   "id": "6b128f98-081d-4c51-8180-0f860ab18ddb",
   "metadata": {},
   "outputs": [
    {
     "data": {
      "text/plain": [
       "0    2210\n",
       "1      30\n",
       "Name: AcceptedCmp2, dtype: int64"
      ]
     },
     "execution_count": 436,
     "metadata": {},
     "output_type": "execute_result"
    }
   ],
   "source": [
    "mkt['AcceptedCmp2'].value_counts()"
   ]
  },
  {
   "cell_type": "code",
   "execution_count": 587,
   "id": "26ab3c95-4d8c-4aa1-9eeb-113dc4b516b8",
   "metadata": {},
   "outputs": [
    {
     "data": {
      "image/png": "[encoded data removed]",
      "text/plain": [
       "<Figure size 432x288 with 1 Axes>"
      ]
     },
     "metadata": {
      "needs_background": "light"
     },
     "output_type": "display_data"
    }
   ],
   "source": [
    "sns.countplot(x='AcceptedCmp2', data = mkt, palette='pastel', hue = 'Response')\n",
    "plt.title('Number of Responses by Accepted Campaign 2', fontsize = 14)\n",
    "plt.ylabel('Number of Customers', fontsize = 14)\n",
    "plt.xlabel('Accepted Campaign 2', fontsize = 14)\n",
    "plt.legend(title='Response', labels=['No', 'Yes'])\n",
    "plt.show()"
   ]
  },
  {
   "cell_type": "code",
   "execution_count": 438,
   "id": "03aaf396-b79e-4352-ad56-50b30d04f169",
   "metadata": {},
   "outputs": [
    {
     "data": {
      "text/html": [
       "<div>\n",
       "<style scoped>\n",
       "    .dataframe tbody tr th:only-of-type {\n",
       "        vertical-align: middle;\n",
       "    }\n",
       "\n",
       "    .dataframe tbody tr th {\n",
       "        vertical-align: top;\n",
       "    }\n",
       "\n",
       "    .dataframe thead th {\n",
       "        text-align: right;\n",
       "    }\n",
       "</style>\n",
       "<table border=\"1\" class=\"dataframe\">\n",
       "  <thead>\n",
       "    <tr style=\"text-align: right;\">\n",
       "      <th>Response</th>\n",
       "      <th>0</th>\n",
       "      <th>1</th>\n",
       "    </tr>\n",
       "    <tr>\n",
       "      <th>AcceptedCmp3</th>\n",
       "      <th></th>\n",
       "      <th></th>\n",
       "    </tr>\n",
       "  </thead>\n",
       "  <tbody>\n",
       "    <tr>\n",
       "      <th>0</th>\n",
       "      <td>0.954879</td>\n",
       "      <td>0.769461</td>\n",
       "    </tr>\n",
       "    <tr>\n",
       "      <th>1</th>\n",
       "      <td>0.045121</td>\n",
       "      <td>0.230539</td>\n",
       "    </tr>\n",
       "  </tbody>\n",
       "</table>\n",
       "</div>"
      ],
      "text/plain": [
       "Response             0         1\n",
       "AcceptedCmp3                    \n",
       "0             0.954879  0.769461\n",
       "1             0.045121  0.230539"
      ]
     },
     "execution_count": 438,
     "metadata": {},
     "output_type": "execute_result"
    }
   ],
   "source": [
    "pd.crosstab(mkt.AcceptedCmp3, mkt.Response, normalize='columns')"
   ]
  },
  {
   "cell_type": "code",
   "execution_count": 439,
   "id": "544715fb-23d7-45d0-8c10-60f1cfb9d64e",
   "metadata": {},
   "outputs": [
    {
     "data": {
      "text/plain": [
       "0    2077\n",
       "1     163\n",
       "Name: AcceptedCmp3, dtype: int64"
      ]
     },
     "execution_count": 439,
     "metadata": {},
     "output_type": "execute_result"
    }
   ],
   "source": [
    "mkt['AcceptedCmp3'].value_counts()"
   ]
  },
  {
   "cell_type": "code",
   "execution_count": 588,
   "id": "17ef70c7-0d73-4c44-bce1-9f4e3e0f55db",
   "metadata": {},
   "outputs": [
    {
     "data": {
      "image/png": "[encoded data removed]",
      "text/plain": [
       "<Figure size 432x288 with 1 Axes>"
      ]
     },
     "metadata": {
      "needs_background": "light"
     },
     "output_type": "display_data"
    }
   ],
   "source": [
    "sns.countplot(x='AcceptedCmp3', data = mkt, palette='pastel', hue = 'Response')\n",
    "plt.title('Number of Responses by Accepted Campaign 3', fontsize = 14)\n",
    "plt.ylabel('Number of Customers', fontsize = 14)\n",
    "plt.xlabel('Accepted Campaign 3', fontsize = 14)\n",
    "plt.legend(title='Response', labels=['No', 'Yes'])\n",
    "plt.show()"
   ]
  },
  {
   "cell_type": "code",
   "execution_count": 441,
   "id": "cbff662c-2712-4fc7-9d16-b4325962ef5f",
   "metadata": {},
   "outputs": [
    {
     "data": {
      "text/html": [
       "<div>\n",
       "<style scoped>\n",
       "    .dataframe tbody tr th:only-of-type {\n",
       "        vertical-align: middle;\n",
       "    }\n",
       "\n",
       "    .dataframe tbody tr th {\n",
       "        vertical-align: top;\n",
       "    }\n",
       "\n",
       "    .dataframe thead th {\n",
       "        text-align: right;\n",
       "    }\n",
       "</style>\n",
       "<table border=\"1\" class=\"dataframe\">\n",
       "  <thead>\n",
       "    <tr style=\"text-align: right;\">\n",
       "      <th>Response</th>\n",
       "      <th>0</th>\n",
       "      <th>1</th>\n",
       "    </tr>\n",
       "    <tr>\n",
       "      <th>AcceptedCmp4</th>\n",
       "      <th></th>\n",
       "      <th></th>\n",
       "    </tr>\n",
       "  </thead>\n",
       "  <tbody>\n",
       "    <tr>\n",
       "      <th>0</th>\n",
       "      <td>0.944911</td>\n",
       "      <td>0.814371</td>\n",
       "    </tr>\n",
       "    <tr>\n",
       "      <th>1</th>\n",
       "      <td>0.055089</td>\n",
       "      <td>0.185629</td>\n",
       "    </tr>\n",
       "  </tbody>\n",
       "</table>\n",
       "</div>"
      ],
      "text/plain": [
       "Response             0         1\n",
       "AcceptedCmp4                    \n",
       "0             0.944911  0.814371\n",
       "1             0.055089  0.185629"
      ]
     },
     "execution_count": 441,
     "metadata": {},
     "output_type": "execute_result"
    }
   ],
   "source": [
    "pd.crosstab(mkt.AcceptedCmp4, mkt.Response, normalize='columns')"
   ]
  },
  {
   "cell_type": "code",
   "execution_count": 442,
   "id": "80af11fd-e49d-4ff3-be0e-d848100ce1ce",
   "metadata": {},
   "outputs": [
    {
     "data": {
      "text/plain": [
       "0    2073\n",
       "1     167\n",
       "Name: AcceptedCmp4, dtype: int64"
      ]
     },
     "execution_count": 442,
     "metadata": {},
     "output_type": "execute_result"
    }
   ],
   "source": [
    "mkt['AcceptedCmp4'].value_counts()"
   ]
  },
  {
   "cell_type": "code",
   "execution_count": 592,
   "id": "ff2156b4-593f-479f-b57b-f026d5ff143c",
   "metadata": {},
   "outputs": [
    {
     "data": {
      "image/png": "[encoded data removed]",
      "text/plain": [
       "<Figure size 432x288 with 1 Axes>"
      ]
     },
     "metadata": {
      "needs_background": "light"
     },
     "output_type": "display_data"
    }
   ],
   "source": [
    "sns.countplot(x='AcceptedCmp4', data = mkt, palette='pastel', hue = 'Response')\n",
    "plt.title('Number of Responses by Accepted Campaign 4', fontsize = 14)\n",
    "plt.ylabel('Number of Customers', fontsize = 14)\n",
    "plt.xlabel('Accepted Campaign 4', fontsize = 14)\n",
    "plt.legend(title='Response', labels=['No', 'Yes'])\n",
    "plt.show()"
   ]
  },
  {
   "cell_type": "code",
   "execution_count": 444,
   "id": "dad0aae2-4c2e-4683-8dc6-d03023476769",
   "metadata": {},
   "outputs": [
    {
     "data": {
      "text/html": [
       "<div>\n",
       "<style scoped>\n",
       "    .dataframe tbody tr th:only-of-type {\n",
       "        vertical-align: middle;\n",
       "    }\n",
       "\n",
       "    .dataframe tbody tr th {\n",
       "        vertical-align: top;\n",
       "    }\n",
       "\n",
       "    .dataframe thead th {\n",
       "        text-align: right;\n",
       "    }\n",
       "</style>\n",
       "<table border=\"1\" class=\"dataframe\">\n",
       "  <thead>\n",
       "    <tr style=\"text-align: right;\">\n",
       "      <th>Response</th>\n",
       "      <th>0</th>\n",
       "      <th>1</th>\n",
       "    </tr>\n",
       "    <tr>\n",
       "      <th>AcceptedCmp5</th>\n",
       "      <th></th>\n",
       "      <th></th>\n",
       "    </tr>\n",
       "  </thead>\n",
       "  <tbody>\n",
       "    <tr>\n",
       "      <th>0</th>\n",
       "      <td>0.962749</td>\n",
       "      <td>0.724551</td>\n",
       "    </tr>\n",
       "    <tr>\n",
       "      <th>1</th>\n",
       "      <td>0.037251</td>\n",
       "      <td>0.275449</td>\n",
       "    </tr>\n",
       "  </tbody>\n",
       "</table>\n",
       "</div>"
      ],
      "text/plain": [
       "Response             0         1\n",
       "AcceptedCmp5                    \n",
       "0             0.962749  0.724551\n",
       "1             0.037251  0.275449"
      ]
     },
     "execution_count": 444,
     "metadata": {},
     "output_type": "execute_result"
    }
   ],
   "source": [
    "pd.crosstab(mkt.AcceptedCmp5, mkt.Response, normalize='columns')"
   ]
  },
  {
   "cell_type": "code",
   "execution_count": 445,
   "id": "8bb988b8-6aaa-437c-8b2f-1ce54dcaf005",
   "metadata": {},
   "outputs": [
    {
     "data": {
      "text/plain": [
       "0    2077\n",
       "1     163\n",
       "Name: AcceptedCmp5, dtype: int64"
      ]
     },
     "execution_count": 445,
     "metadata": {},
     "output_type": "execute_result"
    }
   ],
   "source": [
    "mkt['AcceptedCmp5'].value_counts()"
   ]
  },
  {
   "cell_type": "code",
   "execution_count": 594,
   "id": "5fb4de3e-ad01-41be-bf42-48678e77c208",
   "metadata": {},
   "outputs": [
    {
     "data": {
      "image/png": "[encoded data removed]",
      "text/plain": [
       "<Figure size 432x288 with 1 Axes>"
      ]
     },
     "metadata": {
      "needs_background": "light"
     },
     "output_type": "display_data"
    }
   ],
   "source": [
    "sns.countplot(x='AcceptedCmp5', data = mkt, palette='pastel', hue = 'Response')\n",
    "plt.title('Number of Responses by Accepted Campaign 5 or Not', fontsize = 14)\n",
    "plt.ylabel('Number of Customers', fontsize = 14)\n",
    "plt.xlabel('Accepted Campaign 5 or Not', fontsize = 14)\n",
    "plt.legend(title='Response', labels=['No', 'Yes'])\n",
    "plt.show()"
   ]
  },
  {
   "cell_type": "code",
   "execution_count": 447,
   "id": "477b7e22-25ff-478e-9fc0-7d023529c234",
   "metadata": {},
   "outputs": [
    {
     "data": {
      "text/plain": [
       "array(['Graduation', 'PhD', 'Master', 'Basic', '2n Cycle'], dtype=object)"
      ]
     },
     "execution_count": 447,
     "metadata": {},
     "output_type": "execute_result"
    }
   ],
   "source": [
    "mkt['Education'].unique()"
   ]
  },
  {
   "cell_type": "code",
   "execution_count": 448,
   "id": "37a8a879-8660-468f-b155-9b2990871d4b",
   "metadata": {},
   "outputs": [
    {
     "data": {
      "text/plain": [
       "Graduation    1127\n",
       "PhD            486\n",
       "Master         370\n",
       "2n Cycle       203\n",
       "Basic           54\n",
       "Name: Education, dtype: int64"
      ]
     },
     "execution_count": 448,
     "metadata": {},
     "output_type": "execute_result"
    }
   ],
   "source": [
    "mkt['Education'].value_counts()"
   ]
  },
  {
   "cell_type": "code",
   "execution_count": 597,
   "id": "3be5aee1-c3d2-42ec-99a4-8b56b06fe464",
   "metadata": {},
   "outputs": [
    {
     "data": {
      "text/html": [
       "<div>\n",
       "<style scoped>\n",
       "    .dataframe tbody tr th:only-of-type {\n",
       "        vertical-align: middle;\n",
       "    }\n",
       "\n",
       "    .dataframe tbody tr th {\n",
       "        vertical-align: top;\n",
       "    }\n",
       "\n",
       "    .dataframe thead th {\n",
       "        text-align: right;\n",
       "    }\n",
       "</style>\n",
       "<table border=\"1\" class=\"dataframe\">\n",
       "  <thead>\n",
       "    <tr style=\"text-align: right;\">\n",
       "      <th>Response</th>\n",
       "      <th>0</th>\n",
       "      <th>1</th>\n",
       "    </tr>\n",
       "    <tr>\n",
       "      <th>Education</th>\n",
       "      <th></th>\n",
       "      <th></th>\n",
       "    </tr>\n",
       "  </thead>\n",
       "  <tbody>\n",
       "    <tr>\n",
       "      <th>2n Cycle</th>\n",
       "      <td>0.094963</td>\n",
       "      <td>0.065868</td>\n",
       "    </tr>\n",
       "    <tr>\n",
       "      <th>Basic</th>\n",
       "      <td>0.027282</td>\n",
       "      <td>0.005988</td>\n",
       "    </tr>\n",
       "    <tr>\n",
       "      <th>Graduation</th>\n",
       "      <td>0.511542</td>\n",
       "      <td>0.455090</td>\n",
       "    </tr>\n",
       "    <tr>\n",
       "      <th>Master</th>\n",
       "      <td>0.164218</td>\n",
       "      <td>0.170659</td>\n",
       "    </tr>\n",
       "    <tr>\n",
       "      <th>PhD</th>\n",
       "      <td>0.201994</td>\n",
       "      <td>0.302395</td>\n",
       "    </tr>\n",
       "  </tbody>\n",
       "</table>\n",
       "</div>"
      ],
      "text/plain": [
       "Response           0         1\n",
       "Education                     \n",
       "2n Cycle    0.094963  0.065868\n",
       "Basic       0.027282  0.005988\n",
       "Graduation  0.511542  0.455090\n",
       "Master      0.164218  0.170659\n",
       "PhD         0.201994  0.302395"
      ]
     },
     "execution_count": 597,
     "metadata": {},
     "output_type": "execute_result"
    }
   ],
   "source": [
    "pd.crosstab(mkt.Education, mkt.Response, normalize='columns')"
   ]
  },
  {
   "cell_type": "code",
   "execution_count": 596,
   "id": "b1cd2f74-0956-4fde-95be-3085ad1476a3",
   "metadata": {},
   "outputs": [
    {
     "data": {
      "image/png": "[encoded data removed]",
      "text/plain": [
       "<Figure size 432x288 with 1 Axes>"
      ]
     },
     "metadata": {
      "needs_background": "light"
     },
     "output_type": "display_data"
    }
   ],
   "source": [
    "sns.countplot(x='Education', data = mkt, palette='pastel', hue = 'Response')\n",
    "plt.title('Education Level Distribution by Response', fontsize = 14)\n",
    "plt.ylabel('Number of Customers', fontsize = 14)\n",
    "plt.xlabel('Education Level', fontsize = 14)\n",
    "plt.legend(title='Response', labels=['No', 'Yes'])\n",
    "plt.show()"
   ]
  },
  {
   "cell_type": "code",
   "execution_count": 450,
   "id": "0fb15688-9a7e-4ad1-bcaf-32667efcbf3f",
   "metadata": {},
   "outputs": [
    {
     "data": {
      "text/html": [
       "<div>\n",
       "<style scoped>\n",
       "    .dataframe tbody tr th:only-of-type {\n",
       "        vertical-align: middle;\n",
       "    }\n",
       "\n",
       "    .dataframe tbody tr th {\n",
       "        vertical-align: top;\n",
       "    }\n",
       "\n",
       "    .dataframe thead th {\n",
       "        text-align: right;\n",
       "    }\n",
       "</style>\n",
       "<table border=\"1\" class=\"dataframe\">\n",
       "  <thead>\n",
       "    <tr style=\"text-align: right;\">\n",
       "      <th>Response</th>\n",
       "      <th>0</th>\n",
       "      <th>1</th>\n",
       "    </tr>\n",
       "    <tr>\n",
       "      <th>Education</th>\n",
       "      <th></th>\n",
       "      <th></th>\n",
       "    </tr>\n",
       "  </thead>\n",
       "  <tbody>\n",
       "    <tr>\n",
       "      <th>2n Cycle</th>\n",
       "      <td>0.094963</td>\n",
       "      <td>0.065868</td>\n",
       "    </tr>\n",
       "    <tr>\n",
       "      <th>Basic</th>\n",
       "      <td>0.027282</td>\n",
       "      <td>0.005988</td>\n",
       "    </tr>\n",
       "    <tr>\n",
       "      <th>Graduation</th>\n",
       "      <td>0.511542</td>\n",
       "      <td>0.455090</td>\n",
       "    </tr>\n",
       "    <tr>\n",
       "      <th>Master</th>\n",
       "      <td>0.164218</td>\n",
       "      <td>0.170659</td>\n",
       "    </tr>\n",
       "    <tr>\n",
       "      <th>PhD</th>\n",
       "      <td>0.201994</td>\n",
       "      <td>0.302395</td>\n",
       "    </tr>\n",
       "  </tbody>\n",
       "</table>\n",
       "</div>"
      ],
      "text/plain": [
       "Response           0         1\n",
       "Education                     \n",
       "2n Cycle    0.094963  0.065868\n",
       "Basic       0.027282  0.005988\n",
       "Graduation  0.511542  0.455090\n",
       "Master      0.164218  0.170659\n",
       "PhD         0.201994  0.302395"
      ]
     },
     "execution_count": 450,
     "metadata": {},
     "output_type": "execute_result"
    }
   ],
   "source": [
    "pd.crosstab(mkt.Education, mkt.Response, normalize='columns')"
   ]
  },
  {
   "cell_type": "code",
   "execution_count": 451,
   "id": "bfb6cb7e-590d-47a3-87ca-273e46e46bb5",
   "metadata": {},
   "outputs": [
    {
     "data": {
      "text/plain": [
       "array(['Single', 'Together', 'Married', 'Divorced', 'Widow', 'Alone',\n",
       "       'Absurd', 'YOLO'], dtype=object)"
      ]
     },
     "execution_count": 451,
     "metadata": {},
     "output_type": "execute_result"
    }
   ],
   "source": [
    "mkt['Marital_Status'].unique()"
   ]
  },
  {
   "cell_type": "code",
   "execution_count": 452,
   "id": "a38346b2-41ca-4bf1-a773-1593e4f8281d",
   "metadata": {},
   "outputs": [
    {
     "data": {
      "text/plain": [
       "Married     864\n",
       "Together    580\n",
       "Single      480\n",
       "Divorced    232\n",
       "Widow        77\n",
       "Alone         3\n",
       "Absurd        2\n",
       "YOLO          2\n",
       "Name: Marital_Status, dtype: int64"
      ]
     },
     "execution_count": 452,
     "metadata": {},
     "output_type": "execute_result"
    }
   ],
   "source": [
    "mkt['Marital_Status'].value_counts()"
   ]
  },
  {
   "cell_type": "code",
   "execution_count": 602,
   "id": "c299c526-5f7c-4b4c-af74-94bc1f542f63",
   "metadata": {},
   "outputs": [
    {
     "data": {
      "text/html": [
       "<div>\n",
       "<style scoped>\n",
       "    .dataframe tbody tr th:only-of-type {\n",
       "        vertical-align: middle;\n",
       "    }\n",
       "\n",
       "    .dataframe tbody tr th {\n",
       "        vertical-align: top;\n",
       "    }\n",
       "\n",
       "    .dataframe thead th {\n",
       "        text-align: right;\n",
       "    }\n",
       "</style>\n",
       "<table border=\"1\" class=\"dataframe\">\n",
       "  <thead>\n",
       "    <tr style=\"text-align: right;\">\n",
       "      <th>Response</th>\n",
       "      <th>0</th>\n",
       "      <th>1</th>\n",
       "    </tr>\n",
       "    <tr>\n",
       "      <th>Marital_Status</th>\n",
       "      <th></th>\n",
       "      <th></th>\n",
       "    </tr>\n",
       "  </thead>\n",
       "  <tbody>\n",
       "    <tr>\n",
       "      <th>Absurd</th>\n",
       "      <td>0.000525</td>\n",
       "      <td>0.002994</td>\n",
       "    </tr>\n",
       "    <tr>\n",
       "      <th>Alone</th>\n",
       "      <td>0.001049</td>\n",
       "      <td>0.002994</td>\n",
       "    </tr>\n",
       "    <tr>\n",
       "      <th>Divorced</th>\n",
       "      <td>0.096537</td>\n",
       "      <td>0.143713</td>\n",
       "    </tr>\n",
       "    <tr>\n",
       "      <th>Married</th>\n",
       "      <td>0.401889</td>\n",
       "      <td>0.293413</td>\n",
       "    </tr>\n",
       "    <tr>\n",
       "      <th>Single</th>\n",
       "      <td>0.196222</td>\n",
       "      <td>0.317365</td>\n",
       "    </tr>\n",
       "    <tr>\n",
       "      <th>Together</th>\n",
       "      <td>0.272823</td>\n",
       "      <td>0.179641</td>\n",
       "    </tr>\n",
       "    <tr>\n",
       "      <th>Widow</th>\n",
       "      <td>0.030430</td>\n",
       "      <td>0.056886</td>\n",
       "    </tr>\n",
       "    <tr>\n",
       "      <th>YOLO</th>\n",
       "      <td>0.000525</td>\n",
       "      <td>0.002994</td>\n",
       "    </tr>\n",
       "  </tbody>\n",
       "</table>\n",
       "</div>"
      ],
      "text/plain": [
       "Response               0         1\n",
       "Marital_Status                    \n",
       "Absurd          0.000525  0.002994\n",
       "Alone           0.001049  0.002994\n",
       "Divorced        0.096537  0.143713\n",
       "Married         0.401889  0.293413\n",
       "Single          0.196222  0.317365\n",
       "Together        0.272823  0.179641\n",
       "Widow           0.030430  0.056886\n",
       "YOLO            0.000525  0.002994"
      ]
     },
     "execution_count": 602,
     "metadata": {},
     "output_type": "execute_result"
    }
   ],
   "source": [
    "pd.crosstab(mkt.Marital_Status, mkt.Response, normalize='columns')"
   ]
  },
  {
   "cell_type": "code",
   "execution_count": 601,
   "id": "79e9cca4-e5f1-407b-93cf-5d7bd8096992",
   "metadata": {},
   "outputs": [
    {
     "data": {
      "image/png": "[encoded data removed]",
      "text/plain": [
       "<Figure size 576x576 with 1 Axes>"
      ]
     },
     "metadata": {
      "needs_background": "light"
     },
     "output_type": "display_data"
    }
   ],
   "source": [
    "plt.figure(figsize = (8,8))\n",
    "sns.countplot(x='Marital_Status', data = mkt, palette='pastel', hue = 'Response')\n",
    "plt.title('Marital Status Distribution by Response', fontsize = 14)\n",
    "plt.ylabel('Number of Customers', fontsize = 14)\n",
    "plt.xlabel('Marital Status', fontsize = 14)\n",
    "plt.legend(title='Response', labels=['No', 'Yes'])\n",
    "plt.show()"
   ]
  },
  {
   "cell_type": "code",
   "execution_count": 454,
   "id": "a39ea284-e216-4863-a809-47ad18523229",
   "metadata": {},
   "outputs": [
    {
     "data": {
      "text/html": [
       "<div>\n",
       "<style scoped>\n",
       "    .dataframe tbody tr th:only-of-type {\n",
       "        vertical-align: middle;\n",
       "    }\n",
       "\n",
       "    .dataframe tbody tr th {\n",
       "        vertical-align: top;\n",
       "    }\n",
       "\n",
       "    .dataframe thead th {\n",
       "        text-align: right;\n",
       "    }\n",
       "</style>\n",
       "<table border=\"1\" class=\"dataframe\">\n",
       "  <thead>\n",
       "    <tr style=\"text-align: right;\">\n",
       "      <th>Response</th>\n",
       "      <th>0</th>\n",
       "      <th>1</th>\n",
       "    </tr>\n",
       "    <tr>\n",
       "      <th>Marital_Status</th>\n",
       "      <th></th>\n",
       "      <th></th>\n",
       "    </tr>\n",
       "  </thead>\n",
       "  <tbody>\n",
       "    <tr>\n",
       "      <th>Absurd</th>\n",
       "      <td>0.000525</td>\n",
       "      <td>0.002994</td>\n",
       "    </tr>\n",
       "    <tr>\n",
       "      <th>Alone</th>\n",
       "      <td>0.001049</td>\n",
       "      <td>0.002994</td>\n",
       "    </tr>\n",
       "    <tr>\n",
       "      <th>Divorced</th>\n",
       "      <td>0.096537</td>\n",
       "      <td>0.143713</td>\n",
       "    </tr>\n",
       "    <tr>\n",
       "      <th>Married</th>\n",
       "      <td>0.401889</td>\n",
       "      <td>0.293413</td>\n",
       "    </tr>\n",
       "    <tr>\n",
       "      <th>Single</th>\n",
       "      <td>0.196222</td>\n",
       "      <td>0.317365</td>\n",
       "    </tr>\n",
       "    <tr>\n",
       "      <th>Together</th>\n",
       "      <td>0.272823</td>\n",
       "      <td>0.179641</td>\n",
       "    </tr>\n",
       "    <tr>\n",
       "      <th>Widow</th>\n",
       "      <td>0.030430</td>\n",
       "      <td>0.056886</td>\n",
       "    </tr>\n",
       "    <tr>\n",
       "      <th>YOLO</th>\n",
       "      <td>0.000525</td>\n",
       "      <td>0.002994</td>\n",
       "    </tr>\n",
       "  </tbody>\n",
       "</table>\n",
       "</div>"
      ],
      "text/plain": [
       "Response               0         1\n",
       "Marital_Status                    \n",
       "Absurd          0.000525  0.002994\n",
       "Alone           0.001049  0.002994\n",
       "Divorced        0.096537  0.143713\n",
       "Married         0.401889  0.293413\n",
       "Single          0.196222  0.317365\n",
       "Together        0.272823  0.179641\n",
       "Widow           0.030430  0.056886\n",
       "YOLO            0.000525  0.002994"
      ]
     },
     "execution_count": 454,
     "metadata": {},
     "output_type": "execute_result"
    }
   ],
   "source": [
    "pd.crosstab(mkt.Marital_Status, mkt.Response, normalize='columns')"
   ]
  },
  {
   "cell_type": "code",
   "execution_count": 455,
   "id": "ca1ddeb6-45c3-4a99-9bce-9d4cab9f46a1",
   "metadata": {},
   "outputs": [
    {
     "data": {
      "text/plain": [
       "1976    89\n",
       "1971    87\n",
       "1975    83\n",
       "1972    79\n",
       "1978    77\n",
       "1970    77\n",
       "1973    74\n",
       "1965    74\n",
       "1969    71\n",
       "1974    69\n",
       "1956    55\n",
       "1958    53\n",
       "1979    53\n",
       "1952    52\n",
       "1977    52\n",
       "1968    51\n",
       "1959    51\n",
       "1966    50\n",
       "1954    50\n",
       "1955    49\n",
       "1960    49\n",
       "1982    45\n",
       "1963    45\n",
       "1967    44\n",
       "1962    44\n",
       "1957    43\n",
       "1951    43\n",
       "1983    42\n",
       "1986    42\n",
       "1964    42\n",
       "1980    39\n",
       "1981    39\n",
       "1984    38\n",
       "1961    36\n",
       "1953    35\n",
       "1985    32\n",
       "1989    30\n",
       "1949    30\n",
       "1950    29\n",
       "1988    29\n",
       "1987    27\n",
       "1948    21\n",
       "1990    18\n",
       "1946    16\n",
       "1947    16\n",
       "1991    15\n",
       "1992    13\n",
       "1945     8\n",
       "1943     7\n",
       "1944     7\n",
       "1993     5\n",
       "1995     5\n",
       "1994     3\n",
       "1996     2\n",
       "1899     1\n",
       "1941     1\n",
       "1893     1\n",
       "1900     1\n",
       "1940     1\n",
       "Name: Year_Birth, dtype: int64"
      ]
     },
     "execution_count": 455,
     "metadata": {},
     "output_type": "execute_result"
    }
   ],
   "source": [
    "mkt['Year_Birth'].value_counts()"
   ]
  },
  {
   "cell_type": "code",
   "execution_count": 578,
   "id": "f75aa1e1-ffc5-48ba-ab01-edbd8aa8a315",
   "metadata": {},
   "outputs": [],
   "source": [
    "mkt['Year_Birth'] = 2022-mkt['Year_Birth']"
   ]
  },
  {
   "cell_type": "code",
   "execution_count": 579,
   "id": "4e34e130-b1f5-4c1c-9ad6-98e61a62a458",
   "metadata": {},
   "outputs": [
    {
     "data": {
      "text/html": [
       "<div>\n",
       "<style scoped>\n",
       "    .dataframe tbody tr th:only-of-type {\n",
       "        vertical-align: middle;\n",
       "    }\n",
       "\n",
       "    .dataframe tbody tr th {\n",
       "        vertical-align: top;\n",
       "    }\n",
       "\n",
       "    .dataframe thead th {\n",
       "        text-align: right;\n",
       "    }\n",
       "</style>\n",
       "<table border=\"1\" class=\"dataframe\">\n",
       "  <thead>\n",
       "    <tr style=\"text-align: right;\">\n",
       "      <th></th>\n",
       "      <th>Age</th>\n",
       "      <th>Education</th>\n",
       "      <th>Marital_Status</th>\n",
       "      <th>Income</th>\n",
       "      <th>Kidhome</th>\n",
       "      <th>Teenhome</th>\n",
       "      <th>Days</th>\n",
       "      <th>Recency</th>\n",
       "      <th>MntWines</th>\n",
       "      <th>MntFruits</th>\n",
       "      <th>...</th>\n",
       "      <th>NumCatalogPurchases</th>\n",
       "      <th>NumStorePurchases</th>\n",
       "      <th>NumWebVisitsMonth</th>\n",
       "      <th>AcceptedCmp3</th>\n",
       "      <th>AcceptedCmp4</th>\n",
       "      <th>AcceptedCmp5</th>\n",
       "      <th>AcceptedCmp1</th>\n",
       "      <th>AcceptedCmp2</th>\n",
       "      <th>Complain</th>\n",
       "      <th>Response</th>\n",
       "    </tr>\n",
       "  </thead>\n",
       "  <tbody>\n",
       "    <tr>\n",
       "      <th>0</th>\n",
       "      <td>65</td>\n",
       "      <td>Graduation</td>\n",
       "      <td>Single</td>\n",
       "      <td>58138.0</td>\n",
       "      <td>0</td>\n",
       "      <td>0</td>\n",
       "      <td>3528</td>\n",
       "      <td>58</td>\n",
       "      <td>635</td>\n",
       "      <td>88</td>\n",
       "      <td>...</td>\n",
       "      <td>10</td>\n",
       "      <td>4</td>\n",
       "      <td>7</td>\n",
       "      <td>0</td>\n",
       "      <td>0</td>\n",
       "      <td>0</td>\n",
       "      <td>0</td>\n",
       "      <td>0</td>\n",
       "      <td>0</td>\n",
       "      <td>1</td>\n",
       "    </tr>\n",
       "    <tr>\n",
       "      <th>1</th>\n",
       "      <td>68</td>\n",
       "      <td>Graduation</td>\n",
       "      <td>Single</td>\n",
       "      <td>46344.0</td>\n",
       "      <td>1</td>\n",
       "      <td>1</td>\n",
       "      <td>2978</td>\n",
       "      <td>38</td>\n",
       "      <td>11</td>\n",
       "      <td>1</td>\n",
       "      <td>...</td>\n",
       "      <td>1</td>\n",
       "      <td>2</td>\n",
       "      <td>5</td>\n",
       "      <td>0</td>\n",
       "      <td>0</td>\n",
       "      <td>0</td>\n",
       "      <td>0</td>\n",
       "      <td>0</td>\n",
       "      <td>0</td>\n",
       "      <td>0</td>\n",
       "    </tr>\n",
       "    <tr>\n",
       "      <th>2</th>\n",
       "      <td>57</td>\n",
       "      <td>Graduation</td>\n",
       "      <td>Together</td>\n",
       "      <td>71613.0</td>\n",
       "      <td>0</td>\n",
       "      <td>0</td>\n",
       "      <td>3177</td>\n",
       "      <td>26</td>\n",
       "      <td>426</td>\n",
       "      <td>49</td>\n",
       "      <td>...</td>\n",
       "      <td>2</td>\n",
       "      <td>10</td>\n",
       "      <td>4</td>\n",
       "      <td>0</td>\n",
       "      <td>0</td>\n",
       "      <td>0</td>\n",
       "      <td>0</td>\n",
       "      <td>0</td>\n",
       "      <td>0</td>\n",
       "      <td>0</td>\n",
       "    </tr>\n",
       "    <tr>\n",
       "      <th>3</th>\n",
       "      <td>38</td>\n",
       "      <td>Graduation</td>\n",
       "      <td>Together</td>\n",
       "      <td>26646.0</td>\n",
       "      <td>1</td>\n",
       "      <td>0</td>\n",
       "      <td>3004</td>\n",
       "      <td>26</td>\n",
       "      <td>11</td>\n",
       "      <td>4</td>\n",
       "      <td>...</td>\n",
       "      <td>0</td>\n",
       "      <td>4</td>\n",
       "      <td>6</td>\n",
       "      <td>0</td>\n",
       "      <td>0</td>\n",
       "      <td>0</td>\n",
       "      <td>0</td>\n",
       "      <td>0</td>\n",
       "      <td>0</td>\n",
       "      <td>0</td>\n",
       "    </tr>\n",
       "    <tr>\n",
       "      <th>4</th>\n",
       "      <td>41</td>\n",
       "      <td>PhD</td>\n",
       "      <td>Married</td>\n",
       "      <td>58293.0</td>\n",
       "      <td>1</td>\n",
       "      <td>0</td>\n",
       "      <td>3026</td>\n",
       "      <td>94</td>\n",
       "      <td>173</td>\n",
       "      <td>43</td>\n",
       "      <td>...</td>\n",
       "      <td>3</td>\n",
       "      <td>6</td>\n",
       "      <td>5</td>\n",
       "      <td>0</td>\n",
       "      <td>0</td>\n",
       "      <td>0</td>\n",
       "      <td>0</td>\n",
       "      <td>0</td>\n",
       "      <td>0</td>\n",
       "      <td>0</td>\n",
       "    </tr>\n",
       "  </tbody>\n",
       "</table>\n",
       "<p>5 rows × 26 columns</p>\n",
       "</div>"
      ],
      "text/plain": [
       "   Age   Education Marital_Status   Income  Kidhome  Teenhome  Days  Recency  \\\n",
       "0   65  Graduation         Single  58138.0        0         0  3528       58   \n",
       "1   68  Graduation         Single  46344.0        1         1  2978       38   \n",
       "2   57  Graduation       Together  71613.0        0         0  3177       26   \n",
       "3   38  Graduation       Together  26646.0        1         0  3004       26   \n",
       "4   41         PhD        Married  58293.0        1         0  3026       94   \n",
       "\n",
       "   MntWines  MntFruits  ...  NumCatalogPurchases  NumStorePurchases  \\\n",
       "0       635         88  ...                   10                  4   \n",
       "1        11          1  ...                    1                  2   \n",
       "2       426         49  ...                    2                 10   \n",
       "3        11          4  ...                    0                  4   \n",
       "4       173         43  ...                    3                  6   \n",
       "\n",
       "   NumWebVisitsMonth  AcceptedCmp3  AcceptedCmp4  AcceptedCmp5  AcceptedCmp1  \\\n",
       "0                  7             0             0             0             0   \n",
       "1                  5             0             0             0             0   \n",
       "2                  4             0             0             0             0   \n",
       "3                  6             0             0             0             0   \n",
       "4                  5             0             0             0             0   \n",
       "\n",
       "   AcceptedCmp2  Complain  Response  \n",
       "0             0         0         1  \n",
       "1             0         0         0  \n",
       "2             0         0         0  \n",
       "3             0         0         0  \n",
       "4             0         0         0  \n",
       "\n",
       "[5 rows x 26 columns]"
      ]
     },
     "execution_count": 579,
     "metadata": {},
     "output_type": "execute_result"
    }
   ],
   "source": [
    "mkt = mkt.rename(columns = {\"Year_Birth\":\"Age\"})\n",
    "mkt.head()"
   ]
  },
  {
   "cell_type": "code",
   "execution_count": 458,
   "id": "db07946b-647f-4807-b525-be9fa840ad1b",
   "metadata": {},
   "outputs": [
    {
     "data": {
      "text/html": [
       "<div>\n",
       "<style scoped>\n",
       "    .dataframe tbody tr th:only-of-type {\n",
       "        vertical-align: middle;\n",
       "    }\n",
       "\n",
       "    .dataframe tbody tr th {\n",
       "        vertical-align: top;\n",
       "    }\n",
       "\n",
       "    .dataframe thead th {\n",
       "        text-align: right;\n",
       "    }\n",
       "</style>\n",
       "<table border=\"1\" class=\"dataframe\">\n",
       "  <thead>\n",
       "    <tr style=\"text-align: right;\">\n",
       "      <th></th>\n",
       "      <th>Age</th>\n",
       "      <th>Days</th>\n",
       "      <th>Income</th>\n",
       "      <th>Kidhome</th>\n",
       "      <th>Teenhome</th>\n",
       "      <th>Recency</th>\n",
       "      <th>MntWines</th>\n",
       "      <th>MntFruits</th>\n",
       "      <th>MntMeatProducts</th>\n",
       "      <th>MntFishProducts</th>\n",
       "      <th>MntSweetProducts</th>\n",
       "      <th>MntGoldProds</th>\n",
       "      <th>NumDealsPurchases</th>\n",
       "      <th>NumCatalogPurchases</th>\n",
       "      <th>NumStorePurchases</th>\n",
       "      <th>NumWebVisitsMonth</th>\n",
       "    </tr>\n",
       "  </thead>\n",
       "  <tbody>\n",
       "    <tr>\n",
       "      <th>count</th>\n",
       "      <td>2240.00</td>\n",
       "      <td>2240.00</td>\n",
       "      <td>2240.00</td>\n",
       "      <td>2240.00</td>\n",
       "      <td>2240.00</td>\n",
       "      <td>2240.00</td>\n",
       "      <td>2240.00</td>\n",
       "      <td>2240.00</td>\n",
       "      <td>2240.00</td>\n",
       "      <td>2240.00</td>\n",
       "      <td>2240.00</td>\n",
       "      <td>2240.00</td>\n",
       "      <td>2240.00</td>\n",
       "      <td>2240.00</td>\n",
       "      <td>2240.00</td>\n",
       "      <td>2240.00</td>\n",
       "    </tr>\n",
       "    <tr>\n",
       "      <th>mean</th>\n",
       "      <td>53.19</td>\n",
       "      <td>3218.58</td>\n",
       "      <td>52237.98</td>\n",
       "      <td>0.44</td>\n",
       "      <td>0.51</td>\n",
       "      <td>49.11</td>\n",
       "      <td>303.94</td>\n",
       "      <td>26.30</td>\n",
       "      <td>166.95</td>\n",
       "      <td>37.53</td>\n",
       "      <td>27.06</td>\n",
       "      <td>44.02</td>\n",
       "      <td>2.33</td>\n",
       "      <td>2.66</td>\n",
       "      <td>5.79</td>\n",
       "      <td>5.32</td>\n",
       "    </tr>\n",
       "    <tr>\n",
       "      <th>std</th>\n",
       "      <td>11.98</td>\n",
       "      <td>202.12</td>\n",
       "      <td>25037.96</td>\n",
       "      <td>0.54</td>\n",
       "      <td>0.54</td>\n",
       "      <td>28.96</td>\n",
       "      <td>336.60</td>\n",
       "      <td>39.77</td>\n",
       "      <td>225.72</td>\n",
       "      <td>54.63</td>\n",
       "      <td>41.28</td>\n",
       "      <td>52.17</td>\n",
       "      <td>1.93</td>\n",
       "      <td>2.92</td>\n",
       "      <td>3.25</td>\n",
       "      <td>2.43</td>\n",
       "    </tr>\n",
       "    <tr>\n",
       "      <th>min</th>\n",
       "      <td>26.00</td>\n",
       "      <td>2865.00</td>\n",
       "      <td>1730.00</td>\n",
       "      <td>0.00</td>\n",
       "      <td>0.00</td>\n",
       "      <td>0.00</td>\n",
       "      <td>0.00</td>\n",
       "      <td>0.00</td>\n",
       "      <td>0.00</td>\n",
       "      <td>0.00</td>\n",
       "      <td>0.00</td>\n",
       "      <td>0.00</td>\n",
       "      <td>0.00</td>\n",
       "      <td>0.00</td>\n",
       "      <td>0.00</td>\n",
       "      <td>0.00</td>\n",
       "    </tr>\n",
       "    <tr>\n",
       "      <th>25%</th>\n",
       "      <td>45.00</td>\n",
       "      <td>3045.75</td>\n",
       "      <td>35538.75</td>\n",
       "      <td>0.00</td>\n",
       "      <td>0.00</td>\n",
       "      <td>24.00</td>\n",
       "      <td>23.75</td>\n",
       "      <td>1.00</td>\n",
       "      <td>16.00</td>\n",
       "      <td>3.00</td>\n",
       "      <td>1.00</td>\n",
       "      <td>9.00</td>\n",
       "      <td>1.00</td>\n",
       "      <td>0.00</td>\n",
       "      <td>3.00</td>\n",
       "      <td>3.00</td>\n",
       "    </tr>\n",
       "    <tr>\n",
       "      <th>50%</th>\n",
       "      <td>52.00</td>\n",
       "      <td>3220.50</td>\n",
       "      <td>51381.50</td>\n",
       "      <td>0.00</td>\n",
       "      <td>0.00</td>\n",
       "      <td>49.00</td>\n",
       "      <td>173.50</td>\n",
       "      <td>8.00</td>\n",
       "      <td>67.00</td>\n",
       "      <td>12.00</td>\n",
       "      <td>8.00</td>\n",
       "      <td>24.00</td>\n",
       "      <td>2.00</td>\n",
       "      <td>2.00</td>\n",
       "      <td>5.00</td>\n",
       "      <td>6.00</td>\n",
       "    </tr>\n",
       "    <tr>\n",
       "      <th>75%</th>\n",
       "      <td>63.00</td>\n",
       "      <td>3394.00</td>\n",
       "      <td>68289.75</td>\n",
       "      <td>1.00</td>\n",
       "      <td>1.00</td>\n",
       "      <td>74.00</td>\n",
       "      <td>504.25</td>\n",
       "      <td>33.00</td>\n",
       "      <td>232.00</td>\n",
       "      <td>50.00</td>\n",
       "      <td>33.00</td>\n",
       "      <td>56.00</td>\n",
       "      <td>3.00</td>\n",
       "      <td>4.00</td>\n",
       "      <td>8.00</td>\n",
       "      <td>7.00</td>\n",
       "    </tr>\n",
       "    <tr>\n",
       "      <th>max</th>\n",
       "      <td>129.00</td>\n",
       "      <td>3564.00</td>\n",
       "      <td>666666.00</td>\n",
       "      <td>2.00</td>\n",
       "      <td>2.00</td>\n",
       "      <td>99.00</td>\n",
       "      <td>1493.00</td>\n",
       "      <td>199.00</td>\n",
       "      <td>1725.00</td>\n",
       "      <td>259.00</td>\n",
       "      <td>263.00</td>\n",
       "      <td>362.00</td>\n",
       "      <td>15.00</td>\n",
       "      <td>28.00</td>\n",
       "      <td>13.00</td>\n",
       "      <td>20.00</td>\n",
       "    </tr>\n",
       "  </tbody>\n",
       "</table>\n",
       "</div>"
      ],
      "text/plain": [
       "           Age     Days     Income  Kidhome  Teenhome  Recency  MntWines  \\\n",
       "count  2240.00  2240.00    2240.00  2240.00   2240.00  2240.00   2240.00   \n",
       "mean     53.19  3218.58   52237.98     0.44      0.51    49.11    303.94   \n",
       "std      11.98   202.12   25037.96     0.54      0.54    28.96    336.60   \n",
       "min      26.00  2865.00    1730.00     0.00      0.00     0.00      0.00   \n",
       "25%      45.00  3045.75   35538.75     0.00      0.00    24.00     23.75   \n",
       "50%      52.00  3220.50   51381.50     0.00      0.00    49.00    173.50   \n",
       "75%      63.00  3394.00   68289.75     1.00      1.00    74.00    504.25   \n",
       "max     129.00  3564.00  666666.00     2.00      2.00    99.00   1493.00   \n",
       "\n",
       "       MntFruits  MntMeatProducts  MntFishProducts  MntSweetProducts  \\\n",
       "count    2240.00          2240.00          2240.00           2240.00   \n",
       "mean       26.30           166.95            37.53             27.06   \n",
       "std        39.77           225.72            54.63             41.28   \n",
       "min         0.00             0.00             0.00              0.00   \n",
       "25%         1.00            16.00             3.00              1.00   \n",
       "50%         8.00            67.00            12.00              8.00   \n",
       "75%        33.00           232.00            50.00             33.00   \n",
       "max       199.00          1725.00           259.00            263.00   \n",
       "\n",
       "       MntGoldProds  NumDealsPurchases  NumCatalogPurchases  \\\n",
       "count       2240.00            2240.00              2240.00   \n",
       "mean          44.02               2.33                 2.66   \n",
       "std           52.17               1.93                 2.92   \n",
       "min            0.00               0.00                 0.00   \n",
       "25%            9.00               1.00                 0.00   \n",
       "50%           24.00               2.00                 2.00   \n",
       "75%           56.00               3.00                 4.00   \n",
       "max          362.00              15.00                28.00   \n",
       "\n",
       "       NumStorePurchases  NumWebVisitsMonth  \n",
       "count            2240.00            2240.00  \n",
       "mean                5.79               5.32  \n",
       "std                 3.25               2.43  \n",
       "min                 0.00               0.00  \n",
       "25%                 3.00               3.00  \n",
       "50%                 5.00               6.00  \n",
       "75%                 8.00               7.00  \n",
       "max                13.00              20.00  "
      ]
     },
     "execution_count": 458,
     "metadata": {},
     "output_type": "execute_result"
    }
   ],
   "source": [
    "mktd = mkt[['Age', 'Days', 'Income', 'Kidhome', 'Teenhome', 'Recency', 'MntWines', 'MntFruits', 'MntMeatProducts', 'MntFishProducts', 'MntSweetProducts', 'MntGoldProds', 'NumDealsPurchases', 'NumCatalogPurchases', 'NumStorePurchases', 'NumWebVisitsMonth']] \n",
    "round(mktd.describe(), 2)"
   ]
  },
  {
   "cell_type": "code",
   "execution_count": 612,
   "id": "b6eb8109-9136-4549-8b2b-8db18ead623f",
   "metadata": {},
   "outputs": [
    {
     "data": {
      "text/plain": [
       "Text(0.5, 0, 'Response')"
      ]
     },
     "execution_count": 612,
     "metadata": {},
     "output_type": "execute_result"
    },
    {
     "data": {
      "image/png": "[encoded data removed]",
      "text/plain": [
       "<Figure size 432x288 with 1 Axes>"
      ]
     },
     "metadata": {
      "needs_background": "light"
     },
     "output_type": "display_data"
    }
   ],
   "source": [
    "aa=sns.barplot(x=\"Response\", y=\"Days\", data=mkt, ci = None, color = \"lightblue\")\n",
    "aa.bar_label(aa.containers[0])\n",
    "plt.title('Average Number of Days since Registration', fontsize = 14)\n",
    "plt.ylabel('Number of Days', fontsize = 14)\n",
    "plt.xlabel('Response', fontsize = 14)"
   ]
  },
  {
   "cell_type": "code",
   "execution_count": 613,
   "id": "405e45a7-9be1-4bce-a3aa-c58d9b480828",
   "metadata": {},
   "outputs": [
    {
     "data": {
      "text/plain": [
       "Text(0.5, 0, 'Response')"
      ]
     },
     "execution_count": 613,
     "metadata": {},
     "output_type": "execute_result"
    },
    {
     "data": {
      "image/png": "[encoded data removed]",
      "text/plain": [
       "<Figure size 432x288 with 1 Axes>"
      ]
     },
     "metadata": {
      "needs_background": "light"
     },
     "output_type": "display_data"
    }
   ],
   "source": [
    "ax=sns.barplot(x=\"Response\", y=\"Age\", data=mkt, ci = None, color = \"lightblue\")\n",
    "ax.bar_label(ax.containers[0])\n",
    "plt.title('Average Age by Response', fontsize = 14)\n",
    "plt.ylabel('Age', fontsize = 14)\n",
    "plt.xlabel('Response', fontsize = 14)"
   ]
  },
  {
   "cell_type": "code",
   "execution_count": 614,
   "id": "8661c9c6-ea3f-4777-835b-499460d57ea1",
   "metadata": {},
   "outputs": [
    {
     "data": {
      "text/plain": [
       "Text(0.5, 0, 'Response')"
      ]
     },
     "execution_count": 614,
     "metadata": {},
     "output_type": "execute_result"
    },
    {
     "data": {
      "image/png": "[encoded data removed]",
      "text/plain": [
       "<Figure size 432x288 with 1 Axes>"
      ]
     },
     "metadata": {
      "needs_background": "light"
     },
     "output_type": "display_data"
    }
   ],
   "source": [
    "ay=sns.barplot(x=\"Response\", y=\"Income\", data=mkt, ci = None, color = \"lightblue\")\n",
    "ay.bar_label(ay.containers[0])\n",
    "plt.title('Average Income by Responses', fontsize = 14)\n",
    "plt.ylabel('Income', fontsize = 14)\n",
    "plt.xlabel('Response', fontsize = 14)"
   ]
  },
  {
   "cell_type": "code",
   "execution_count": 616,
   "id": "007b0e21-5813-43a0-b8e7-62aa6e42dbc6",
   "metadata": {},
   "outputs": [
    {
     "data": {
      "text/plain": [
       "Text(0.5, 0, 'Response')"
      ]
     },
     "execution_count": 616,
     "metadata": {},
     "output_type": "execute_result"
    },
    {
     "data": {
      "image/png": "[encoded data removed]",
      "text/plain": [
       "<Figure size 432x288 with 1 Axes>"
      ]
     },
     "metadata": {
      "needs_background": "light"
     },
     "output_type": "display_data"
    }
   ],
   "source": [
    "az=sns.barplot(x=\"Response\", y=\"Recency\", data=mkt, ci = None, color = \"lightblue\")\n",
    "az.bar_label(az.containers[0])\n",
    "plt.title('Average Recency by Response', fontsize = 14)\n",
    "plt.ylabel('Recency', fontsize = 14)\n",
    "plt.xlabel('Response', fontsize = 14)"
   ]
  },
  {
   "cell_type": "code",
   "execution_count": 620,
   "id": "f92e365d-5f03-4993-bd7d-ef01234503ae",
   "metadata": {},
   "outputs": [
    {
     "data": {
      "text/plain": [
       "Text(0.5, 0, 'Response')"
      ]
     },
     "execution_count": 620,
     "metadata": {},
     "output_type": "execute_result"
    },
    {
     "data": {
      "image/png": "[encoded data removed]",
      "text/plain": [
       "<Figure size 432x288 with 1 Axes>"
      ]
     },
     "metadata": {
      "needs_background": "light"
     },
     "output_type": "display_data"
    }
   ],
   "source": [
    "ab=sns.barplot(x=\"Response\", y=\"MntWines\", data=mkt, ci = None, color = \"lightblue\")\n",
    "ab.bar_label(ab.containers[0])\n",
    "plt.title('Average Amount of Wines Bought by Response', fontsize = 14)\n",
    "plt.ylabel('Amount of Wines', fontsize = 14)\n",
    "plt.xlabel('Response', fontsize = 14)"
   ]
  },
  {
   "cell_type": "code",
   "execution_count": 624,
   "id": "00b2f63d-122d-4126-80ac-923e2bfb4a17",
   "metadata": {},
   "outputs": [
    {
     "data": {
      "text/plain": [
       "Text(0.5, 0, 'Response')"
      ]
     },
     "execution_count": 624,
     "metadata": {},
     "output_type": "execute_result"
    },
    {
     "data": {
      "image/png": "[encoded data removed]",
      "text/plain": [
       "<Figure size 432x288 with 1 Axes>"
      ]
     },
     "metadata": {
      "needs_background": "light"
     },
     "output_type": "display_data"
    }
   ],
   "source": [
    "ac=sns.barplot(x=\"Response\", y=\"MntFruits\", data=mkt, ci = None, color = \"lightblue\")\n",
    "ac.bar_label(ac.containers[0])\n",
    "plt.title('Average Amount of Fruits Bought by Response', fontsize = 14)\n",
    "plt.ylabel('Amount of Fruits', fontsize = 14)\n",
    "plt.xlabel('Response', fontsize = 14)"
   ]
  },
  {
   "cell_type": "code",
   "execution_count": 626,
   "id": "0d073fbd-8a2e-43ca-a06b-6b165670da2b",
   "metadata": {},
   "outputs": [
    {
     "data": {
      "text/plain": [
       "Text(0.5, 0, 'Response')"
      ]
     },
     "execution_count": 626,
     "metadata": {},
     "output_type": "execute_result"
    },
    {
     "data": {
      "image/png": "[encoded data removed]",
      "text/plain": [
       "<Figure size 432x288 with 1 Axes>"
      ]
     },
     "metadata": {
      "needs_background": "light"
     },
     "output_type": "display_data"
    }
   ],
   "source": [
    "ac=sns.barplot(x=\"Response\", y=\"MntMeatProducts\", data=mkt, ci = None, color = \"lightblue\")\n",
    "ac.bar_label(ac.containers[0])\n",
    "plt.title('Average Amount of Meat Products Bought by Response', fontsize = 14)\n",
    "plt.ylabel('Amount of Meat Products', fontsize = 14)\n",
    "plt.xlabel('Response', fontsize = 14)"
   ]
  },
  {
   "cell_type": "code",
   "execution_count": 627,
   "id": "b9ad1543-9a40-4554-870d-efac1cae33fa",
   "metadata": {},
   "outputs": [
    {
     "data": {
      "text/plain": [
       "Text(0.5, 0, 'Response')"
      ]
     },
     "execution_count": 627,
     "metadata": {},
     "output_type": "execute_result"
    },
    {
     "data": {
      "image/png": "[encoded data removed]",
      "text/plain": [
       "<Figure size 432x288 with 1 Axes>"
      ]
     },
     "metadata": {
      "needs_background": "light"
     },
     "output_type": "display_data"
    }
   ],
   "source": [
    "ad=sns.barplot(x=\"Response\", y=\"MntFishProducts\", data=mkt, ci = None, color = \"lightblue\")\n",
    "ad.bar_label(ad.containers[0])\n",
    "plt.title('Average Amount of Fish Products Bought by Response', fontsize = 14)\n",
    "plt.ylabel('Amount of Fish Products', fontsize = 14)\n",
    "plt.xlabel('Response', fontsize = 14)"
   ]
  },
  {
   "cell_type": "code",
   "execution_count": 628,
   "id": "2909e783-fb92-45b4-ab35-9c47ea0fa882",
   "metadata": {},
   "outputs": [
    {
     "data": {
      "text/plain": [
       "Text(0.5, 0, 'Response')"
      ]
     },
     "execution_count": 628,
     "metadata": {},
     "output_type": "execute_result"
    },
    {
     "data": {
      "image/png": "[encoded data removed]",
      "text/plain": [
       "<Figure size 432x288 with 1 Axes>"
      ]
     },
     "metadata": {
      "needs_background": "light"
     },
     "output_type": "display_data"
    }
   ],
   "source": [
    "ad=sns.barplot(x=\"Response\", y=\"MntSweetProducts\", data=mkt, ci = None, color = \"lightblue\")\n",
    "ad.bar_label(ad.containers[0])\n",
    "plt.title('Average Amount of Sweet Products Bought by Response', fontsize = 14)\n",
    "plt.ylabel('Amount of Sweet Products', fontsize = 14)\n",
    "plt.xlabel('Response', fontsize = 14)"
   ]
  },
  {
   "cell_type": "code",
   "execution_count": 629,
   "id": "2324717c-1eb3-4469-8b68-b029de54b342",
   "metadata": {},
   "outputs": [
    {
     "data": {
      "text/plain": [
       "Text(0.5, 0, 'Response')"
      ]
     },
     "execution_count": 629,
     "metadata": {},
     "output_type": "execute_result"
    },
    {
     "data": {
      "image/png": "[encoded data removed]",
      "text/plain": [
       "<Figure size 432x288 with 1 Axes>"
      ]
     },
     "metadata": {
      "needs_background": "light"
     },
     "output_type": "display_data"
    }
   ],
   "source": [
    "ah=sns.barplot(x=\"Response\", y=\"MntGoldProds\", data=mkt, ci = None, color = \"lightblue\")\n",
    "ah.bar_label(ah.containers[0])\n",
    "plt.title('Average Amount of Gold Products Bought by Response', fontsize = 14)\n",
    "plt.ylabel('Amount of Gold Products', fontsize = 14)\n",
    "plt.xlabel('Response', fontsize = 14)"
   ]
  },
  {
   "cell_type": "code",
   "execution_count": 630,
   "id": "b29aa933-a406-4af4-825d-1df412c319db",
   "metadata": {},
   "outputs": [
    {
     "data": {
      "text/plain": [
       "Text(0.5, 0, 'Response')"
      ]
     },
     "execution_count": 630,
     "metadata": {},
     "output_type": "execute_result"
    },
    {
     "data": {
      "image/png": "[encoded data removed]",
      "text/plain": [
       "<Figure size 432x288 with 1 Axes>"
      ]
     },
     "metadata": {
      "needs_background": "light"
     },
     "output_type": "display_data"
    }
   ],
   "source": [
    "ai=sns.barplot(x=\"Response\", y=\"NumDealsPurchases\", data=mkt, ci = None, color = \"lightblue\")\n",
    "ai.bar_label(ai.containers[0])\n",
    "plt.title('Average Number of Deals Purchases by Response', fontsize = 14)\n",
    "plt.ylabel('Number of Deals Purchases', fontsize = 14)\n",
    "plt.xlabel('Response', fontsize = 14)"
   ]
  },
  {
   "cell_type": "code",
   "execution_count": 631,
   "id": "cc4b9a82-61b9-4b13-8b42-16c02270ed5b",
   "metadata": {},
   "outputs": [
    {
     "data": {
      "text/plain": [
       "Text(0.5, 0, 'Response')"
      ]
     },
     "execution_count": 631,
     "metadata": {},
     "output_type": "execute_result"
    },
    {
     "data": {
      "image/png": "[encoded data removed]",
      "text/plain": [
       "<Figure size 432x288 with 1 Axes>"
      ]
     },
     "metadata": {
      "needs_background": "light"
     },
     "output_type": "display_data"
    }
   ],
   "source": [
    "ae=sns.barplot(x=\"Response\", y=\"NumCatalogPurchases\", data=mkt, ci = None, color = \"lightblue\")\n",
    "ae.bar_label(ae.containers[0])\n",
    "plt.title('Average Number of Catalog Purchases by Response', fontsize = 14)\n",
    "plt.ylabel('Number of Catalog Purchases', fontsize = 14)\n",
    "plt.xlabel('Response', fontsize = 14)"
   ]
  },
  {
   "cell_type": "code",
   "execution_count": 632,
   "id": "6eb5bdec-936f-40d2-a00d-ff5431831aa4",
   "metadata": {},
   "outputs": [
    {
     "data": {
      "text/plain": [
       "Text(0.5, 0, 'Response')"
      ]
     },
     "execution_count": 632,
     "metadata": {},
     "output_type": "execute_result"
    },
    {
     "data": {
      "image/png": "[encoded data removed]",
      "text/plain": [
       "<Figure size 432x288 with 1 Axes>"
      ]
     },
     "metadata": {
      "needs_background": "light"
     },
     "output_type": "display_data"
    }
   ],
   "source": [
    "af=sns.barplot(x=\"Response\", y=\"NumStorePurchases\", data=mkt, ci = None, color = \"lightblue\")\n",
    "af.bar_label(af.containers[0])\n",
    "plt.title('Average Number of Store Purchases by Response', fontsize = 14)\n",
    "plt.ylabel('Number of Store Purchases', fontsize = 14)\n",
    "plt.xlabel('Response', fontsize = 14)\n"
   ]
  },
  {
   "cell_type": "code",
   "execution_count": 633,
   "id": "66a1c775-46f6-4b62-92fe-7a83c8a3ea57",
   "metadata": {},
   "outputs": [
    {
     "data": {
      "text/plain": [
       "Text(0.5, 0, 'Response')"
      ]
     },
     "execution_count": 633,
     "metadata": {},
     "output_type": "execute_result"
    },
    {
     "data": {
      "image/png": "[encoded data removed]",
      "text/plain": [
       "<Figure size 432x288 with 1 Axes>"
      ]
     },
     "metadata": {
      "needs_background": "light"
     },
     "output_type": "display_data"
    }
   ],
   "source": [
    "ag=sns.barplot(x=\"Response\", y=\"NumWebVisitsMonth\", data=mkt, ci = None, color = \"lightblue\")\n",
    "ag.bar_label(ag.containers[0])\n",
    "plt.title('Average Number of Web Visits Months by Response', fontsize = 14)\n",
    "plt.ylabel('Number of Web Visits Months', fontsize = 14)\n",
    "plt.xlabel('Response', fontsize = 14)"
   ]
  },
  {
   "cell_type": "code",
   "execution_count": 474,
   "id": "6260459c-6bb2-45c7-a73e-e981b66f78de",
   "metadata": {},
   "outputs": [
    {
     "data": {
      "text/html": [
       "<div>\n",
       "<style scoped>\n",
       "    .dataframe tbody tr th:only-of-type {\n",
       "        vertical-align: middle;\n",
       "    }\n",
       "\n",
       "    .dataframe tbody tr th {\n",
       "        vertical-align: top;\n",
       "    }\n",
       "\n",
       "    .dataframe thead th {\n",
       "        text-align: right;\n",
       "    }\n",
       "</style>\n",
       "<table border=\"1\" class=\"dataframe\">\n",
       "  <thead>\n",
       "    <tr style=\"text-align: right;\">\n",
       "      <th></th>\n",
       "      <th>Age</th>\n",
       "      <th>Days</th>\n",
       "      <th>Income</th>\n",
       "      <th>Kidhome</th>\n",
       "      <th>Teenhome</th>\n",
       "      <th>Recency</th>\n",
       "      <th>MntWines</th>\n",
       "      <th>MntFruits</th>\n",
       "      <th>MntMeatProducts</th>\n",
       "      <th>MntFishProducts</th>\n",
       "      <th>MntSweetProducts</th>\n",
       "      <th>MntGoldProds</th>\n",
       "      <th>NumDealsPurchases</th>\n",
       "      <th>NumCatalogPurchases</th>\n",
       "      <th>NumStorePurchases</th>\n",
       "      <th>NumWebVisitsMonth</th>\n",
       "    </tr>\n",
       "  </thead>\n",
       "  <tbody>\n",
       "    <tr>\n",
       "      <th>Age</th>\n",
       "      <td>1.000000</td>\n",
       "      <td>-0.022431</td>\n",
       "      <td>0.160899</td>\n",
       "      <td>-0.230176</td>\n",
       "      <td>0.352111</td>\n",
       "      <td>0.019871</td>\n",
       "      <td>0.157773</td>\n",
       "      <td>0.017917</td>\n",
       "      <td>0.030872</td>\n",
       "      <td>0.041625</td>\n",
       "      <td>0.018133</td>\n",
       "      <td>0.061818</td>\n",
       "      <td>0.060846</td>\n",
       "      <td>0.121275</td>\n",
       "      <td>0.128272</td>\n",
       "      <td>-0.121139</td>\n",
       "    </tr>\n",
       "    <tr>\n",
       "      <th>Days</th>\n",
       "      <td>-0.022431</td>\n",
       "      <td>1.000000</td>\n",
       "      <td>-0.018470</td>\n",
       "      <td>-0.053343</td>\n",
       "      <td>0.017465</td>\n",
       "      <td>0.024522</td>\n",
       "      <td>0.166264</td>\n",
       "      <td>0.066928</td>\n",
       "      <td>0.092713</td>\n",
       "      <td>0.080769</td>\n",
       "      <td>0.081268</td>\n",
       "      <td>0.159596</td>\n",
       "      <td>0.218552</td>\n",
       "      <td>0.096198</td>\n",
       "      <td>0.110592</td>\n",
       "      <td>0.272449</td>\n",
       "    </tr>\n",
       "    <tr>\n",
       "      <th>Income</th>\n",
       "      <td>0.160899</td>\n",
       "      <td>-0.018470</td>\n",
       "      <td>1.000000</td>\n",
       "      <td>-0.425326</td>\n",
       "      <td>0.018965</td>\n",
       "      <td>-0.004061</td>\n",
       "      <td>0.576903</td>\n",
       "      <td>0.428791</td>\n",
       "      <td>0.577805</td>\n",
       "      <td>0.437564</td>\n",
       "      <td>0.436131</td>\n",
       "      <td>0.321938</td>\n",
       "      <td>-0.082315</td>\n",
       "      <td>0.586826</td>\n",
       "      <td>0.526600</td>\n",
       "      <td>-0.549785</td>\n",
       "    </tr>\n",
       "    <tr>\n",
       "      <th>Kidhome</th>\n",
       "      <td>-0.230176</td>\n",
       "      <td>-0.053343</td>\n",
       "      <td>-0.425326</td>\n",
       "      <td>1.000000</td>\n",
       "      <td>-0.036133</td>\n",
       "      <td>0.008827</td>\n",
       "      <td>-0.496297</td>\n",
       "      <td>-0.372581</td>\n",
       "      <td>-0.437129</td>\n",
       "      <td>-0.387644</td>\n",
       "      <td>-0.370673</td>\n",
       "      <td>-0.349595</td>\n",
       "      <td>0.221798</td>\n",
       "      <td>-0.502237</td>\n",
       "      <td>-0.499683</td>\n",
       "      <td>0.447846</td>\n",
       "    </tr>\n",
       "    <tr>\n",
       "      <th>Teenhome</th>\n",
       "      <td>0.352111</td>\n",
       "      <td>0.017465</td>\n",
       "      <td>0.018965</td>\n",
       "      <td>-0.036133</td>\n",
       "      <td>1.000000</td>\n",
       "      <td>0.016198</td>\n",
       "      <td>0.004846</td>\n",
       "      <td>-0.176764</td>\n",
       "      <td>-0.261160</td>\n",
       "      <td>-0.204187</td>\n",
       "      <td>-0.162475</td>\n",
       "      <td>-0.021725</td>\n",
       "      <td>0.387741</td>\n",
       "      <td>-0.110769</td>\n",
       "      <td>0.050695</td>\n",
       "      <td>0.134884</td>\n",
       "    </tr>\n",
       "    <tr>\n",
       "      <th>Recency</th>\n",
       "      <td>0.019871</td>\n",
       "      <td>0.024522</td>\n",
       "      <td>-0.004061</td>\n",
       "      <td>0.008827</td>\n",
       "      <td>0.016198</td>\n",
       "      <td>1.000000</td>\n",
       "      <td>0.016064</td>\n",
       "      <td>-0.004306</td>\n",
       "      <td>0.023056</td>\n",
       "      <td>0.001079</td>\n",
       "      <td>0.022670</td>\n",
       "      <td>0.016693</td>\n",
       "      <td>-0.001098</td>\n",
       "      <td>0.025110</td>\n",
       "      <td>0.000799</td>\n",
       "      <td>-0.021445</td>\n",
       "    </tr>\n",
       "    <tr>\n",
       "      <th>MntWines</th>\n",
       "      <td>0.157773</td>\n",
       "      <td>0.166264</td>\n",
       "      <td>0.576903</td>\n",
       "      <td>-0.496297</td>\n",
       "      <td>0.004846</td>\n",
       "      <td>0.016064</td>\n",
       "      <td>1.000000</td>\n",
       "      <td>0.389637</td>\n",
       "      <td>0.562667</td>\n",
       "      <td>0.399753</td>\n",
       "      <td>0.386581</td>\n",
       "      <td>0.387516</td>\n",
       "      <td>0.010940</td>\n",
       "      <td>0.635226</td>\n",
       "      <td>0.642100</td>\n",
       "      <td>-0.320653</td>\n",
       "    </tr>\n",
       "    <tr>\n",
       "      <th>MntFruits</th>\n",
       "      <td>0.017917</td>\n",
       "      <td>0.066928</td>\n",
       "      <td>0.428791</td>\n",
       "      <td>-0.372581</td>\n",
       "      <td>-0.176764</td>\n",
       "      <td>-0.004306</td>\n",
       "      <td>0.389637</td>\n",
       "      <td>1.000000</td>\n",
       "      <td>0.543105</td>\n",
       "      <td>0.594804</td>\n",
       "      <td>0.567164</td>\n",
       "      <td>0.392995</td>\n",
       "      <td>-0.132114</td>\n",
       "      <td>0.487917</td>\n",
       "      <td>0.461758</td>\n",
       "      <td>-0.418383</td>\n",
       "    </tr>\n",
       "    <tr>\n",
       "      <th>MntMeatProducts</th>\n",
       "      <td>0.030872</td>\n",
       "      <td>0.092713</td>\n",
       "      <td>0.577805</td>\n",
       "      <td>-0.437129</td>\n",
       "      <td>-0.261160</td>\n",
       "      <td>0.023056</td>\n",
       "      <td>0.562667</td>\n",
       "      <td>0.543105</td>\n",
       "      <td>1.000000</td>\n",
       "      <td>0.568402</td>\n",
       "      <td>0.523846</td>\n",
       "      <td>0.350609</td>\n",
       "      <td>-0.122415</td>\n",
       "      <td>0.723827</td>\n",
       "      <td>0.479659</td>\n",
       "      <td>-0.539470</td>\n",
       "    </tr>\n",
       "    <tr>\n",
       "      <th>MntFishProducts</th>\n",
       "      <td>0.041625</td>\n",
       "      <td>0.080769</td>\n",
       "      <td>0.437564</td>\n",
       "      <td>-0.387644</td>\n",
       "      <td>-0.204187</td>\n",
       "      <td>0.001079</td>\n",
       "      <td>0.399753</td>\n",
       "      <td>0.594804</td>\n",
       "      <td>0.568402</td>\n",
       "      <td>1.000000</td>\n",
       "      <td>0.579870</td>\n",
       "      <td>0.422875</td>\n",
       "      <td>-0.139361</td>\n",
       "      <td>0.534478</td>\n",
       "      <td>0.459855</td>\n",
       "      <td>-0.446003</td>\n",
       "    </tr>\n",
       "    <tr>\n",
       "      <th>MntSweetProducts</th>\n",
       "      <td>0.018133</td>\n",
       "      <td>0.081268</td>\n",
       "      <td>0.436131</td>\n",
       "      <td>-0.370673</td>\n",
       "      <td>-0.162475</td>\n",
       "      <td>0.022670</td>\n",
       "      <td>0.386581</td>\n",
       "      <td>0.567164</td>\n",
       "      <td>0.523846</td>\n",
       "      <td>0.579870</td>\n",
       "      <td>1.000000</td>\n",
       "      <td>0.369724</td>\n",
       "      <td>-0.120100</td>\n",
       "      <td>0.490924</td>\n",
       "      <td>0.448756</td>\n",
       "      <td>-0.423294</td>\n",
       "    </tr>\n",
       "    <tr>\n",
       "      <th>MntGoldProds</th>\n",
       "      <td>0.061818</td>\n",
       "      <td>0.159596</td>\n",
       "      <td>0.321938</td>\n",
       "      <td>-0.349595</td>\n",
       "      <td>-0.021725</td>\n",
       "      <td>0.016693</td>\n",
       "      <td>0.387516</td>\n",
       "      <td>0.392995</td>\n",
       "      <td>0.350609</td>\n",
       "      <td>0.422875</td>\n",
       "      <td>0.369724</td>\n",
       "      <td>1.000000</td>\n",
       "      <td>0.049085</td>\n",
       "      <td>0.437697</td>\n",
       "      <td>0.381678</td>\n",
       "      <td>-0.250719</td>\n",
       "    </tr>\n",
       "    <tr>\n",
       "      <th>NumDealsPurchases</th>\n",
       "      <td>0.060846</td>\n",
       "      <td>0.218552</td>\n",
       "      <td>-0.082315</td>\n",
       "      <td>0.221798</td>\n",
       "      <td>0.387741</td>\n",
       "      <td>-0.001098</td>\n",
       "      <td>0.010940</td>\n",
       "      <td>-0.132114</td>\n",
       "      <td>-0.122415</td>\n",
       "      <td>-0.139361</td>\n",
       "      <td>-0.120100</td>\n",
       "      <td>0.049085</td>\n",
       "      <td>1.000000</td>\n",
       "      <td>-0.008617</td>\n",
       "      <td>0.068879</td>\n",
       "      <td>0.347633</td>\n",
       "    </tr>\n",
       "    <tr>\n",
       "      <th>NumCatalogPurchases</th>\n",
       "      <td>0.121275</td>\n",
       "      <td>0.096198</td>\n",
       "      <td>0.586826</td>\n",
       "      <td>-0.502237</td>\n",
       "      <td>-0.110769</td>\n",
       "      <td>0.025110</td>\n",
       "      <td>0.635226</td>\n",
       "      <td>0.487917</td>\n",
       "      <td>0.723827</td>\n",
       "      <td>0.534478</td>\n",
       "      <td>0.490924</td>\n",
       "      <td>0.437697</td>\n",
       "      <td>-0.008617</td>\n",
       "      <td>1.000000</td>\n",
       "      <td>0.518738</td>\n",
       "      <td>-0.520364</td>\n",
       "    </tr>\n",
       "    <tr>\n",
       "      <th>NumStorePurchases</th>\n",
       "      <td>0.128272</td>\n",
       "      <td>0.110592</td>\n",
       "      <td>0.526600</td>\n",
       "      <td>-0.499683</td>\n",
       "      <td>0.050695</td>\n",
       "      <td>0.000799</td>\n",
       "      <td>0.642100</td>\n",
       "      <td>0.461758</td>\n",
       "      <td>0.479659</td>\n",
       "      <td>0.459855</td>\n",
       "      <td>0.448756</td>\n",
       "      <td>0.381678</td>\n",
       "      <td>0.068879</td>\n",
       "      <td>0.518738</td>\n",
       "      <td>1.000000</td>\n",
       "      <td>-0.428473</td>\n",
       "    </tr>\n",
       "    <tr>\n",
       "      <th>NumWebVisitsMonth</th>\n",
       "      <td>-0.121139</td>\n",
       "      <td>0.272449</td>\n",
       "      <td>-0.549785</td>\n",
       "      <td>0.447846</td>\n",
       "      <td>0.134884</td>\n",
       "      <td>-0.021445</td>\n",
       "      <td>-0.320653</td>\n",
       "      <td>-0.418383</td>\n",
       "      <td>-0.539470</td>\n",
       "      <td>-0.446003</td>\n",
       "      <td>-0.423294</td>\n",
       "      <td>-0.250719</td>\n",
       "      <td>0.347633</td>\n",
       "      <td>-0.520364</td>\n",
       "      <td>-0.428473</td>\n",
       "      <td>1.000000</td>\n",
       "    </tr>\n",
       "  </tbody>\n",
       "</table>\n",
       "</div>"
      ],
      "text/plain": [
       "                          Age      Days    Income   Kidhome  Teenhome  \\\n",
       "Age                  1.000000 -0.022431  0.160899 -0.230176  0.352111   \n",
       "Days                -0.022431  1.000000 -0.018470 -0.053343  0.017465   \n",
       "Income               0.160899 -0.018470  1.000000 -0.425326  0.018965   \n",
       "Kidhome             -0.230176 -0.053343 -0.425326  1.000000 -0.036133   \n",
       "Teenhome             0.352111  0.017465  0.018965 -0.036133  1.000000   \n",
       "Recency              0.019871  0.024522 -0.004061  0.008827  0.016198   \n",
       "MntWines             0.157773  0.166264  0.576903 -0.496297  0.004846   \n",
       "MntFruits            0.017917  0.066928  0.428791 -0.372581 -0.176764   \n",
       "MntMeatProducts      0.030872  0.092713  0.577805 -0.437129 -0.261160   \n",
       "MntFishProducts      0.041625  0.080769  0.437564 -0.387644 -0.204187   \n",
       "MntSweetProducts     0.018133  0.081268  0.436131 -0.370673 -0.162475   \n",
       "MntGoldProds         0.061818  0.159596  0.321938 -0.349595 -0.021725   \n",
       "NumDealsPurchases    0.060846  0.218552 -0.082315  0.221798  0.387741   \n",
       "NumCatalogPurchases  0.121275  0.096198  0.586826 -0.502237 -0.110769   \n",
       "NumStorePurchases    0.128272  0.110592  0.526600 -0.499683  0.050695   \n",
       "NumWebVisitsMonth   -0.121139  0.272449 -0.549785  0.447846  0.134884   \n",
       "\n",
       "                      Recency  MntWines  MntFruits  MntMeatProducts  \\\n",
       "Age                  0.019871  0.157773   0.017917         0.030872   \n",
       "Days                 0.024522  0.166264   0.066928         0.092713   \n",
       "Income              -0.004061  0.576903   0.428791         0.577805   \n",
       "Kidhome              0.008827 -0.496297  -0.372581        -0.437129   \n",
       "Teenhome             0.016198  0.004846  -0.176764        -0.261160   \n",
       "Recency              1.000000  0.016064  -0.004306         0.023056   \n",
       "MntWines             0.016064  1.000000   0.389637         0.562667   \n",
       "MntFruits           -0.004306  0.389637   1.000000         0.543105   \n",
       "MntMeatProducts      0.023056  0.562667   0.543105         1.000000   \n",
       "MntFishProducts      0.001079  0.399753   0.594804         0.568402   \n",
       "MntSweetProducts     0.022670  0.386581   0.567164         0.523846   \n",
       "MntGoldProds         0.016693  0.387516   0.392995         0.350609   \n",
       "NumDealsPurchases   -0.001098  0.010940  -0.132114        -0.122415   \n",
       "NumCatalogPurchases  0.025110  0.635226   0.487917         0.723827   \n",
       "NumStorePurchases    0.000799  0.642100   0.461758         0.479659   \n",
       "NumWebVisitsMonth   -0.021445 -0.320653  -0.418383        -0.539470   \n",
       "\n",
       "                     MntFishProducts  MntSweetProducts  MntGoldProds  \\\n",
       "Age                         0.041625          0.018133      0.061818   \n",
       "Days                        0.080769          0.081268      0.159596   \n",
       "Income                      0.437564          0.436131      0.321938   \n",
       "Kidhome                    -0.387644         -0.370673     -0.349595   \n",
       "Teenhome                   -0.204187         -0.162475     -0.021725   \n",
       "Recency                     0.001079          0.022670      0.016693   \n",
       "MntWines                    0.399753          0.386581      0.387516   \n",
       "MntFruits                   0.594804          0.567164      0.392995   \n",
       "MntMeatProducts             0.568402          0.523846      0.350609   \n",
       "MntFishProducts             1.000000          0.579870      0.422875   \n",
       "MntSweetProducts            0.579870          1.000000      0.369724   \n",
       "MntGoldProds                0.422875          0.369724      1.000000   \n",
       "NumDealsPurchases          -0.139361         -0.120100      0.049085   \n",
       "NumCatalogPurchases         0.534478          0.490924      0.437697   \n",
       "NumStorePurchases           0.459855          0.448756      0.381678   \n",
       "NumWebVisitsMonth          -0.446003         -0.423294     -0.250719   \n",
       "\n",
       "                     NumDealsPurchases  NumCatalogPurchases  \\\n",
       "Age                           0.060846             0.121275   \n",
       "Days                          0.218552             0.096198   \n",
       "Income                       -0.082315             0.586826   \n",
       "Kidhome                       0.221798            -0.502237   \n",
       "Teenhome                      0.387741            -0.110769   \n",
       "Recency                      -0.001098             0.025110   \n",
       "MntWines                      0.010940             0.635226   \n",
       "MntFruits                    -0.132114             0.487917   \n",
       "MntMeatProducts              -0.122415             0.723827   \n",
       "MntFishProducts              -0.139361             0.534478   \n",
       "MntSweetProducts             -0.120100             0.490924   \n",
       "MntGoldProds                  0.049085             0.437697   \n",
       "NumDealsPurchases             1.000000            -0.008617   \n",
       "NumCatalogPurchases          -0.008617             1.000000   \n",
       "NumStorePurchases             0.068879             0.518738   \n",
       "NumWebVisitsMonth             0.347633            -0.520364   \n",
       "\n",
       "                     NumStorePurchases  NumWebVisitsMonth  \n",
       "Age                           0.128272          -0.121139  \n",
       "Days                          0.110592           0.272449  \n",
       "Income                        0.526600          -0.549785  \n",
       "Kidhome                      -0.499683           0.447846  \n",
       "Teenhome                      0.050695           0.134884  \n",
       "Recency                       0.000799          -0.021445  \n",
       "MntWines                      0.642100          -0.320653  \n",
       "MntFruits                     0.461758          -0.418383  \n",
       "MntMeatProducts               0.479659          -0.539470  \n",
       "MntFishProducts               0.459855          -0.446003  \n",
       "MntSweetProducts              0.448756          -0.423294  \n",
       "MntGoldProds                  0.381678          -0.250719  \n",
       "NumDealsPurchases             0.068879           0.347633  \n",
       "NumCatalogPurchases           0.518738          -0.520364  \n",
       "NumStorePurchases             1.000000          -0.428473  \n",
       "NumWebVisitsMonth            -0.428473           1.000000  "
      ]
     },
     "execution_count": 474,
     "metadata": {},
     "output_type": "execute_result"
    }
   ],
   "source": [
    "mktd.corr()"
   ]
  },
  {
   "cell_type": "code",
   "execution_count": 599,
   "id": "3f88e559-6610-4cde-8441-250e88ae5e26",
   "metadata": {},
   "outputs": [
    {
     "data": {
      "image/png": "[encoded data removed]",
      "text/plain": [
       "<Figure size 1080x1080 with 2 Axes>"
      ]
     },
     "metadata": {
      "needs_background": "light"
     },
     "output_type": "display_data"
    }
   ],
   "source": [
    "#create correlation matrix\n",
    "plt.figure(figsize = (15,15))\n",
    "\n",
    "matrix = mktd.corr()\n",
    "sns.heatmap(matrix, annot=True)\n",
    "plt.yticks(rotation = 360)\n",
    "plt.xticks(rotation = 60)\n",
    "plt.title('Correlation Heatmap', fontsize = 14)\n",
    "plt.show()"
   ]
  },
  {
   "cell_type": "code",
   "execution_count": 590,
   "id": "20654b6b-1e9d-4a78-932d-2ecb9a40b360",
   "metadata": {},
   "outputs": [],
   "source": [
    "#Define Target Variables and Predictors\n",
    "\n",
    "y = mkt['Response']\n",
    "x = mkt.drop('Response', axis = 1)"
   ]
  },
  {
   "cell_type": "code",
   "execution_count": 477,
   "id": "eb4f90bd-79e7-486c-889a-047e65c4404d",
   "metadata": {},
   "outputs": [],
   "source": [
    "x=pd.get_dummies(x, columns = ['Education', 'Marital_Status'], dtype='int64')\n",
    "x = x.drop('Marital_Status_YOLO', axis =1)\n",
    "x = x.drop('Marital_Status_Absurd', axis =1)\n",
    "x = x.drop('Marital_Status_Alone', axis =1)\n"
   ]
  },
  {
   "cell_type": "code",
   "execution_count": 478,
   "id": "5911e53b-041c-415c-bcc3-d5f582627b4a",
   "metadata": {},
   "outputs": [
    {
     "name": "stdout",
     "output_type": "stream",
     "text": [
      "<class 'pandas.core.frame.DataFrame'>\n",
      "RangeIndex: 2240 entries, 0 to 2239\n",
      "Data columns (total 33 columns):\n",
      " #   Column                   Non-Null Count  Dtype  \n",
      "---  ------                   --------------  -----  \n",
      " 0   Age                      2240 non-null   int64  \n",
      " 1   Income                   2240 non-null   float64\n",
      " 2   Kidhome                  2240 non-null   int64  \n",
      " 3   Teenhome                 2240 non-null   int64  \n",
      " 4   Days                     2240 non-null   int64  \n",
      " 5   Recency                  2240 non-null   int64  \n",
      " 6   MntWines                 2240 non-null   int64  \n",
      " 7   MntFruits                2240 non-null   int64  \n",
      " 8   MntMeatProducts          2240 non-null   int64  \n",
      " 9   MntFishProducts          2240 non-null   int64  \n",
      " 10  MntSweetProducts         2240 non-null   int64  \n",
      " 11  MntGoldProds             2240 non-null   int64  \n",
      " 12  NumDealsPurchases        2240 non-null   int64  \n",
      " 13  NumWebPurchases          2240 non-null   int64  \n",
      " 14  NumCatalogPurchases      2240 non-null   int64  \n",
      " 15  NumStorePurchases        2240 non-null   int64  \n",
      " 16  NumWebVisitsMonth        2240 non-null   int64  \n",
      " 17  AcceptedCmp3             2240 non-null   int64  \n",
      " 18  AcceptedCmp4             2240 non-null   int64  \n",
      " 19  AcceptedCmp5             2240 non-null   int64  \n",
      " 20  AcceptedCmp1             2240 non-null   int64  \n",
      " 21  AcceptedCmp2             2240 non-null   int64  \n",
      " 22  Complain                 2240 non-null   int64  \n",
      " 23  Education_2n Cycle       2240 non-null   int64  \n",
      " 24  Education_Basic          2240 non-null   int64  \n",
      " 25  Education_Graduation     2240 non-null   int64  \n",
      " 26  Education_Master         2240 non-null   int64  \n",
      " 27  Education_PhD            2240 non-null   int64  \n",
      " 28  Marital_Status_Divorced  2240 non-null   int64  \n",
      " 29  Marital_Status_Married   2240 non-null   int64  \n",
      " 30  Marital_Status_Single    2240 non-null   int64  \n",
      " 31  Marital_Status_Together  2240 non-null   int64  \n",
      " 32  Marital_Status_Widow     2240 non-null   int64  \n",
      "dtypes: float64(1), int64(32)\n",
      "memory usage: 577.6 KB\n"
     ]
    }
   ],
   "source": [
    "x.info()"
   ]
  },
  {
   "cell_type": "code",
   "execution_count": 479,
   "id": "82f11db8-625d-4787-80bc-d5117418b5fd",
   "metadata": {},
   "outputs": [],
   "source": [
    "#split data\n",
    "from sklearn.model_selection import train_test_split\n",
    "\n",
    "train_x, test_x, train_y, test_y = train_test_split(x, y, test_size = 0.3, random_state=999)"
   ]
  },
  {
   "cell_type": "code",
   "execution_count": 480,
   "id": "c8a6f552-861f-4070-abd2-055e1a3b8390",
   "metadata": {},
   "outputs": [
    {
     "data": {
      "text/html": [
       "<div>\n",
       "<style scoped>\n",
       "    .dataframe tbody tr th:only-of-type {\n",
       "        vertical-align: middle;\n",
       "    }\n",
       "\n",
       "    .dataframe tbody tr th {\n",
       "        vertical-align: top;\n",
       "    }\n",
       "\n",
       "    .dataframe thead th {\n",
       "        text-align: right;\n",
       "    }\n",
       "</style>\n",
       "<table border=\"1\" class=\"dataframe\">\n",
       "  <thead>\n",
       "    <tr style=\"text-align: right;\">\n",
       "      <th></th>\n",
       "      <th>Age</th>\n",
       "      <th>Income</th>\n",
       "      <th>Kidhome</th>\n",
       "      <th>Teenhome</th>\n",
       "      <th>Days</th>\n",
       "      <th>Recency</th>\n",
       "      <th>MntWines</th>\n",
       "      <th>MntFruits</th>\n",
       "      <th>MntMeatProducts</th>\n",
       "      <th>MntFishProducts</th>\n",
       "      <th>...</th>\n",
       "      <th>Education_2n Cycle</th>\n",
       "      <th>Education_Basic</th>\n",
       "      <th>Education_Graduation</th>\n",
       "      <th>Education_Master</th>\n",
       "      <th>Education_PhD</th>\n",
       "      <th>Marital_Status_Divorced</th>\n",
       "      <th>Marital_Status_Married</th>\n",
       "      <th>Marital_Status_Single</th>\n",
       "      <th>Marital_Status_Together</th>\n",
       "      <th>Marital_Status_Widow</th>\n",
       "    </tr>\n",
       "  </thead>\n",
       "  <tbody>\n",
       "    <tr>\n",
       "      <th>621</th>\n",
       "      <td>51</td>\n",
       "      <td>31632.0</td>\n",
       "      <td>0</td>\n",
       "      <td>0</td>\n",
       "      <td>3215</td>\n",
       "      <td>92</td>\n",
       "      <td>17</td>\n",
       "      <td>8</td>\n",
       "      <td>12</td>\n",
       "      <td>11</td>\n",
       "      <td>...</td>\n",
       "      <td>0</td>\n",
       "      <td>0</td>\n",
       "      <td>1</td>\n",
       "      <td>0</td>\n",
       "      <td>0</td>\n",
       "      <td>0</td>\n",
       "      <td>0</td>\n",
       "      <td>1</td>\n",
       "      <td>0</td>\n",
       "      <td>0</td>\n",
       "    </tr>\n",
       "    <tr>\n",
       "      <th>1795</th>\n",
       "      <td>62</td>\n",
       "      <td>28520.0</td>\n",
       "      <td>1</td>\n",
       "      <td>1</td>\n",
       "      <td>3245</td>\n",
       "      <td>55</td>\n",
       "      <td>11</td>\n",
       "      <td>0</td>\n",
       "      <td>10</td>\n",
       "      <td>0</td>\n",
       "      <td>...</td>\n",
       "      <td>0</td>\n",
       "      <td>0</td>\n",
       "      <td>0</td>\n",
       "      <td>1</td>\n",
       "      <td>0</td>\n",
       "      <td>0</td>\n",
       "      <td>1</td>\n",
       "      <td>0</td>\n",
       "      <td>0</td>\n",
       "      <td>0</td>\n",
       "    </tr>\n",
       "    <tr>\n",
       "      <th>672</th>\n",
       "      <td>52</td>\n",
       "      <td>66731.0</td>\n",
       "      <td>0</td>\n",
       "      <td>1</td>\n",
       "      <td>3520</td>\n",
       "      <td>33</td>\n",
       "      <td>371</td>\n",
       "      <td>159</td>\n",
       "      <td>194</td>\n",
       "      <td>58</td>\n",
       "      <td>...</td>\n",
       "      <td>0</td>\n",
       "      <td>0</td>\n",
       "      <td>1</td>\n",
       "      <td>0</td>\n",
       "      <td>0</td>\n",
       "      <td>0</td>\n",
       "      <td>0</td>\n",
       "      <td>0</td>\n",
       "      <td>0</td>\n",
       "      <td>1</td>\n",
       "    </tr>\n",
       "    <tr>\n",
       "      <th>1877</th>\n",
       "      <td>64</td>\n",
       "      <td>72905.0</td>\n",
       "      <td>0</td>\n",
       "      <td>0</td>\n",
       "      <td>3024</td>\n",
       "      <td>52</td>\n",
       "      <td>407</td>\n",
       "      <td>114</td>\n",
       "      <td>445</td>\n",
       "      <td>181</td>\n",
       "      <td>...</td>\n",
       "      <td>0</td>\n",
       "      <td>0</td>\n",
       "      <td>1</td>\n",
       "      <td>0</td>\n",
       "      <td>0</td>\n",
       "      <td>0</td>\n",
       "      <td>1</td>\n",
       "      <td>0</td>\n",
       "      <td>0</td>\n",
       "      <td>0</td>\n",
       "    </tr>\n",
       "    <tr>\n",
       "      <th>69</th>\n",
       "      <td>52</td>\n",
       "      <td>74854.0</td>\n",
       "      <td>1</td>\n",
       "      <td>2</td>\n",
       "      <td>3312</td>\n",
       "      <td>90</td>\n",
       "      <td>856</td>\n",
       "      <td>59</td>\n",
       "      <td>487</td>\n",
       "      <td>58</td>\n",
       "      <td>...</td>\n",
       "      <td>0</td>\n",
       "      <td>0</td>\n",
       "      <td>1</td>\n",
       "      <td>0</td>\n",
       "      <td>0</td>\n",
       "      <td>0</td>\n",
       "      <td>0</td>\n",
       "      <td>0</td>\n",
       "      <td>1</td>\n",
       "      <td>0</td>\n",
       "    </tr>\n",
       "  </tbody>\n",
       "</table>\n",
       "<p>5 rows × 33 columns</p>\n",
       "</div>"
      ],
      "text/plain": [
       "      Age   Income  Kidhome  Teenhome  Days  Recency  MntWines  MntFruits  \\\n",
       "621    51  31632.0        0         0  3215       92        17          8   \n",
       "1795   62  28520.0        1         1  3245       55        11          0   \n",
       "672    52  66731.0        0         1  3520       33       371        159   \n",
       "1877   64  72905.0        0         0  3024       52       407        114   \n",
       "69     52  74854.0        1         2  3312       90       856         59   \n",
       "\n",
       "      MntMeatProducts  MntFishProducts  ...  Education_2n Cycle  \\\n",
       "621                12               11  ...                   0   \n",
       "1795               10                0  ...                   0   \n",
       "672               194               58  ...                   0   \n",
       "1877              445              181  ...                   0   \n",
       "69                487               58  ...                   0   \n",
       "\n",
       "      Education_Basic  Education_Graduation  Education_Master  Education_PhD  \\\n",
       "621                 0                     1                 0              0   \n",
       "1795                0                     0                 1              0   \n",
       "672                 0                     1                 0              0   \n",
       "1877                0                     1                 0              0   \n",
       "69                  0                     1                 0              0   \n",
       "\n",
       "      Marital_Status_Divorced  Marital_Status_Married  Marital_Status_Single  \\\n",
       "621                         0                       0                      1   \n",
       "1795                        0                       1                      0   \n",
       "672                         0                       0                      0   \n",
       "1877                        0                       1                      0   \n",
       "69                          0                       0                      0   \n",
       "\n",
       "      Marital_Status_Together  Marital_Status_Widow  \n",
       "621                         0                     0  \n",
       "1795                        0                     0  \n",
       "672                         0                     1  \n",
       "1877                        0                     0  \n",
       "69                          1                     0  \n",
       "\n",
       "[5 rows x 33 columns]"
      ]
     },
     "execution_count": 480,
     "metadata": {},
     "output_type": "execute_result"
    }
   ],
   "source": [
    "train_x.head()"
   ]
  },
  {
   "cell_type": "code",
   "execution_count": 481,
   "id": "5a48c2a5-7afc-4273-805d-2a5b68fc293e",
   "metadata": {},
   "outputs": [],
   "source": [
    "# Over sampling\n",
    "from imblearn.over_sampling import RandomOverSampler\n",
    "ros = RandomOverSampler(random_state=2)\n",
    "train_x, train_y = ros.fit_resample(train_x, train_y)"
   ]
  },
  {
   "cell_type": "code",
   "execution_count": 482,
   "id": "b1e8d2c0-1e2d-4dad-b9a6-1f0bc394ae4a",
   "metadata": {},
   "outputs": [
    {
     "data": {
      "text/plain": [
       "0    1332\n",
       "1    1332\n",
       "Name: Response, dtype: int64"
      ]
     },
     "execution_count": 482,
     "metadata": {},
     "output_type": "execute_result"
    }
   ],
   "source": [
    "train_y.value_counts()"
   ]
  },
  {
   "cell_type": "code",
   "execution_count": 483,
   "id": "db4ac935-860a-4790-b682-c09b86dfd2ae",
   "metadata": {},
   "outputs": [],
   "source": [
    "train_x_scaled = (train_x-train_x.min())/(train_x.max()-train_x.min())\n",
    "test_x_scaled = (test_x-test_x.min())/(test_x.max()-test_x.min())\n"
   ]
  },
  {
   "cell_type": "code",
   "execution_count": 484,
   "id": "33c90bd9-7c9c-4310-a514-f919f75a3334",
   "metadata": {},
   "outputs": [
    {
     "data": {
      "text/plain": [
       "Index(['Age', 'Income', 'Kidhome', 'Teenhome', 'Days', 'Recency', 'MntWines',\n",
       "       'MntFruits', 'MntMeatProducts', 'MntFishProducts', 'MntSweetProducts',\n",
       "       'MntGoldProds', 'NumDealsPurchases', 'NumWebPurchases',\n",
       "       'NumCatalogPurchases', 'NumStorePurchases', 'NumWebVisitsMonth',\n",
       "       'AcceptedCmp3', 'AcceptedCmp4', 'AcceptedCmp5', 'AcceptedCmp1',\n",
       "       'AcceptedCmp2', 'Complain', 'Education_2n Cycle', 'Education_Basic',\n",
       "       'Education_Graduation', 'Education_Master', 'Education_PhD',\n",
       "       'Marital_Status_Divorced', 'Marital_Status_Married',\n",
       "       'Marital_Status_Single', 'Marital_Status_Together',\n",
       "       'Marital_Status_Widow'],\n",
       "      dtype='object')"
      ]
     },
     "execution_count": 484,
     "metadata": {},
     "output_type": "execute_result"
    }
   ],
   "source": [
    "train_x_scaled.columns"
   ]
  },
  {
   "cell_type": "code",
   "execution_count": 634,
   "id": "bf7c1ef6-5139-4cec-8159-e36341bbbdb0",
   "metadata": {},
   "outputs": [
    {
     "data": {
      "text/html": [
       "<div>\n",
       "<style scoped>\n",
       "    .dataframe tbody tr th:only-of-type {\n",
       "        vertical-align: middle;\n",
       "    }\n",
       "\n",
       "    .dataframe tbody tr th {\n",
       "        vertical-align: top;\n",
       "    }\n",
       "\n",
       "    .dataframe thead th {\n",
       "        text-align: right;\n",
       "    }\n",
       "</style>\n",
       "<table border=\"1\" class=\"dataframe\">\n",
       "  <thead>\n",
       "    <tr style=\"text-align: right;\">\n",
       "      <th></th>\n",
       "      <th>Age</th>\n",
       "      <th>Income</th>\n",
       "      <th>Kidhome</th>\n",
       "      <th>Teenhome</th>\n",
       "      <th>Days</th>\n",
       "      <th>Recency</th>\n",
       "      <th>MntWines</th>\n",
       "      <th>MntFruits</th>\n",
       "      <th>MntMeatProducts</th>\n",
       "      <th>MntFishProducts</th>\n",
       "      <th>...</th>\n",
       "      <th>Education_2n Cycle</th>\n",
       "      <th>Education_Basic</th>\n",
       "      <th>Education_Graduation</th>\n",
       "      <th>Education_Master</th>\n",
       "      <th>Education_PhD</th>\n",
       "      <th>Marital_Status_Divorced</th>\n",
       "      <th>Marital_Status_Married</th>\n",
       "      <th>Marital_Status_Single</th>\n",
       "      <th>Marital_Status_Together</th>\n",
       "      <th>Marital_Status_Widow</th>\n",
       "    </tr>\n",
       "  </thead>\n",
       "  <tbody>\n",
       "    <tr>\n",
       "      <th>0</th>\n",
       "      <td>0.235294</td>\n",
       "      <td>0.186112</td>\n",
       "      <td>0.0</td>\n",
       "      <td>0.0</td>\n",
       "      <td>0.500000</td>\n",
       "      <td>0.929293</td>\n",
       "      <td>0.011394</td>\n",
       "      <td>0.040201</td>\n",
       "      <td>0.006381</td>\n",
       "      <td>0.042636</td>\n",
       "      <td>...</td>\n",
       "      <td>0.0</td>\n",
       "      <td>0.0</td>\n",
       "      <td>1.0</td>\n",
       "      <td>0.0</td>\n",
       "      <td>0.0</td>\n",
       "      <td>0.0</td>\n",
       "      <td>0.0</td>\n",
       "      <td>1.0</td>\n",
       "      <td>0.0</td>\n",
       "      <td>0.0</td>\n",
       "    </tr>\n",
       "    <tr>\n",
       "      <th>1</th>\n",
       "      <td>0.343137</td>\n",
       "      <td>0.166742</td>\n",
       "      <td>0.5</td>\n",
       "      <td>0.5</td>\n",
       "      <td>0.542980</td>\n",
       "      <td>0.555556</td>\n",
       "      <td>0.007373</td>\n",
       "      <td>0.000000</td>\n",
       "      <td>0.005220</td>\n",
       "      <td>0.000000</td>\n",
       "      <td>...</td>\n",
       "      <td>0.0</td>\n",
       "      <td>0.0</td>\n",
       "      <td>0.0</td>\n",
       "      <td>1.0</td>\n",
       "      <td>0.0</td>\n",
       "      <td>0.0</td>\n",
       "      <td>1.0</td>\n",
       "      <td>0.0</td>\n",
       "      <td>0.0</td>\n",
       "      <td>0.0</td>\n",
       "    </tr>\n",
       "    <tr>\n",
       "      <th>2</th>\n",
       "      <td>0.245098</td>\n",
       "      <td>0.404570</td>\n",
       "      <td>0.0</td>\n",
       "      <td>0.5</td>\n",
       "      <td>0.936963</td>\n",
       "      <td>0.333333</td>\n",
       "      <td>0.248660</td>\n",
       "      <td>0.798995</td>\n",
       "      <td>0.111949</td>\n",
       "      <td>0.224806</td>\n",
       "      <td>...</td>\n",
       "      <td>0.0</td>\n",
       "      <td>0.0</td>\n",
       "      <td>1.0</td>\n",
       "      <td>0.0</td>\n",
       "      <td>0.0</td>\n",
       "      <td>0.0</td>\n",
       "      <td>0.0</td>\n",
       "      <td>0.0</td>\n",
       "      <td>0.0</td>\n",
       "      <td>1.0</td>\n",
       "    </tr>\n",
       "    <tr>\n",
       "      <th>3</th>\n",
       "      <td>0.362745</td>\n",
       "      <td>0.442997</td>\n",
       "      <td>0.0</td>\n",
       "      <td>0.0</td>\n",
       "      <td>0.226361</td>\n",
       "      <td>0.525253</td>\n",
       "      <td>0.272788</td>\n",
       "      <td>0.572864</td>\n",
       "      <td>0.257541</td>\n",
       "      <td>0.701550</td>\n",
       "      <td>...</td>\n",
       "      <td>0.0</td>\n",
       "      <td>0.0</td>\n",
       "      <td>1.0</td>\n",
       "      <td>0.0</td>\n",
       "      <td>0.0</td>\n",
       "      <td>0.0</td>\n",
       "      <td>1.0</td>\n",
       "      <td>0.0</td>\n",
       "      <td>0.0</td>\n",
       "      <td>0.0</td>\n",
       "    </tr>\n",
       "    <tr>\n",
       "      <th>4</th>\n",
       "      <td>0.245098</td>\n",
       "      <td>0.455128</td>\n",
       "      <td>0.5</td>\n",
       "      <td>1.0</td>\n",
       "      <td>0.638968</td>\n",
       "      <td>0.909091</td>\n",
       "      <td>0.573727</td>\n",
       "      <td>0.296482</td>\n",
       "      <td>0.281903</td>\n",
       "      <td>0.224806</td>\n",
       "      <td>...</td>\n",
       "      <td>0.0</td>\n",
       "      <td>0.0</td>\n",
       "      <td>1.0</td>\n",
       "      <td>0.0</td>\n",
       "      <td>0.0</td>\n",
       "      <td>0.0</td>\n",
       "      <td>0.0</td>\n",
       "      <td>0.0</td>\n",
       "      <td>1.0</td>\n",
       "      <td>0.0</td>\n",
       "    </tr>\n",
       "  </tbody>\n",
       "</table>\n",
       "<p>5 rows × 33 columns</p>\n",
       "</div>"
      ],
      "text/plain": [
       "        Age    Income  Kidhome  Teenhome      Days   Recency  MntWines  \\\n",
       "0  0.235294  0.186112      0.0       0.0  0.500000  0.929293  0.011394   \n",
       "1  0.343137  0.166742      0.5       0.5  0.542980  0.555556  0.007373   \n",
       "2  0.245098  0.404570      0.0       0.5  0.936963  0.333333  0.248660   \n",
       "3  0.362745  0.442997      0.0       0.0  0.226361  0.525253  0.272788   \n",
       "4  0.245098  0.455128      0.5       1.0  0.638968  0.909091  0.573727   \n",
       "\n",
       "   MntFruits  MntMeatProducts  MntFishProducts  ...  Education_2n Cycle  \\\n",
       "0   0.040201         0.006381         0.042636  ...                 0.0   \n",
       "1   0.000000         0.005220         0.000000  ...                 0.0   \n",
       "2   0.798995         0.111949         0.224806  ...                 0.0   \n",
       "3   0.572864         0.257541         0.701550  ...                 0.0   \n",
       "4   0.296482         0.281903         0.224806  ...                 0.0   \n",
       "\n",
       "   Education_Basic  Education_Graduation  Education_Master  Education_PhD  \\\n",
       "0              0.0                   1.0               0.0            0.0   \n",
       "1              0.0                   0.0               1.0            0.0   \n",
       "2              0.0                   1.0               0.0            0.0   \n",
       "3              0.0                   1.0               0.0            0.0   \n",
       "4              0.0                   1.0               0.0            0.0   \n",
       "\n",
       "   Marital_Status_Divorced  Marital_Status_Married  Marital_Status_Single  \\\n",
       "0                      0.0                     0.0                    1.0   \n",
       "1                      0.0                     1.0                    0.0   \n",
       "2                      0.0                     0.0                    0.0   \n",
       "3                      0.0                     1.0                    0.0   \n",
       "4                      0.0                     0.0                    0.0   \n",
       "\n",
       "   Marital_Status_Together  Marital_Status_Widow  \n",
       "0                      0.0                   0.0  \n",
       "1                      0.0                   0.0  \n",
       "2                      0.0                   1.0  \n",
       "3                      0.0                   0.0  \n",
       "4                      1.0                   0.0  \n",
       "\n",
       "[5 rows x 33 columns]"
      ]
     },
     "execution_count": 634,
     "metadata": {},
     "output_type": "execute_result"
    }
   ],
   "source": [
    "train_x_scaled.head()"
   ]
  },
  {
   "cell_type": "markdown",
   "id": "b75f24c8-0b58-4575-a9c1-f5d8cd0675a2",
   "metadata": {},
   "source": [
    "# Logistic Regression"
   ]
  },
  {
   "cell_type": "code",
   "execution_count": 485,
   "id": "397aaecd-2167-45e8-8573-b71f978d491d",
   "metadata": {},
   "outputs": [
    {
     "name": "stdout",
     "output_type": "stream",
     "text": [
      "Optimization terminated successfully.\n",
      "         Current function value: 0.354559\n",
      "         Iterations 7\n",
      "                             Results: Logit\n",
      "========================================================================\n",
      "Model:                  Logit              Pseudo R-squared:   0.488    \n",
      "Dependent Variable:     Response           AIC:                1955.0890\n",
      "Date:                   2022-05-03 16:15   BIC:                2149.3793\n",
      "No. Observations:       2664               Log-Likelihood:     -944.54  \n",
      "Df Model:               32                 LL-Null:            -1846.5  \n",
      "Df Residuals:           2631               LLR p-value:        0.0000   \n",
      "Converged:              1.0000             Scale:              1.0000   \n",
      "No. Iterations:         7.0000                                          \n",
      "------------------------------------------------------------------------\n",
      "                         Coef.  Std.Err.    z     P>|z|   [0.025  0.975]\n",
      "------------------------------------------------------------------------\n",
      "Age                      0.7826   0.5802   1.3487 0.1774 -0.3547  1.9198\n",
      "Income                   1.9664   0.9351   2.1028 0.0355  0.1336  3.7992\n",
      "Kidhome                  0.3518   0.3346   1.0513 0.2931 -0.3041  1.0077\n",
      "Teenhome                -2.7839   0.3286  -8.4728 0.0000 -3.4278 -2.1399\n",
      "Days                     4.0871   0.2645  15.4507 0.0000  3.5687  4.6056\n",
      "Recency                 -3.3925   0.2263 -14.9903 0.0000 -3.8361 -2.9489\n",
      "MntWines                -2.2608   0.5013  -4.5099 0.0000 -3.2433 -1.2783\n",
      "MntFruits                0.9631   0.4130   2.3319 0.0197  0.1536  1.7725\n",
      "MntMeatProducts          4.3360   0.7094   6.1122 0.0000  2.9456  5.7264\n",
      "MntFishProducts         -0.6625   0.4049  -1.6359 0.1019 -1.4562  0.1312\n",
      "MntSweetProducts         0.2150   0.3792   0.5670 0.5707 -0.5282  0.9583\n",
      "MntGoldProds             0.2927   0.4101   0.7138 0.4753 -0.5111  1.0965\n",
      "NumDealsPurchases        3.1834   0.6042   5.2688 0.0000  1.9992  4.3676\n",
      "NumWebPurchases          4.2692   0.7674   5.5634 0.0000  2.7652  5.7732\n",
      "NumCatalogPurchases      2.6251   1.0306   2.5472 0.0109  0.6052  4.6449\n",
      "NumStorePurchases       -3.5962   0.3668  -9.8044 0.0000 -4.3151 -2.8773\n",
      "NumWebVisitsMonth        1.5087   0.8564   1.7617 0.0781 -0.1698  3.1872\n",
      "AcceptedCmp3             2.5882   0.2337  11.0767 0.0000  2.1303  3.0462\n",
      "AcceptedCmp4             1.4782   0.2444   6.0476 0.0000  0.9991  1.9573\n",
      "AcceptedCmp5             1.8054   0.2649   6.8168 0.0000  1.2863  2.3245\n",
      "AcceptedCmp1             1.9262   0.2529   7.6178 0.0000  1.4306  2.4218\n",
      "AcceptedCmp2             2.6752   0.4712   5.6773 0.0000  1.7516  3.5987\n",
      "Complain                -1.2213   0.8735  -1.3982 0.1620 -2.9333  0.4907\n",
      "Education_2n Cycle      -2.5345   1.0313  -2.4575 0.0140 -4.5558 -0.5131\n",
      "Education_Basic         -3.5664   1.1129  -3.2047 0.0014 -5.7476 -1.3852\n",
      "Education_Graduation    -1.6064   1.0082  -1.5934 0.1111 -3.5823  0.3695\n",
      "Education_Master        -1.4484   1.0100  -1.4341 0.1515 -3.4279  0.5311\n",
      "Education_PhD           -0.6021   1.0035  -0.6000 0.5485 -2.5690  1.3648\n",
      "Marital_Status_Divorced -0.2414   0.9361  -0.2579 0.7965 -2.0762  1.5933\n",
      "Marital_Status_Married  -1.7226   0.9281  -1.8560 0.0635 -3.5417  0.0965\n",
      "Marital_Status_Single   -0.5773   0.9291  -0.6213 0.5344 -2.3984  1.2438\n",
      "Marital_Status_Together -1.9009   0.9320  -2.0396 0.0414 -3.7275 -0.0742\n",
      "Marital_Status_Widow    -0.1171   0.9657  -0.1212 0.9035 -2.0098  1.7756\n",
      "========================================================================\n",
      "\n"
     ]
    }
   ],
   "source": [
    "#Logistic Regression\n",
    "\n",
    "import statsmodels.api as sm\n",
    "logit=sm.Logit(train_y, train_x_scaled)\n",
    "result=logit.fit()\n",
    "print(result.summary2())"
   ]
  },
  {
   "cell_type": "code",
   "execution_count": 636,
   "id": "d4c637b4-0d45-4bc0-8f54-ea018fc53ee3",
   "metadata": {},
   "outputs": [],
   "source": [
    "train_xn = train_x_scaled.copy()\n",
    "train_xn.drop(columns= ['Age', 'Kidhome', 'MntFishProducts', 'MntSweetProducts', 'MntGoldProds', 'NumWebVisitsMonth', 'Complain', 'Education_Graduation', 'Education_Master', 'Education_PhD', 'Marital_Status_Divorced', 'Marital_Status_Married', 'Marital_Status_Single', 'Marital_Status_Widow'], axis=1, inplace=True)"
   ]
  },
  {
   "cell_type": "code",
   "execution_count": 637,
   "id": "52ceb1d5-8008-4325-8cd1-329867221f61",
   "metadata": {},
   "outputs": [
    {
     "name": "stdout",
     "output_type": "stream",
     "text": [
      "                    feature        VIF\n",
      "0                    Income  16.244659\n",
      "1                  Teenhome   2.676649\n",
      "2                      Days   4.595708\n",
      "3                   Recency   3.102521\n",
      "4                  MntWines   5.772421\n",
      "5                 MntFruits   2.640411\n",
      "6           MntMeatProducts   4.563858\n",
      "7         NumDealsPurchases   3.698312\n",
      "8           NumWebPurchases   6.503832\n",
      "9       NumCatalogPurchases   5.517666\n",
      "10        NumStorePurchases   8.774489\n",
      "11             AcceptedCmp3   1.238503\n",
      "12             AcceptedCmp4   1.690851\n",
      "13             AcceptedCmp5   2.161083\n",
      "14             AcceptedCmp1   1.874733\n",
      "15             AcceptedCmp2   1.332136\n",
      "16       Education_2n Cycle   1.107132\n",
      "17          Education_Basic   1.039980\n",
      "18  Marital_Status_Together   1.306314\n"
     ]
    }
   ],
   "source": [
    "#calculate Variance Inflation Factor\n",
    "from statsmodels.stats.outliers_influence import variance_inflation_factor\n",
    "  \n",
    "vif_data = pd.DataFrame()\n",
    "vif_data[\"feature\"] = train_xn.columns\n",
    "  \n",
    "# calculating VIF for each feature\n",
    "vif_data[\"VIF\"] = [variance_inflation_factor(train_xn.values, i)\n",
    "                          for i in range(len(train_xn.columns))]\n",
    "  \n",
    "print(vif_data)"
   ]
  },
  {
   "cell_type": "code",
   "execution_count": 488,
   "id": "3ec00f0f-e778-49a6-9093-c6f28014abab",
   "metadata": {},
   "outputs": [
    {
     "data": {
      "text/html": [
       "<div>\n",
       "<style scoped>\n",
       "    .dataframe tbody tr th:only-of-type {\n",
       "        vertical-align: middle;\n",
       "    }\n",
       "\n",
       "    .dataframe tbody tr th {\n",
       "        vertical-align: top;\n",
       "    }\n",
       "\n",
       "    .dataframe thead th {\n",
       "        text-align: right;\n",
       "    }\n",
       "</style>\n",
       "<table border=\"1\" class=\"dataframe\">\n",
       "  <thead>\n",
       "    <tr style=\"text-align: right;\">\n",
       "      <th></th>\n",
       "      <th>Age</th>\n",
       "      <th>Kidhome</th>\n",
       "      <th>Teenhome</th>\n",
       "      <th>Days</th>\n",
       "      <th>Recency</th>\n",
       "      <th>MntWines</th>\n",
       "      <th>MntMeatProducts</th>\n",
       "      <th>MntFishProducts</th>\n",
       "      <th>NumWebPurchases</th>\n",
       "      <th>NumCatalogPurchases</th>\n",
       "      <th>...</th>\n",
       "      <th>NumWebVisitsMonth</th>\n",
       "      <th>AcceptedCmp3</th>\n",
       "      <th>AcceptedCmp4</th>\n",
       "      <th>AcceptedCmp5</th>\n",
       "      <th>AcceptedCmp1</th>\n",
       "      <th>AcceptedCmp2</th>\n",
       "      <th>Education_2n Cycle</th>\n",
       "      <th>Education_Basic</th>\n",
       "      <th>Education_Graduation</th>\n",
       "      <th>Education_Master</th>\n",
       "    </tr>\n",
       "  </thead>\n",
       "  <tbody>\n",
       "    <tr>\n",
       "      <th>0</th>\n",
       "      <td>0.235294</td>\n",
       "      <td>0.0</td>\n",
       "      <td>0.0</td>\n",
       "      <td>0.500000</td>\n",
       "      <td>0.929293</td>\n",
       "      <td>0.011394</td>\n",
       "      <td>0.006381</td>\n",
       "      <td>0.042636</td>\n",
       "      <td>0.08</td>\n",
       "      <td>0.035714</td>\n",
       "      <td>...</td>\n",
       "      <td>0.35</td>\n",
       "      <td>0.0</td>\n",
       "      <td>0.0</td>\n",
       "      <td>0.0</td>\n",
       "      <td>0.0</td>\n",
       "      <td>0.0</td>\n",
       "      <td>0.0</td>\n",
       "      <td>0.0</td>\n",
       "      <td>1.0</td>\n",
       "      <td>0.0</td>\n",
       "    </tr>\n",
       "    <tr>\n",
       "      <th>1</th>\n",
       "      <td>0.343137</td>\n",
       "      <td>0.5</td>\n",
       "      <td>0.5</td>\n",
       "      <td>0.542980</td>\n",
       "      <td>0.555556</td>\n",
       "      <td>0.007373</td>\n",
       "      <td>0.005220</td>\n",
       "      <td>0.000000</td>\n",
       "      <td>0.04</td>\n",
       "      <td>0.035714</td>\n",
       "      <td>...</td>\n",
       "      <td>0.30</td>\n",
       "      <td>0.0</td>\n",
       "      <td>0.0</td>\n",
       "      <td>0.0</td>\n",
       "      <td>0.0</td>\n",
       "      <td>0.0</td>\n",
       "      <td>0.0</td>\n",
       "      <td>0.0</td>\n",
       "      <td>0.0</td>\n",
       "      <td>1.0</td>\n",
       "    </tr>\n",
       "    <tr>\n",
       "      <th>2</th>\n",
       "      <td>0.245098</td>\n",
       "      <td>0.0</td>\n",
       "      <td>0.5</td>\n",
       "      <td>0.936963</td>\n",
       "      <td>0.333333</td>\n",
       "      <td>0.248660</td>\n",
       "      <td>0.111949</td>\n",
       "      <td>0.224806</td>\n",
       "      <td>0.16</td>\n",
       "      <td>0.107143</td>\n",
       "      <td>...</td>\n",
       "      <td>0.15</td>\n",
       "      <td>0.0</td>\n",
       "      <td>0.0</td>\n",
       "      <td>0.0</td>\n",
       "      <td>0.0</td>\n",
       "      <td>0.0</td>\n",
       "      <td>0.0</td>\n",
       "      <td>0.0</td>\n",
       "      <td>1.0</td>\n",
       "      <td>0.0</td>\n",
       "    </tr>\n",
       "    <tr>\n",
       "      <th>3</th>\n",
       "      <td>0.362745</td>\n",
       "      <td>0.0</td>\n",
       "      <td>0.0</td>\n",
       "      <td>0.226361</td>\n",
       "      <td>0.525253</td>\n",
       "      <td>0.272788</td>\n",
       "      <td>0.257541</td>\n",
       "      <td>0.701550</td>\n",
       "      <td>0.12</td>\n",
       "      <td>0.250000</td>\n",
       "      <td>...</td>\n",
       "      <td>0.05</td>\n",
       "      <td>0.0</td>\n",
       "      <td>0.0</td>\n",
       "      <td>0.0</td>\n",
       "      <td>1.0</td>\n",
       "      <td>0.0</td>\n",
       "      <td>0.0</td>\n",
       "      <td>0.0</td>\n",
       "      <td>1.0</td>\n",
       "      <td>0.0</td>\n",
       "    </tr>\n",
       "    <tr>\n",
       "      <th>4</th>\n",
       "      <td>0.245098</td>\n",
       "      <td>0.5</td>\n",
       "      <td>1.0</td>\n",
       "      <td>0.638968</td>\n",
       "      <td>0.909091</td>\n",
       "      <td>0.573727</td>\n",
       "      <td>0.281903</td>\n",
       "      <td>0.224806</td>\n",
       "      <td>0.08</td>\n",
       "      <td>0.178571</td>\n",
       "      <td>...</td>\n",
       "      <td>0.25</td>\n",
       "      <td>0.0</td>\n",
       "      <td>0.0</td>\n",
       "      <td>0.0</td>\n",
       "      <td>0.0</td>\n",
       "      <td>0.0</td>\n",
       "      <td>0.0</td>\n",
       "      <td>0.0</td>\n",
       "      <td>1.0</td>\n",
       "      <td>0.0</td>\n",
       "    </tr>\n",
       "  </tbody>\n",
       "</table>\n",
       "<p>5 rows × 21 columns</p>\n",
       "</div>"
      ],
      "text/plain": [
       "        Age  Kidhome  Teenhome      Days   Recency  MntWines  MntMeatProducts  \\\n",
       "0  0.235294      0.0       0.0  0.500000  0.929293  0.011394         0.006381   \n",
       "1  0.343137      0.5       0.5  0.542980  0.555556  0.007373         0.005220   \n",
       "2  0.245098      0.0       0.5  0.936963  0.333333  0.248660         0.111949   \n",
       "3  0.362745      0.0       0.0  0.226361  0.525253  0.272788         0.257541   \n",
       "4  0.245098      0.5       1.0  0.638968  0.909091  0.573727         0.281903   \n",
       "\n",
       "   MntFishProducts  NumWebPurchases  NumCatalogPurchases  ...  \\\n",
       "0         0.042636             0.08             0.035714  ...   \n",
       "1         0.000000             0.04             0.035714  ...   \n",
       "2         0.224806             0.16             0.107143  ...   \n",
       "3         0.701550             0.12             0.250000  ...   \n",
       "4         0.224806             0.08             0.178571  ...   \n",
       "\n",
       "   NumWebVisitsMonth  AcceptedCmp3  AcceptedCmp4  AcceptedCmp5  AcceptedCmp1  \\\n",
       "0               0.35           0.0           0.0           0.0           0.0   \n",
       "1               0.30           0.0           0.0           0.0           0.0   \n",
       "2               0.15           0.0           0.0           0.0           0.0   \n",
       "3               0.05           0.0           0.0           0.0           1.0   \n",
       "4               0.25           0.0           0.0           0.0           0.0   \n",
       "\n",
       "   AcceptedCmp2  Education_2n Cycle  Education_Basic  Education_Graduation  \\\n",
       "0           0.0                 0.0              0.0                   1.0   \n",
       "1           0.0                 0.0              0.0                   0.0   \n",
       "2           0.0                 0.0              0.0                   1.0   \n",
       "3           0.0                 0.0              0.0                   1.0   \n",
       "4           0.0                 0.0              0.0                   1.0   \n",
       "\n",
       "   Education_Master  \n",
       "0               0.0  \n",
       "1               1.0  \n",
       "2               0.0  \n",
       "3               0.0  \n",
       "4               0.0  \n",
       "\n",
       "[5 rows x 21 columns]"
      ]
     },
     "execution_count": 488,
     "metadata": {},
     "output_type": "execute_result"
    }
   ],
   "source": [
    "train_xn.head()"
   ]
  },
  {
   "cell_type": "code",
   "execution_count": 638,
   "id": "9999774f-4d42-494b-929d-526b5cc0cfa6",
   "metadata": {},
   "outputs": [],
   "source": [
    "train_xn.drop(columns= ['Income'], axis=1, inplace=True)"
   ]
  },
  {
   "cell_type": "code",
   "execution_count": 639,
   "id": "5d8a9893-0071-42a1-8cd4-42bf689e3d2a",
   "metadata": {},
   "outputs": [
    {
     "data": {
      "text/html": [
       "<div>\n",
       "<style scoped>\n",
       "    .dataframe tbody tr th:only-of-type {\n",
       "        vertical-align: middle;\n",
       "    }\n",
       "\n",
       "    .dataframe tbody tr th {\n",
       "        vertical-align: top;\n",
       "    }\n",
       "\n",
       "    .dataframe thead th {\n",
       "        text-align: right;\n",
       "    }\n",
       "</style>\n",
       "<table border=\"1\" class=\"dataframe\">\n",
       "  <thead>\n",
       "    <tr style=\"text-align: right;\">\n",
       "      <th></th>\n",
       "      <th>Teenhome</th>\n",
       "      <th>Days</th>\n",
       "      <th>Recency</th>\n",
       "      <th>MntWines</th>\n",
       "      <th>MntFruits</th>\n",
       "      <th>MntMeatProducts</th>\n",
       "      <th>NumDealsPurchases</th>\n",
       "      <th>NumWebPurchases</th>\n",
       "      <th>NumCatalogPurchases</th>\n",
       "      <th>NumStorePurchases</th>\n",
       "      <th>AcceptedCmp3</th>\n",
       "      <th>AcceptedCmp4</th>\n",
       "      <th>AcceptedCmp5</th>\n",
       "      <th>AcceptedCmp1</th>\n",
       "      <th>AcceptedCmp2</th>\n",
       "      <th>Education_2n Cycle</th>\n",
       "      <th>Education_Basic</th>\n",
       "      <th>Marital_Status_Together</th>\n",
       "    </tr>\n",
       "  </thead>\n",
       "  <tbody>\n",
       "    <tr>\n",
       "      <th>0</th>\n",
       "      <td>0.0</td>\n",
       "      <td>0.500000</td>\n",
       "      <td>0.929293</td>\n",
       "      <td>0.011394</td>\n",
       "      <td>0.040201</td>\n",
       "      <td>0.006381</td>\n",
       "      <td>0.066667</td>\n",
       "      <td>0.08</td>\n",
       "      <td>0.035714</td>\n",
       "      <td>0.153846</td>\n",
       "      <td>0.0</td>\n",
       "      <td>0.0</td>\n",
       "      <td>0.0</td>\n",
       "      <td>0.0</td>\n",
       "      <td>0.0</td>\n",
       "      <td>0.0</td>\n",
       "      <td>0.0</td>\n",
       "      <td>0.0</td>\n",
       "    </tr>\n",
       "    <tr>\n",
       "      <th>1</th>\n",
       "      <td>0.5</td>\n",
       "      <td>0.542980</td>\n",
       "      <td>0.555556</td>\n",
       "      <td>0.007373</td>\n",
       "      <td>0.000000</td>\n",
       "      <td>0.005220</td>\n",
       "      <td>0.066667</td>\n",
       "      <td>0.04</td>\n",
       "      <td>0.035714</td>\n",
       "      <td>0.153846</td>\n",
       "      <td>0.0</td>\n",
       "      <td>0.0</td>\n",
       "      <td>0.0</td>\n",
       "      <td>0.0</td>\n",
       "      <td>0.0</td>\n",
       "      <td>0.0</td>\n",
       "      <td>0.0</td>\n",
       "      <td>0.0</td>\n",
       "    </tr>\n",
       "    <tr>\n",
       "      <th>2</th>\n",
       "      <td>0.5</td>\n",
       "      <td>0.936963</td>\n",
       "      <td>0.333333</td>\n",
       "      <td>0.248660</td>\n",
       "      <td>0.798995</td>\n",
       "      <td>0.111949</td>\n",
       "      <td>0.266667</td>\n",
       "      <td>0.16</td>\n",
       "      <td>0.107143</td>\n",
       "      <td>0.461538</td>\n",
       "      <td>0.0</td>\n",
       "      <td>0.0</td>\n",
       "      <td>0.0</td>\n",
       "      <td>0.0</td>\n",
       "      <td>0.0</td>\n",
       "      <td>0.0</td>\n",
       "      <td>0.0</td>\n",
       "      <td>0.0</td>\n",
       "    </tr>\n",
       "    <tr>\n",
       "      <th>3</th>\n",
       "      <td>0.0</td>\n",
       "      <td>0.226361</td>\n",
       "      <td>0.525253</td>\n",
       "      <td>0.272788</td>\n",
       "      <td>0.572864</td>\n",
       "      <td>0.257541</td>\n",
       "      <td>0.066667</td>\n",
       "      <td>0.12</td>\n",
       "      <td>0.250000</td>\n",
       "      <td>0.692308</td>\n",
       "      <td>0.0</td>\n",
       "      <td>0.0</td>\n",
       "      <td>0.0</td>\n",
       "      <td>1.0</td>\n",
       "      <td>0.0</td>\n",
       "      <td>0.0</td>\n",
       "      <td>0.0</td>\n",
       "      <td>0.0</td>\n",
       "    </tr>\n",
       "    <tr>\n",
       "      <th>4</th>\n",
       "      <td>1.0</td>\n",
       "      <td>0.638968</td>\n",
       "      <td>0.909091</td>\n",
       "      <td>0.573727</td>\n",
       "      <td>0.296482</td>\n",
       "      <td>0.281903</td>\n",
       "      <td>0.466667</td>\n",
       "      <td>0.08</td>\n",
       "      <td>0.178571</td>\n",
       "      <td>0.384615</td>\n",
       "      <td>0.0</td>\n",
       "      <td>0.0</td>\n",
       "      <td>0.0</td>\n",
       "      <td>0.0</td>\n",
       "      <td>0.0</td>\n",
       "      <td>0.0</td>\n",
       "      <td>0.0</td>\n",
       "      <td>1.0</td>\n",
       "    </tr>\n",
       "  </tbody>\n",
       "</table>\n",
       "</div>"
      ],
      "text/plain": [
       "   Teenhome      Days   Recency  MntWines  MntFruits  MntMeatProducts  \\\n",
       "0       0.0  0.500000  0.929293  0.011394   0.040201         0.006381   \n",
       "1       0.5  0.542980  0.555556  0.007373   0.000000         0.005220   \n",
       "2       0.5  0.936963  0.333333  0.248660   0.798995         0.111949   \n",
       "3       0.0  0.226361  0.525253  0.272788   0.572864         0.257541   \n",
       "4       1.0  0.638968  0.909091  0.573727   0.296482         0.281903   \n",
       "\n",
       "   NumDealsPurchases  NumWebPurchases  NumCatalogPurchases  NumStorePurchases  \\\n",
       "0           0.066667             0.08             0.035714           0.153846   \n",
       "1           0.066667             0.04             0.035714           0.153846   \n",
       "2           0.266667             0.16             0.107143           0.461538   \n",
       "3           0.066667             0.12             0.250000           0.692308   \n",
       "4           0.466667             0.08             0.178571           0.384615   \n",
       "\n",
       "   AcceptedCmp3  AcceptedCmp4  AcceptedCmp5  AcceptedCmp1  AcceptedCmp2  \\\n",
       "0           0.0           0.0           0.0           0.0           0.0   \n",
       "1           0.0           0.0           0.0           0.0           0.0   \n",
       "2           0.0           0.0           0.0           0.0           0.0   \n",
       "3           0.0           0.0           0.0           1.0           0.0   \n",
       "4           0.0           0.0           0.0           0.0           0.0   \n",
       "\n",
       "   Education_2n Cycle  Education_Basic  Marital_Status_Together  \n",
       "0                 0.0              0.0                      0.0  \n",
       "1                 0.0              0.0                      0.0  \n",
       "2                 0.0              0.0                      0.0  \n",
       "3                 0.0              0.0                      0.0  \n",
       "4                 0.0              0.0                      1.0  "
      ]
     },
     "execution_count": 639,
     "metadata": {},
     "output_type": "execute_result"
    }
   ],
   "source": [
    "train_xn.head()"
   ]
  },
  {
   "cell_type": "code",
   "execution_count": 640,
   "id": "c790b7d7-5691-4e2c-8e00-ab220731a4bf",
   "metadata": {},
   "outputs": [
    {
     "name": "stdout",
     "output_type": "stream",
     "text": [
      "                    feature       VIF\n",
      "0                  Teenhome  2.416650\n",
      "1                      Days  4.490619\n",
      "2                   Recency  2.829982\n",
      "3                  MntWines  5.772217\n",
      "4                 MntFruits  2.616834\n",
      "5           MntMeatProducts  4.046388\n",
      "6         NumDealsPurchases  3.644778\n",
      "7           NumWebPurchases  6.250624\n",
      "8       NumCatalogPurchases  5.289399\n",
      "9         NumStorePurchases  7.304037\n",
      "10             AcceptedCmp3  1.238490\n",
      "11             AcceptedCmp4  1.688009\n",
      "12             AcceptedCmp5  2.080496\n",
      "13             AcceptedCmp1  1.833729\n",
      "14             AcceptedCmp2  1.330255\n",
      "15       Education_2n Cycle  1.105873\n",
      "16          Education_Basic  1.039199\n",
      "17  Marital_Status_Together  1.296747\n"
     ]
    }
   ],
   "source": [
    "vif_data = pd.DataFrame()\n",
    "vif_data[\"feature\"] = train_xn.columns\n",
    "  \n",
    "# calculating VIF for each feature\n",
    "vif_data[\"VIF\"] = [variance_inflation_factor(train_xn.values, i)\n",
    "                          for i in range(len(train_xn.columns))]\n",
    "  \n",
    "print(vif_data)"
   ]
  },
  {
   "cell_type": "code",
   "execution_count": 641,
   "id": "9f3c2d62-57e5-4a3d-ada6-49b712f34aa3",
   "metadata": {},
   "outputs": [],
   "source": [
    "train_xn.drop(columns= ['NumWebPurchases'], axis=1, inplace=True)"
   ]
  },
  {
   "cell_type": "code",
   "execution_count": 642,
   "id": "7a9e6d81-9e24-4ce5-a5fb-1c530266f0f4",
   "metadata": {},
   "outputs": [
    {
     "name": "stdout",
     "output_type": "stream",
     "text": [
      "                    feature       VIF\n",
      "0                  Teenhome  2.385781\n",
      "1                      Days  4.266858\n",
      "2                   Recency  2.829982\n",
      "3                  MntWines  5.461794\n",
      "4                 MntFruits  2.565436\n",
      "5           MntMeatProducts  4.043861\n",
      "6         NumDealsPurchases  3.439080\n",
      "7       NumCatalogPurchases  5.256120\n",
      "8         NumStorePurchases  6.904243\n",
      "9              AcceptedCmp3  1.236271\n",
      "10             AcceptedCmp4  1.684508\n",
      "11             AcceptedCmp5  2.078047\n",
      "12             AcceptedCmp1  1.831744\n",
      "13             AcceptedCmp2  1.318379\n",
      "14       Education_2n Cycle  1.104286\n",
      "15          Education_Basic  1.038138\n",
      "16  Marital_Status_Together  1.293609\n"
     ]
    }
   ],
   "source": [
    "#calculate Variance Inflation Factor\n",
    "  \n",
    "vif_data = pd.DataFrame()\n",
    "vif_data[\"feature\"] = train_xn.columns\n",
    "  \n",
    "# calculating VIF for each feature\n",
    "vif_data[\"VIF\"] = [variance_inflation_factor(train_xn.values, i)\n",
    "                          for i in range(len(train_xn.columns))]\n",
    "  \n",
    "print(vif_data)"
   ]
  },
  {
   "cell_type": "code",
   "execution_count": 644,
   "id": "c4393eda-4054-4fea-b7e3-8143136eacd3",
   "metadata": {},
   "outputs": [],
   "source": [
    "train_xn.drop(columns= ['NumCatalogPurchases'], axis=1, inplace=True)"
   ]
  },
  {
   "cell_type": "code",
   "execution_count": 645,
   "id": "902936f1-9dfa-4d02-be43-2fb9bd6e9a97",
   "metadata": {},
   "outputs": [
    {
     "name": "stdout",
     "output_type": "stream",
     "text": [
      "                    feature       VIF\n",
      "0                  Teenhome  2.385685\n",
      "1                      Days  4.261919\n",
      "2                   Recency  2.817392\n",
      "3                  MntWines  5.130004\n",
      "4                 MntFruits  2.509508\n",
      "5           MntMeatProducts  3.380228\n",
      "6         NumDealsPurchases  3.437130\n",
      "7         NumStorePurchases  6.813195\n",
      "8              AcceptedCmp3  1.207013\n",
      "9              AcceptedCmp4  1.684237\n",
      "10             AcceptedCmp5  2.077566\n",
      "11             AcceptedCmp1  1.789226\n",
      "12             AcceptedCmp2  1.317825\n",
      "13       Education_2n Cycle  1.104281\n",
      "14          Education_Basic  1.036805\n",
      "15  Marital_Status_Together  1.291598\n"
     ]
    }
   ],
   "source": [
    "#calculate Variance Inflation Factor\n",
    "  \n",
    "vif_data = pd.DataFrame()\n",
    "vif_data[\"feature\"] = train_xn.columns\n",
    "  \n",
    "# calculating VIF for each feature\n",
    "vif_data[\"VIF\"] = [variance_inflation_factor(train_xn.values, i)\n",
    "                          for i in range(len(train_xn.columns))]\n",
    "  \n",
    "print(vif_data)"
   ]
  },
  {
   "cell_type": "code",
   "execution_count": 646,
   "id": "423dfe99-8feb-4b01-92bb-4e8a18d91138",
   "metadata": {},
   "outputs": [],
   "source": [
    "train_xn.drop(columns= ['NumStorePurchases'], axis=1, inplace=True)"
   ]
  },
  {
   "cell_type": "code",
   "execution_count": 647,
   "id": "fffc1367-38e0-4816-8132-ae568938ee50",
   "metadata": {},
   "outputs": [
    {
     "name": "stdout",
     "output_type": "stream",
     "text": [
      "                    feature       VIF\n",
      "0                  Teenhome  2.335275\n",
      "1                      Days  4.053557\n",
      "2                   Recency  2.685137\n",
      "3                  MntWines  4.559566\n",
      "4                 MntFruits  2.285519\n",
      "5           MntMeatProducts  3.276433\n",
      "6         NumDealsPurchases  3.335451\n",
      "7              AcceptedCmp3  1.198121\n",
      "8              AcceptedCmp4  1.681178\n",
      "9              AcceptedCmp5  2.076406\n",
      "10             AcceptedCmp1  1.788877\n",
      "11             AcceptedCmp2  1.305961\n",
      "12       Education_2n Cycle  1.095284\n",
      "13          Education_Basic  1.036772\n",
      "14  Marital_Status_Together  1.289793\n"
     ]
    }
   ],
   "source": [
    "#calculate Variance Inflation Factor\n",
    "vif_data = pd.DataFrame()\n",
    "vif_data[\"feature\"] = train_xn.columns\n",
    "  \n",
    "# calculating VIF for each feature\n",
    "vif_data[\"VIF\"] = [variance_inflation_factor(train_xn.values, i)\n",
    "                          for i in range(len(train_xn.columns))]\n",
    "  \n",
    "print(vif_data)"
   ]
  },
  {
   "cell_type": "code",
   "execution_count": 648,
   "id": "c3d7ca04-3425-4dc1-83c9-abc8bf376841",
   "metadata": {},
   "outputs": [
    {
     "name": "stdout",
     "output_type": "stream",
     "text": [
      "Optimization terminated successfully.\n",
      "         Current function value: 0.429094\n",
      "         Iterations 7\n",
      "                             Results: Logit\n",
      "========================================================================\n",
      "Model:                Logit              Pseudo R-squared:   0.381      \n",
      "Dependent Variable:   Response           AIC:                2316.2132  \n",
      "Date:                 2022-05-03 21:51   BIC:                2404.5270  \n",
      "No. Observations:     2664               Log-Likelihood:     -1143.1    \n",
      "Df Model:             14                 LL-Null:            -1846.5    \n",
      "Df Residuals:         2649               LLR p-value:        5.3792e-292\n",
      "Converged:            1.0000             Scale:              1.0000     \n",
      "No. Iterations:       7.0000                                            \n",
      "------------------------------------------------------------------------\n",
      "                         Coef.  Std.Err.    z     P>|z|   [0.025  0.975]\n",
      "------------------------------------------------------------------------\n",
      "Teenhome                -2.6899   0.2524 -10.6552 0.0000 -3.1846 -2.1951\n",
      "Days                     2.6176   0.1814  14.4281 0.0000  2.2620  2.9732\n",
      "Recency                 -3.6851   0.1908 -19.3122 0.0000 -4.0591 -3.3111\n",
      "MntWines                -0.7601   0.3333  -2.2809 0.0226 -1.4133 -0.1070\n",
      "MntFruits               -0.3954   0.3060  -1.2923 0.1963 -0.9951  0.2043\n",
      "MntMeatProducts          2.4413   0.5144   4.7457 0.0000  1.4330  3.4495\n",
      "NumDealsPurchases        2.3392   0.4401   5.3154 0.0000  1.4767  3.2017\n",
      "AcceptedCmp3             2.3448   0.2059  11.3893 0.0000  1.9413  2.7483\n",
      "AcceptedCmp4             1.1104   0.2115   5.2515 0.0000  0.6960  1.5249\n",
      "AcceptedCmp5             1.1517   0.2179   5.2857 0.0000  0.7247  1.5788\n",
      "AcceptedCmp1             1.4317   0.2200   6.5083 0.0000  1.0006  1.8629\n",
      "AcceptedCmp2             1.8446   0.4320   4.2699 0.0000  0.9979  2.6913\n",
      "Education_2n Cycle      -1.2703   0.2202  -5.7684 0.0000 -1.7019 -0.8387\n",
      "Education_Basic         -2.4715   0.4861  -5.0844 0.0000 -3.4242 -1.5188\n",
      "Marital_Status_Together -0.9778   0.1275  -7.6713 0.0000 -1.2277 -0.7280\n",
      "========================================================================\n",
      "\n"
     ]
    }
   ],
   "source": [
    "logit2=sm.Logit(train_y, train_xn)\n",
    "result2=logit2.fit()\n",
    "print(result2.summary2())"
   ]
  },
  {
   "cell_type": "code",
   "execution_count": 649,
   "id": "97de3c44-d75b-45e8-8f46-c2ea9c92c1c6",
   "metadata": {},
   "outputs": [],
   "source": [
    "train_xn.drop(columns= ['MntFruits'], axis=1, inplace=True)"
   ]
  },
  {
   "cell_type": "code",
   "execution_count": 650,
   "id": "4147048c-a315-4359-99dd-4fd47e325c05",
   "metadata": {},
   "outputs": [
    {
     "name": "stdout",
     "output_type": "stream",
     "text": [
      "Optimization terminated successfully.\n",
      "         Current function value: 0.429407\n",
      "         Iterations 7\n",
      "                             Results: Logit\n",
      "========================================================================\n",
      "Model:                Logit              Pseudo R-squared:   0.380      \n",
      "Dependent Variable:   Response           AIC:                2315.8792  \n",
      "Date:                 2022-05-03 21:52   BIC:                2398.3053  \n",
      "No. Observations:     2664               Log-Likelihood:     -1143.9    \n",
      "Df Model:             13                 LL-Null:            -1846.5    \n",
      "Df Residuals:         2650               LLR p-value:        1.1584e-292\n",
      "Converged:            1.0000             Scale:              1.0000     \n",
      "No. Iterations:       7.0000                                            \n",
      "------------------------------------------------------------------------\n",
      "                         Coef.  Std.Err.    z     P>|z|   [0.025  0.975]\n",
      "------------------------------------------------------------------------\n",
      "Teenhome                -2.6702   0.2514 -10.6221 0.0000 -3.1629 -2.1775\n",
      "Days                     2.5842   0.1790  14.4349 0.0000  2.2333  2.9350\n",
      "Recency                 -3.6946   0.1905 -19.3983 0.0000 -4.0679 -3.3213\n",
      "MntWines                -0.8260   0.3288  -2.5124 0.0120 -1.4705 -0.1816\n",
      "MntMeatProducts          2.1519   0.4621   4.6564 0.0000  1.2461  3.0577\n",
      "NumDealsPurchases        2.3884   0.4379   5.4543 0.0000  1.5302  3.2467\n",
      "AcceptedCmp3             2.3427   0.2057  11.3875 0.0000  1.9395  2.7459\n",
      "AcceptedCmp4             1.1379   0.2101   5.4158 0.0000  0.7261  1.5498\n",
      "AcceptedCmp5             1.1494   0.2180   5.2732 0.0000  0.7222  1.5767\n",
      "AcceptedCmp1             1.4335   0.2202   6.5109 0.0000  1.0020  1.8650\n",
      "AcceptedCmp2             1.8677   0.4319   4.3246 0.0000  1.0212  2.7141\n",
      "Education_2n Cycle      -1.2739   0.2194  -5.8069 0.0000 -1.7038 -0.8439\n",
      "Education_Basic         -2.4732   0.4859  -5.0899 0.0000 -3.4255 -1.5208\n",
      "Marital_Status_Together -0.9748   0.1274  -7.6527 0.0000 -1.2245 -0.7251\n",
      "========================================================================\n",
      "\n"
     ]
    }
   ],
   "source": [
    "logit3=sm.Logit(train_y, train_xn)\n",
    "result3=logit3.fit()\n",
    "print(result3.summary2())"
   ]
  },
  {
   "cell_type": "code",
   "execution_count": 653,
   "id": "50b3f8e7-46a5-414a-8232-10cd67ee35e8",
   "metadata": {},
   "outputs": [
    {
     "data": {
      "text/html": [
       "<div>\n",
       "<style scoped>\n",
       "    .dataframe tbody tr th:only-of-type {\n",
       "        vertical-align: middle;\n",
       "    }\n",
       "\n",
       "    .dataframe tbody tr th {\n",
       "        vertical-align: top;\n",
       "    }\n",
       "\n",
       "    .dataframe thead th {\n",
       "        text-align: right;\n",
       "    }\n",
       "</style>\n",
       "<table border=\"1\" class=\"dataframe\">\n",
       "  <thead>\n",
       "    <tr style=\"text-align: right;\">\n",
       "      <th></th>\n",
       "      <th>Odd Ratio</th>\n",
       "      <th>z-value</th>\n",
       "      <th>2.5%</th>\n",
       "      <th>97.5%</th>\n",
       "    </tr>\n",
       "  </thead>\n",
       "  <tbody>\n",
       "    <tr>\n",
       "      <th>Teenhome</th>\n",
       "      <td>0.069240</td>\n",
       "      <td>2.351686e-26</td>\n",
       "      <td>0.042304</td>\n",
       "      <td>0.113326</td>\n",
       "    </tr>\n",
       "    <tr>\n",
       "      <th>Days</th>\n",
       "      <td>13.252180</td>\n",
       "      <td>3.122692e-47</td>\n",
       "      <td>9.330465</td>\n",
       "      <td>18.822243</td>\n",
       "    </tr>\n",
       "    <tr>\n",
       "      <th>Recency</th>\n",
       "      <td>0.024857</td>\n",
       "      <td>7.977437e-84</td>\n",
       "      <td>0.017113</td>\n",
       "      <td>0.036105</td>\n",
       "    </tr>\n",
       "    <tr>\n",
       "      <th>MntWines</th>\n",
       "      <td>0.437777</td>\n",
       "      <td>1.199032e-02</td>\n",
       "      <td>0.229822</td>\n",
       "      <td>0.833900</td>\n",
       "    </tr>\n",
       "    <tr>\n",
       "      <th>MntMeatProducts</th>\n",
       "      <td>8.601237</td>\n",
       "      <td>3.217945e-06</td>\n",
       "      <td>3.476856</td>\n",
       "      <td>21.278212</td>\n",
       "    </tr>\n",
       "    <tr>\n",
       "      <th>NumDealsPurchases</th>\n",
       "      <td>10.896481</td>\n",
       "      <td>4.915296e-08</td>\n",
       "      <td>4.619001</td>\n",
       "      <td>25.705406</td>\n",
       "    </tr>\n",
       "    <tr>\n",
       "      <th>AcceptedCmp3</th>\n",
       "      <td>10.409196</td>\n",
       "      <td>4.825687e-30</td>\n",
       "      <td>6.955114</td>\n",
       "      <td>15.578662</td>\n",
       "    </tr>\n",
       "    <tr>\n",
       "      <th>AcceptedCmp4</th>\n",
       "      <td>3.120325</td>\n",
       "      <td>6.100233e-08</td>\n",
       "      <td>2.067052</td>\n",
       "      <td>4.710296</td>\n",
       "    </tr>\n",
       "    <tr>\n",
       "      <th>AcceptedCmp5</th>\n",
       "      <td>3.156429</td>\n",
       "      <td>1.340318e-07</td>\n",
       "      <td>2.058991</td>\n",
       "      <td>4.838799</td>\n",
       "    </tr>\n",
       "    <tr>\n",
       "      <th>AcceptedCmp1</th>\n",
       "      <td>4.193425</td>\n",
       "      <td>7.471252e-11</td>\n",
       "      <td>2.723689</td>\n",
       "      <td>6.456249</td>\n",
       "    </tr>\n",
       "    <tr>\n",
       "      <th>AcceptedCmp2</th>\n",
       "      <td>6.473270</td>\n",
       "      <td>1.527749e-05</td>\n",
       "      <td>2.776619</td>\n",
       "      <td>15.091458</td>\n",
       "    </tr>\n",
       "    <tr>\n",
       "      <th>Education_2n Cycle</th>\n",
       "      <td>0.279746</td>\n",
       "      <td>6.365066e-09</td>\n",
       "      <td>0.181984</td>\n",
       "      <td>0.430026</td>\n",
       "    </tr>\n",
       "    <tr>\n",
       "      <th>Education_Basic</th>\n",
       "      <td>0.084315</td>\n",
       "      <td>3.582060e-07</td>\n",
       "      <td>0.032532</td>\n",
       "      <td>0.218527</td>\n",
       "    </tr>\n",
       "    <tr>\n",
       "      <th>Marital_Status_Together</th>\n",
       "      <td>0.377269</td>\n",
       "      <td>1.968472e-14</td>\n",
       "      <td>0.293918</td>\n",
       "      <td>0.484259</td>\n",
       "    </tr>\n",
       "  </tbody>\n",
       "</table>\n",
       "</div>"
      ],
      "text/plain": [
       "                         Odd Ratio       z-value      2.5%      97.5%\n",
       "Teenhome                  0.069240  2.351686e-26  0.042304   0.113326\n",
       "Days                     13.252180  3.122692e-47  9.330465  18.822243\n",
       "Recency                   0.024857  7.977437e-84  0.017113   0.036105\n",
       "MntWines                  0.437777  1.199032e-02  0.229822   0.833900\n",
       "MntMeatProducts           8.601237  3.217945e-06  3.476856  21.278212\n",
       "NumDealsPurchases        10.896481  4.915296e-08  4.619001  25.705406\n",
       "AcceptedCmp3             10.409196  4.825687e-30  6.955114  15.578662\n",
       "AcceptedCmp4              3.120325  6.100233e-08  2.067052   4.710296\n",
       "AcceptedCmp5              3.156429  1.340318e-07  2.058991   4.838799\n",
       "AcceptedCmp1              4.193425  7.471252e-11  2.723689   6.456249\n",
       "AcceptedCmp2              6.473270  1.527749e-05  2.776619  15.091458\n",
       "Education_2n Cycle        0.279746  6.365066e-09  0.181984   0.430026\n",
       "Education_Basic           0.084315  3.582060e-07  0.032532   0.218527\n",
       "Marital_Status_Together   0.377269  1.968472e-14  0.293918   0.484259"
      ]
     },
     "execution_count": 653,
     "metadata": {},
     "output_type": "execute_result"
    }
   ],
   "source": [
    "#odd Ratio\n",
    "model_odds = pd.DataFrame(np.exp(result3.params), columns= ['Odd Ratio'])\n",
    "model_odds['z-value']= result3.pvalues\n",
    "model_odds[['2.5%', '97.5%']] = np.exp(result3.conf_int())\n",
    "model_odds"
   ]
  },
  {
   "cell_type": "markdown",
   "id": "dd4da915-8ad2-4ea0-bb83-a4e0fb446d4e",
   "metadata": {},
   "source": [
    "From the above odd ratio table, we could find that the length the customers stay with the company (Days), amount of meat products, number of deals purchases, the five campaigns have positive influence on customers’ magazine subscription. While number of teenagers (Teenhome), Recency, Amount of Wines, Education level of second cycle, education level of basic and marital status of together have negative correlation with magazine subscription. The top 3 positive variables are Length of customers stay with the company (days), Number of Deals purchases and Campaign 3. Therefore, in order to increase the subscription, the company should target more on the loyal customers who registered for a long time and customer who purchased more with deals. Also the marketing team should do more campaigns 3 to increase the subscription rate. The top 3 negative predictors are Recency, Teenhome and Education level of basic. Therefore, the company should do retargeting campaigns to reactivate those customers who have long time no engagements with company, and sales team should do more efforts converting those active customers. Customers with many teenagers and whose education level is basic are not the target audience for conversion."
   ]
  },
  {
   "cell_type": "code",
   "execution_count": 656,
   "id": "402ac75a-65e1-4075-b63b-600b48f8998f",
   "metadata": {},
   "outputs": [
    {
     "name": "stdout",
     "output_type": "stream",
     "text": [
      "Accuracy of logistic regression classifier on test set: 0.76\n"
     ]
    },
    {
     "name": "stderr",
     "output_type": "stream",
     "text": [
      "/Library/Frameworks/Python.framework/Versions/3.10/lib/python3.10/site-packages/sklearn/base.py:493: FutureWarning: The feature names should match those that were passed during fit. Starting version 1.2, an error will be raised.\n",
      "Feature names must be in the same order as they were in fit.\n",
      "\n",
      "  warnings.warn(message, FutureWarning)\n",
      "/Library/Frameworks/Python.framework/Versions/3.10/lib/python3.10/site-packages/sklearn/base.py:493: FutureWarning: The feature names should match those that were passed during fit. Starting version 1.2, an error will be raised.\n",
      "Feature names must be in the same order as they were in fit.\n",
      "\n",
      "  warnings.warn(message, FutureWarning)\n"
     ]
    }
   ],
   "source": [
    "#Model Accuracy\n",
    "from sklearn.linear_model import LogisticRegression\n",
    "from sklearn import metrics\n",
    "\n",
    "logreg = LogisticRegression()\n",
    "logreg.fit(train_xn, train_y)\n",
    "\n",
    "\n",
    "test_xn= test_x_scaled[['Teenhome', 'Days', 'Recency', 'MntWines', 'MntMeatProducts', 'NumDealsPurchases', 'AcceptedCmp1', 'AcceptedCmp2', 'AcceptedCmp5','AcceptedCmp3', 'AcceptedCmp4','Education_2n Cycle', 'Education_Basic', 'Marital_Status_Together']]\n",
    "y_pred = logreg.predict(test_xn)\n",
    "print('Accuracy of logistic regression classifier on test set: {:.2f}'.format(logreg.score(test_xn, test_y)))"
   ]
  },
  {
   "cell_type": "code",
   "execution_count": 657,
   "id": "78d3c6fd-0e4f-481c-9119-5f1ab8532979",
   "metadata": {},
   "outputs": [
    {
     "name": "stdout",
     "output_type": "stream",
     "text": [
      "[[443 131]\n",
      " [ 27  71]]\n"
     ]
    }
   ],
   "source": [
    "from sklearn.metrics import confusion_matrix\n",
    "confusion_matrix = confusion_matrix(test_y, y_pred)\n",
    "print(confusion_matrix)"
   ]
  },
  {
   "cell_type": "code",
   "execution_count": 662,
   "id": "8b9b1ff8-953a-4f49-bcdc-d4f059e2316c",
   "metadata": {},
   "outputs": [
    {
     "name": "stderr",
     "output_type": "stream",
     "text": [
      "/Library/Frameworks/Python.framework/Versions/3.10/lib/python3.10/site-packages/sklearn/utils/deprecation.py:87: FutureWarning: Function plot_confusion_matrix is deprecated; Function `plot_confusion_matrix` is deprecated in 1.0 and will be removed in 1.2. Use one of the class methods: ConfusionMatrixDisplay.from_predictions or ConfusionMatrixDisplay.from_estimator.\n",
      "  warnings.warn(msg, category=FutureWarning)\n",
      "/Library/Frameworks/Python.framework/Versions/3.10/lib/python3.10/site-packages/sklearn/base.py:493: FutureWarning: The feature names should match those that were passed during fit. Starting version 1.2, an error will be raised.\n",
      "Feature names must be in the same order as they were in fit.\n",
      "\n",
      "  warnings.warn(message, FutureWarning)\n"
     ]
    },
    {
     "data": {
      "text/plain": [
       "Text(0.5, 1.0, 'Confusion Matrix')"
      ]
     },
     "execution_count": 662,
     "metadata": {},
     "output_type": "execute_result"
    },
    {
     "data": {
      "image/png": "[encoded data removed]",
      "text/plain": [
       "<Figure size 432x288 with 2 Axes>"
      ]
     },
     "metadata": {
      "needs_background": "light"
     },
     "output_type": "display_data"
    }
   ],
   "source": [
    "#Confusion Matrix\n",
    "from sklearn.metrics import plot_confusion_matrix\n",
    "plot_confusion_matrix(estimator=logreg, X= test_xn, y_true = test_y)\n",
    "plt.xlabel('Predicted Label', fontsize = 14)\n",
    "plt.ylabel('True Label', fontsize = 14)\n",
    "plt.title('Confusion Matrix', fontsize = 14)"
   ]
  },
  {
   "cell_type": "code",
   "execution_count": 663,
   "id": "e7b6b228-3c32-48a0-97f5-3a6f59e2800c",
   "metadata": {},
   "outputs": [
    {
     "name": "stdout",
     "output_type": "stream",
     "text": [
      "              precision    recall  f1-score   support\n",
      "\n",
      "           0       0.94      0.77      0.85       574\n",
      "           1       0.35      0.72      0.47        98\n",
      "\n",
      "    accuracy                           0.76       672\n",
      "   macro avg       0.65      0.75      0.66       672\n",
      "weighted avg       0.86      0.76      0.79       672\n",
      "\n"
     ]
    }
   ],
   "source": [
    "from sklearn.metrics import classification_report\n",
    "print(classification_report(test_y, y_pred))"
   ]
  },
  {
   "cell_type": "code",
   "execution_count": 664,
   "id": "8643fbe0-45bb-4abb-a80b-5c5554ac3391",
   "metadata": {},
   "outputs": [
    {
     "name": "stdout",
     "output_type": "stream",
     "text": [
      "              precision    recall  f1-score   support\n",
      "\n",
      "           0       0.80      0.81      0.80      1332\n",
      "           1       0.81      0.79      0.80      1332\n",
      "\n",
      "    accuracy                           0.80      2664\n",
      "   macro avg       0.80      0.80      0.80      2664\n",
      "weighted avg       0.80      0.80      0.80      2664\n",
      "\n"
     ]
    }
   ],
   "source": [
    "y_predt = logreg.predict(train_xn)\n",
    "print(classification_report(train_y, y_predt))"
   ]
  },
  {
   "cell_type": "code",
   "execution_count": 665,
   "id": "91b7ed66-8108-4d07-91c8-631ffe03dbf1",
   "metadata": {},
   "outputs": [
    {
     "name": "stderr",
     "output_type": "stream",
     "text": [
      "/Library/Frameworks/Python.framework/Versions/3.10/lib/python3.10/site-packages/sklearn/base.py:493: FutureWarning: The feature names should match those that were passed during fit. Starting version 1.2, an error will be raised.\n",
      "Feature names must be in the same order as they were in fit.\n",
      "\n",
      "  warnings.warn(message, FutureWarning)\n",
      "/Library/Frameworks/Python.framework/Versions/3.10/lib/python3.10/site-packages/sklearn/base.py:493: FutureWarning: The feature names should match those that were passed during fit. Starting version 1.2, an error will be raised.\n",
      "Feature names must be in the same order as they were in fit.\n",
      "\n",
      "  warnings.warn(message, FutureWarning)\n"
     ]
    },
    {
     "data": {
      "image/png": "[encoded data removed]",
      "text/plain": [
       "<Figure size 432x288 with 1 Axes>"
      ]
     },
     "metadata": {
      "needs_background": "light"
     },
     "output_type": "display_data"
    }
   ],
   "source": [
    "from sklearn.metrics import roc_auc_score\n",
    "from sklearn.metrics import roc_curve\n",
    "\n",
    "logit_roc_auc = roc_auc_score(test_y, logreg.predict(test_xn))\n",
    "fpr, tpr, thresholds = roc_curve(test_y, logreg.predict_proba(test_xn)[:,1])\n",
    "plt.figure()\n",
    "plt.plot(fpr, tpr, label='Logistic Regression (area = %0.2f)' % logit_roc_auc)\n",
    "plt.plot([0, 1], [0, 1],'r--')\n",
    "plt.xlim([0.0, 1.0])\n",
    "plt.ylim([0.0, 1.05])\n",
    "plt.xlabel('False Positive Rate')\n",
    "plt.ylabel('True Positive Rate')\n",
    "plt.title('Receiver operating characteristic')\n",
    "plt.legend(loc=\"lower right\")\n",
    "plt.savefig('Log_ROC')\n",
    "plt.show()"
   ]
  },
  {
   "cell_type": "markdown",
   "id": "fa049b59-51ee-4b19-861b-dc1c6e6c3f15",
   "metadata": {},
   "source": [
    "The red line mean the true positive rate is equal to the false positive rate. The area above the red line are the points with higher true positive rate than false positive rate, therefore the further the blue line to the red line, the better the model. From this plot, we could see that the AUC of this model is 75% which is similar the accuracy score calculated previously."
   ]
  },
  {
   "cell_type": "code",
   "execution_count": 509,
   "id": "f0212800-06c3-4d2c-952e-10b8fd6f0c3d",
   "metadata": {},
   "outputs": [
    {
     "name": "stderr",
     "output_type": "stream",
     "text": [
      "/Library/Frameworks/Python.framework/Versions/3.10/lib/python3.10/site-packages/sklearn/base.py:493: FutureWarning: The feature names should match those that were passed during fit. Starting version 1.2, an error will be raised.\n",
      "Feature names must be in the same order as they were in fit.\n",
      "\n",
      "  warnings.warn(message, FutureWarning)\n"
     ]
    },
    {
     "data": {
      "text/plain": [
       "0.7633150821304131"
      ]
     },
     "execution_count": 509,
     "metadata": {},
     "output_type": "execute_result"
    }
   ],
   "source": [
    "roc_auc_score(test_y, logreg.predict(test_xn))"
   ]
  },
  {
   "cell_type": "code",
   "execution_count": 510,
   "id": "803c70da-df2b-4c47-934c-40bcb6389a1b",
   "metadata": {},
   "outputs": [
    {
     "name": "stderr",
     "output_type": "stream",
     "text": [
      "/Library/Frameworks/Python.framework/Versions/3.10/lib/python3.10/site-packages/sklearn/base.py:493: FutureWarning: The feature names should match those that were passed during fit. Starting version 1.2, an error will be raised.\n",
      "Feature names must be in the same order as they were in fit.\n",
      "\n",
      "  warnings.warn(message, FutureWarning)\n"
     ]
    },
    {
     "data": {
      "text/plain": [
       "0.7619047619047619"
      ]
     },
     "execution_count": 510,
     "metadata": {},
     "output_type": "execute_result"
    }
   ],
   "source": [
    "logreg.score(test_xn, test_y)"
   ]
  },
  {
   "cell_type": "markdown",
   "id": "1185e788-bf04-4f39-9a05-9b32dee8e4bb",
   "metadata": {},
   "source": [
    "# Support Vector Machines"
   ]
  },
  {
   "cell_type": "code",
   "execution_count": 511,
   "id": "53a3986d-c941-47fe-8492-c0ad1d732a97",
   "metadata": {},
   "outputs": [
    {
     "data": {
      "text/html": [
       "<div>\n",
       "<style scoped>\n",
       "    .dataframe tbody tr th:only-of-type {\n",
       "        vertical-align: middle;\n",
       "    }\n",
       "\n",
       "    .dataframe tbody tr th {\n",
       "        vertical-align: top;\n",
       "    }\n",
       "\n",
       "    .dataframe thead th {\n",
       "        text-align: right;\n",
       "    }\n",
       "</style>\n",
       "<table border=\"1\" class=\"dataframe\">\n",
       "  <thead>\n",
       "    <tr style=\"text-align: right;\">\n",
       "      <th></th>\n",
       "      <th>Age</th>\n",
       "      <th>Income</th>\n",
       "      <th>Kidhome</th>\n",
       "      <th>Teenhome</th>\n",
       "      <th>Days</th>\n",
       "      <th>Recency</th>\n",
       "      <th>MntWines</th>\n",
       "      <th>MntFruits</th>\n",
       "      <th>MntMeatProducts</th>\n",
       "      <th>MntFishProducts</th>\n",
       "      <th>...</th>\n",
       "      <th>Education_2n Cycle</th>\n",
       "      <th>Education_Basic</th>\n",
       "      <th>Education_Graduation</th>\n",
       "      <th>Education_Master</th>\n",
       "      <th>Education_PhD</th>\n",
       "      <th>Marital_Status_Divorced</th>\n",
       "      <th>Marital_Status_Married</th>\n",
       "      <th>Marital_Status_Single</th>\n",
       "      <th>Marital_Status_Together</th>\n",
       "      <th>Marital_Status_Widow</th>\n",
       "    </tr>\n",
       "  </thead>\n",
       "  <tbody>\n",
       "    <tr>\n",
       "      <th>0</th>\n",
       "      <td>0.235294</td>\n",
       "      <td>0.186112</td>\n",
       "      <td>0.0</td>\n",
       "      <td>0.0</td>\n",
       "      <td>0.500000</td>\n",
       "      <td>0.929293</td>\n",
       "      <td>0.011394</td>\n",
       "      <td>0.040201</td>\n",
       "      <td>0.006381</td>\n",
       "      <td>0.042636</td>\n",
       "      <td>...</td>\n",
       "      <td>0.0</td>\n",
       "      <td>0.0</td>\n",
       "      <td>1.0</td>\n",
       "      <td>0.0</td>\n",
       "      <td>0.0</td>\n",
       "      <td>0.0</td>\n",
       "      <td>0.0</td>\n",
       "      <td>1.0</td>\n",
       "      <td>0.0</td>\n",
       "      <td>0.0</td>\n",
       "    </tr>\n",
       "    <tr>\n",
       "      <th>1</th>\n",
       "      <td>0.343137</td>\n",
       "      <td>0.166742</td>\n",
       "      <td>0.5</td>\n",
       "      <td>0.5</td>\n",
       "      <td>0.542980</td>\n",
       "      <td>0.555556</td>\n",
       "      <td>0.007373</td>\n",
       "      <td>0.000000</td>\n",
       "      <td>0.005220</td>\n",
       "      <td>0.000000</td>\n",
       "      <td>...</td>\n",
       "      <td>0.0</td>\n",
       "      <td>0.0</td>\n",
       "      <td>0.0</td>\n",
       "      <td>1.0</td>\n",
       "      <td>0.0</td>\n",
       "      <td>0.0</td>\n",
       "      <td>1.0</td>\n",
       "      <td>0.0</td>\n",
       "      <td>0.0</td>\n",
       "      <td>0.0</td>\n",
       "    </tr>\n",
       "    <tr>\n",
       "      <th>2</th>\n",
       "      <td>0.245098</td>\n",
       "      <td>0.404570</td>\n",
       "      <td>0.0</td>\n",
       "      <td>0.5</td>\n",
       "      <td>0.936963</td>\n",
       "      <td>0.333333</td>\n",
       "      <td>0.248660</td>\n",
       "      <td>0.798995</td>\n",
       "      <td>0.111949</td>\n",
       "      <td>0.224806</td>\n",
       "      <td>...</td>\n",
       "      <td>0.0</td>\n",
       "      <td>0.0</td>\n",
       "      <td>1.0</td>\n",
       "      <td>0.0</td>\n",
       "      <td>0.0</td>\n",
       "      <td>0.0</td>\n",
       "      <td>0.0</td>\n",
       "      <td>0.0</td>\n",
       "      <td>0.0</td>\n",
       "      <td>1.0</td>\n",
       "    </tr>\n",
       "    <tr>\n",
       "      <th>3</th>\n",
       "      <td>0.362745</td>\n",
       "      <td>0.442997</td>\n",
       "      <td>0.0</td>\n",
       "      <td>0.0</td>\n",
       "      <td>0.226361</td>\n",
       "      <td>0.525253</td>\n",
       "      <td>0.272788</td>\n",
       "      <td>0.572864</td>\n",
       "      <td>0.257541</td>\n",
       "      <td>0.701550</td>\n",
       "      <td>...</td>\n",
       "      <td>0.0</td>\n",
       "      <td>0.0</td>\n",
       "      <td>1.0</td>\n",
       "      <td>0.0</td>\n",
       "      <td>0.0</td>\n",
       "      <td>0.0</td>\n",
       "      <td>1.0</td>\n",
       "      <td>0.0</td>\n",
       "      <td>0.0</td>\n",
       "      <td>0.0</td>\n",
       "    </tr>\n",
       "    <tr>\n",
       "      <th>4</th>\n",
       "      <td>0.245098</td>\n",
       "      <td>0.455128</td>\n",
       "      <td>0.5</td>\n",
       "      <td>1.0</td>\n",
       "      <td>0.638968</td>\n",
       "      <td>0.909091</td>\n",
       "      <td>0.573727</td>\n",
       "      <td>0.296482</td>\n",
       "      <td>0.281903</td>\n",
       "      <td>0.224806</td>\n",
       "      <td>...</td>\n",
       "      <td>0.0</td>\n",
       "      <td>0.0</td>\n",
       "      <td>1.0</td>\n",
       "      <td>0.0</td>\n",
       "      <td>0.0</td>\n",
       "      <td>0.0</td>\n",
       "      <td>0.0</td>\n",
       "      <td>0.0</td>\n",
       "      <td>1.0</td>\n",
       "      <td>0.0</td>\n",
       "    </tr>\n",
       "  </tbody>\n",
       "</table>\n",
       "<p>5 rows × 33 columns</p>\n",
       "</div>"
      ],
      "text/plain": [
       "        Age    Income  Kidhome  Teenhome      Days   Recency  MntWines  \\\n",
       "0  0.235294  0.186112      0.0       0.0  0.500000  0.929293  0.011394   \n",
       "1  0.343137  0.166742      0.5       0.5  0.542980  0.555556  0.007373   \n",
       "2  0.245098  0.404570      0.0       0.5  0.936963  0.333333  0.248660   \n",
       "3  0.362745  0.442997      0.0       0.0  0.226361  0.525253  0.272788   \n",
       "4  0.245098  0.455128      0.5       1.0  0.638968  0.909091  0.573727   \n",
       "\n",
       "   MntFruits  MntMeatProducts  MntFishProducts  ...  Education_2n Cycle  \\\n",
       "0   0.040201         0.006381         0.042636  ...                 0.0   \n",
       "1   0.000000         0.005220         0.000000  ...                 0.0   \n",
       "2   0.798995         0.111949         0.224806  ...                 0.0   \n",
       "3   0.572864         0.257541         0.701550  ...                 0.0   \n",
       "4   0.296482         0.281903         0.224806  ...                 0.0   \n",
       "\n",
       "   Education_Basic  Education_Graduation  Education_Master  Education_PhD  \\\n",
       "0              0.0                   1.0               0.0            0.0   \n",
       "1              0.0                   0.0               1.0            0.0   \n",
       "2              0.0                   1.0               0.0            0.0   \n",
       "3              0.0                   1.0               0.0            0.0   \n",
       "4              0.0                   1.0               0.0            0.0   \n",
       "\n",
       "   Marital_Status_Divorced  Marital_Status_Married  Marital_Status_Single  \\\n",
       "0                      0.0                     0.0                    1.0   \n",
       "1                      0.0                     1.0                    0.0   \n",
       "2                      0.0                     0.0                    0.0   \n",
       "3                      0.0                     1.0                    0.0   \n",
       "4                      0.0                     0.0                    0.0   \n",
       "\n",
       "   Marital_Status_Together  Marital_Status_Widow  \n",
       "0                      0.0                   0.0  \n",
       "1                      0.0                   0.0  \n",
       "2                      0.0                   1.0  \n",
       "3                      0.0                   0.0  \n",
       "4                      1.0                   0.0  \n",
       "\n",
       "[5 rows x 33 columns]"
      ]
     },
     "execution_count": 511,
     "metadata": {},
     "output_type": "execute_result"
    }
   ],
   "source": [
    "train_x_scaled.head()"
   ]
  },
  {
   "cell_type": "code",
   "execution_count": 512,
   "id": "6f9f4e64-d6c2-4ccc-8307-18b2bfd3ffef",
   "metadata": {},
   "outputs": [
    {
     "data": {
      "text/plain": [
       "SVC(random_state=1)"
      ]
     },
     "execution_count": 512,
     "metadata": {},
     "output_type": "execute_result"
    }
   ],
   "source": [
    "#Build a Preliminary Support Vector Machine\n",
    "\n",
    "from sklearn.svm import SVC\n",
    "\n",
    "svm = SVC(random_state = 1,kernel = 'rbf')\n",
    "svm.fit(train_x_scaled, train_y)"
   ]
  },
  {
   "cell_type": "code",
   "execution_count": 513,
   "id": "76df070f-a741-40d9-b73c-9e84d4ee5294",
   "metadata": {},
   "outputs": [
    {
     "name": "stderr",
     "output_type": "stream",
     "text": [
      "/Library/Frameworks/Python.framework/Versions/3.10/lib/python3.10/site-packages/sklearn/utils/deprecation.py:87: FutureWarning: Function plot_confusion_matrix is deprecated; Function `plot_confusion_matrix` is deprecated in 1.0 and will be removed in 1.2. Use one of the class methods: ConfusionMatrixDisplay.from_predictions or ConfusionMatrixDisplay.from_estimator.\n",
      "  warnings.warn(msg, category=FutureWarning)\n"
     ]
    },
    {
     "data": {
      "text/plain": [
       "<sklearn.metrics._plot.confusion_matrix.ConfusionMatrixDisplay at 0x28a014070>"
      ]
     },
     "execution_count": 513,
     "metadata": {},
     "output_type": "execute_result"
    },
    {
     "data": {
      "image/png": "[encoded data removed]",
      "text/plain": [
       "<Figure size 432x288 with 2 Axes>"
      ]
     },
     "metadata": {
      "needs_background": "light"
     },
     "output_type": "display_data"
    }
   ],
   "source": [
    "plot_confusion_matrix(svm, test_x_scaled, test_y, values_format = 'd', display_labels=['Did not response', 'Responsed'])"
   ]
  },
  {
   "cell_type": "code",
   "execution_count": 514,
   "id": "8d80e6b9-b6e2-4707-9c33-7744d426fbc0",
   "metadata": {},
   "outputs": [
    {
     "name": "stdout",
     "output_type": "stream",
     "text": [
      "              precision    recall  f1-score   support\n",
      "\n",
      "           0       0.94      0.83      0.88       574\n",
      "           1       0.42      0.69      0.52        98\n",
      "\n",
      "    accuracy                           0.81       672\n",
      "   macro avg       0.68      0.76      0.70       672\n",
      "weighted avg       0.86      0.81      0.83       672\n",
      "\n"
     ]
    }
   ],
   "source": [
    "y_svmpred = svm.predict(test_x_scaled)\n",
    "print(classification_report(test_y, y_svmpred))"
   ]
  },
  {
   "cell_type": "code",
   "execution_count": 666,
   "id": "45739258-ea7b-4a4a-a630-88cb91c644f9",
   "metadata": {},
   "outputs": [
    {
     "name": "stdout",
     "output_type": "stream",
     "text": [
      "{'C': 10, 'gamma': 1, 'kernel': 'rbf'}\n"
     ]
    }
   ],
   "source": [
    "#Optimize Parameters with Cross Validation\n",
    "from sklearn.model_selection import GridSearchCV\n",
    "\n",
    "param_grid =[\n",
    "    {'C': [0.01, 0.1, 0.5, 1, 10, 100], #C must be >0\n",
    "     'gamma': ['scale', 1, 0.1, 0.01, 0.001, 0.0001], \n",
    "     'kernel': ['rbf']}\n",
    "]\n",
    "\n",
    "optimal_parameter = GridSearchCV(\n",
    "    SVC(),\n",
    "    param_grid,\n",
    "    cv =5,\n",
    "    scoring = 'accuracy',\n",
    "    verbose =0)\n",
    "\n",
    "optimal_parameter.fit(train_x_scaled, train_y)\n",
    "print(optimal_parameter.best_params_)"
   ]
  },
  {
   "cell_type": "code",
   "execution_count": 667,
   "id": "18b67e9f-5cf0-473d-a732-72e63e8c9c23",
   "metadata": {},
   "outputs": [
    {
     "name": "stdout",
     "output_type": "stream",
     "text": [
      "{'C': 10, 'gamma': 1, 'kernel': 'rbf'}\n"
     ]
    }
   ],
   "source": [
    "#Optimize Parameters with Cross Validation\n",
    "\n",
    "param_grid =[\n",
    "    {'C': [0.01, 0.1, 0.5, 1, 10, 100], #C must be >0\n",
    "     'gamma': ['scale', 1, 0.1, 0.01, 0.001, 0.0001], \n",
    "     'kernel': ['rbf']}\n",
    "]\n",
    "\n",
    "optimal_parameter = GridSearchCV(\n",
    "    SVC(),\n",
    "    param_grid,\n",
    "    cv =5,\n",
    "    scoring = 'f1_macro',\n",
    "    verbose =0)\n",
    "\n",
    "optimal_parameter.fit(train_x_scaled, train_y)\n",
    "print(optimal_parameter.best_params_)"
   ]
  },
  {
   "cell_type": "code",
   "execution_count": 668,
   "id": "82cf7598-9a62-455e-9fc7-3a33d0bb4cd1",
   "metadata": {},
   "outputs": [
    {
     "name": "stdout",
     "output_type": "stream",
     "text": [
      "{'C': 10, 'gamma': 1, 'kernel': 'rbf'}\n"
     ]
    }
   ],
   "source": [
    "#Optimize Parameters with Cross Validation\n",
    "\n",
    "param_grid =[\n",
    "    {'C': [0.01, 0.1, 0.5, 1, 10, 100], #C must be >0\n",
    "     'gamma': ['scale', 1, 0.1, 0.01, 0.001, 0.0001], \n",
    "     'kernel': ['rbf']}\n",
    "]\n",
    "\n",
    "optimal_parameter = GridSearchCV(\n",
    "    SVC(),\n",
    "    param_grid,\n",
    "    cv =5,\n",
    "    scoring = 'roc_auc',\n",
    "    verbose =0)\n",
    "\n",
    "optimal_parameter.fit(train_x_scaled, train_y)\n",
    "print(optimal_parameter.best_params_)"
   ]
  },
  {
   "cell_type": "code",
   "execution_count": 669,
   "id": "262a2b6c-9f25-4221-bb4b-525fffb40ff4",
   "metadata": {},
   "outputs": [
    {
     "data": {
      "text/plain": [
       "SVC(C=10, gamma=1, random_state=11)"
      ]
     },
     "execution_count": 669,
     "metadata": {},
     "output_type": "execute_result"
    }
   ],
   "source": [
    "#Tuning SVM model\n",
    "\n",
    "svm2 = SVC(random_state=11, C=10, gamma = 1, kernel = 'rbf')\n",
    "svm2.fit(train_x_scaled, train_y)"
   ]
  },
  {
   "cell_type": "code",
   "execution_count": 671,
   "id": "aeff8705-78c9-4bf6-867b-cf54e9285964",
   "metadata": {},
   "outputs": [
    {
     "data": {
      "text/plain": [
       "(672, 33)"
      ]
     },
     "execution_count": 671,
     "metadata": {},
     "output_type": "execute_result"
    }
   ],
   "source": [
    "test_x_scaled.shape"
   ]
  },
  {
   "cell_type": "code",
   "execution_count": 672,
   "id": "44828039-953f-4792-8f7d-e1add03da39f",
   "metadata": {},
   "outputs": [
    {
     "name": "stderr",
     "output_type": "stream",
     "text": [
      "/Library/Frameworks/Python.framework/Versions/3.10/lib/python3.10/site-packages/sklearn/utils/deprecation.py:87: FutureWarning: Function plot_confusion_matrix is deprecated; Function `plot_confusion_matrix` is deprecated in 1.0 and will be removed in 1.2. Use one of the class methods: ConfusionMatrixDisplay.from_predictions or ConfusionMatrixDisplay.from_estimator.\n",
      "  warnings.warn(msg, category=FutureWarning)\n"
     ]
    },
    {
     "data": {
      "text/plain": [
       "<sklearn.metrics._plot.confusion_matrix.ConfusionMatrixDisplay at 0x294a49ff0>"
      ]
     },
     "execution_count": 672,
     "metadata": {},
     "output_type": "execute_result"
    },
    {
     "data": {
      "image/png": "[encoded data removed]",
      "text/plain": [
       "<Figure size 432x288 with 2 Axes>"
      ]
     },
     "metadata": {
      "needs_background": "light"
     },
     "output_type": "display_data"
    }
   ],
   "source": [
    "plot_confusion_matrix(svm2, test_x_scaled, test_y, values_format = 'd', display_labels=['Did not response', 'Responsed'])"
   ]
  },
  {
   "cell_type": "code",
   "execution_count": 526,
   "id": "8648fe5f-f3aa-4a9f-95e0-0aa6e28ea8f3",
   "metadata": {},
   "outputs": [
    {
     "name": "stdout",
     "output_type": "stream",
     "text": [
      "              precision    recall  f1-score   support\n",
      "\n",
      "           0       0.89      0.90      0.90       574\n",
      "           1       0.39      0.37      0.38        98\n",
      "\n",
      "    accuracy                           0.82       672\n",
      "   macro avg       0.64      0.63      0.64       672\n",
      "weighted avg       0.82      0.82      0.82       672\n",
      "\n"
     ]
    }
   ],
   "source": [
    "y_svmpred2 = svm2.predict(test_x_scaled)\n",
    "print(classification_report(test_y, y_svmpred2))"
   ]
  },
  {
   "cell_type": "code",
   "execution_count": 527,
   "id": "aef73725-99da-4272-9c7b-a08914740711",
   "metadata": {},
   "outputs": [
    {
     "name": "stdout",
     "output_type": "stream",
     "text": [
      "              precision    recall  f1-score   support\n",
      "\n",
      "           0       1.00      0.99      0.99      1332\n",
      "           1       0.99      1.00      0.99      1332\n",
      "\n",
      "    accuracy                           0.99      2664\n",
      "   macro avg       0.99      0.99      0.99      2664\n",
      "weighted avg       0.99      0.99      0.99      2664\n",
      "\n"
     ]
    }
   ],
   "source": [
    "y_svmpredt2 = svm2.predict(train_x_scaled)\n",
    "print(classification_report(train_y, y_svmpredt2))"
   ]
  },
  {
   "cell_type": "code",
   "execution_count": 674,
   "id": "f1712c20-37a8-4de0-a09f-6b2d0b35e86d",
   "metadata": {},
   "outputs": [
    {
     "name": "stdout",
     "output_type": "stream",
     "text": [
      "Precision: 0.3870967741935484\n",
      "\n",
      "\n",
      "Recall: 0.3673469387755102\n",
      "\n",
      "\n"
     ]
    }
   ],
   "source": [
    "# Model Precision\n",
    "print(\"Precision:\", metrics.precision_score(test_y, y_svmpred2))\n",
    "print('\\n')\n",
    "\n",
    "# Model Recall\n",
    "print(\"Recall:\", metrics.recall_score(test_y, y_svmpred2))\n",
    "print('\\n')"
   ]
  },
  {
   "cell_type": "code",
   "execution_count": 675,
   "id": "9c7eeaa7-7225-4ff7-bc16-4c5a179edc7b",
   "metadata": {},
   "outputs": [
    {
     "name": "stdout",
     "output_type": "stream",
     "text": [
      "Precision: 0.4171779141104294\n",
      "\n",
      "\n",
      "Recall: 0.6938775510204082\n",
      "\n",
      "\n"
     ]
    }
   ],
   "source": [
    "# Model Precision\n",
    "print(\"Precision:\", metrics.precision_score(test_y, y_svmpred))\n",
    "print('\\n')\n",
    "\n",
    "# Model Recall\n",
    "print(\"Recall:\", metrics.recall_score(test_y, y_svmpred))\n",
    "print('\\n')"
   ]
  },
  {
   "cell_type": "code",
   "execution_count": 676,
   "id": "60995952-545f-4d65-ab16-89ad1bdfd725",
   "metadata": {},
   "outputs": [
    {
     "data": {
      "text/plain": [
       "Text(0.5, 0, 'Permutation Importance')"
      ]
     },
     "execution_count": 676,
     "metadata": {},
     "output_type": "execute_result"
    },
    {
     "data": {
      "image/png": "[encoded data removed]",
      "text/plain": [
       "<Figure size 1080x1080 with 1 Axes>"
      ]
     },
     "metadata": {
      "needs_background": "light"
     },
     "output_type": "display_data"
    }
   ],
   "source": [
    "from sklearn.inspection import permutation_importance\n",
    "\n",
    "%matplotlib inline\n",
    "\n",
    "perm_importance = permutation_importance(svm, test_x_scaled, test_y)\n",
    "\n",
    "feature_names = test_x_scaled.columns\n",
    "features = np.array(feature_names)\n",
    "\n",
    "sorted_idx = perm_importance.importances_mean.argsort()\n",
    "plt.figure(figsize = (15,15))\n",
    "plt.barh(features[sorted_idx], perm_importance.importances_mean[sorted_idx])\n",
    "plt.xlabel(\"Permutation Importance\")"
   ]
  },
  {
   "cell_type": "code",
   "execution_count": 677,
   "id": "653db342-421e-4cab-b074-f81316a14f6e",
   "metadata": {},
   "outputs": [
    {
     "data": {
      "text/plain": [
       "Text(0.5, 0, 'Permutation Importance')"
      ]
     },
     "execution_count": 677,
     "metadata": {},
     "output_type": "execute_result"
    },
    {
     "data": {
      "image/png": "[encoded data removed]",
      "text/plain": [
       "<Figure size 1080x1080 with 1 Axes>"
      ]
     },
     "metadata": {
      "needs_background": "light"
     },
     "output_type": "display_data"
    }
   ],
   "source": [
    "from sklearn.inspection import permutation_importance\n",
    "\n",
    "%matplotlib inline\n",
    "\n",
    "perm_importance = permutation_importance(svm2, test_x_scaled, test_y)\n",
    "\n",
    "feature_names = test_x_scaled.columns\n",
    "features = np.array(feature_names)\n",
    "\n",
    "sorted_idx = perm_importance.importances_mean.argsort()\n",
    "plt.figure(figsize = (15,15))\n",
    "plt.barh(features[sorted_idx], perm_importance.importances_mean[sorted_idx])\n",
    "plt.xlabel(\"Permutation Importance\")"
   ]
  },
  {
   "cell_type": "markdown",
   "id": "6a62c003-fd7f-4bf8-ba96-25eeaead5695",
   "metadata": {},
   "source": [
    "I plot the feature permutation importance as below. The top of the features are with the highest importance. The negative values represent that those variables need to have more noisy data to make model have higher accuracy, while these features are not important to the target variable"
   ]
  },
  {
   "cell_type": "markdown",
   "id": "ddd269c3-5fc7-4c80-ae1c-fec5ef2aeb27",
   "metadata": {},
   "source": [
    "From the graph, we could see that in the SVM model, the top 3 most important predictors are Recency, Campaign 3 and length of the customers stay with the company (Days). The top 3 variables which do not have much influence on magazine subscription are Education level of Master, Education level of Graduation and Number of Web Visits Month. The importance does not show the correlations, but the top 3 most important predictors are the same as the logistic regression model. Therefore, I still recommend the company to do more retargeting campaigns to reactive those customers who have long recency, and do more campaign 3 to increase magazine subscriptions. Moreover, the company should provide more investment in the customers who stay longer with them. Those the loyal customers and are relatively easy to be convert."
   ]
  },
  {
   "cell_type": "code",
   "execution_count": null,
   "id": "aaddac15-6609-4270-8a0e-bb5392d21b79",
   "metadata": {},
   "outputs": [],
   "source": []
  }
 ],
 "metadata": {
  "kernelspec": {
   "display_name": "Python 3 (ipykernel)",
   "language": "python",
   "name": "python3"
  },
  "language_info": {
   "codemirror_mode": {
    "name": "ipython",
    "version": 3
   },
   "file_extension": ".py",
   "mimetype": "text/x-python",
   "name": "python",
   "nbconvert_exporter": "python",
   "pygments_lexer": "ipython3",
   "version": "3.9.12"
  }
 },
 "nbformat": 4,
 "nbformat_minor": 5
}
